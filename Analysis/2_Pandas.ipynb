{
 "cells": [
  {
   "cell_type": "code",
   "execution_count": 1,
   "id": "9835df71",
   "metadata": {},
   "outputs": [],
   "source": [
    "import numpy as np\n",
    "import pandas as pd"
   ]
  },
  {
   "cell_type": "code",
   "execution_count": 52,
   "id": "49cb897a",
   "metadata": {},
   "outputs": [],
   "source": [
    "data = np.array([0, 1, 2, 3, 4, 5, 6, 7, 8, 9, 10, 11])"
   ]
  },
  {
   "cell_type": "code",
   "execution_count": 53,
   "id": "8f4f3edb",
   "metadata": {},
   "outputs": [
    {
     "data": {
      "text/plain": [
       "array([[ 0,  1,  2,  3,  4,  5,  6,  7,  8,  9, 10, 11]])"
      ]
     },
     "execution_count": 53,
     "metadata": {},
     "output_type": "execute_result"
    }
   ],
   "source": [
    "data = np.stack([data])\n",
    "data"
   ]
  },
  {
   "cell_type": "code",
   "execution_count": 54,
   "id": "d03bbeef",
   "metadata": {},
   "outputs": [
    {
     "data": {
      "text/plain": [
       "array([[[ 0,  1,  2,  3,  4,  5,  6,  7,  8,  9, 10, 11]]])"
      ]
     },
     "execution_count": 54,
     "metadata": {},
     "output_type": "execute_result"
    }
   ],
   "source": [
    "data = np.stack([data])\n",
    "data"
   ]
  },
  {
   "cell_type": "code",
   "execution_count": 55,
   "id": "df568cf5",
   "metadata": {},
   "outputs": [
    {
     "data": {
      "text/plain": [
       "array([ 0,  1,  2,  3,  4,  5,  6,  7,  8,  9, 10, 11])"
      ]
     },
     "execution_count": 55,
     "metadata": {},
     "output_type": "execute_result"
    }
   ],
   "source": [
    "data = data.flatten()\n",
    "data"
   ]
  },
  {
   "cell_type": "code",
   "execution_count": 11,
   "id": "774fdd87",
   "metadata": {},
   "outputs": [],
   "source": [
    "a = np.random.randint(0, 10, (100, 200, 5))\n",
    "b = np.random.randint(0, 10, (100, 200, 2))"
   ]
  },
  {
   "cell_type": "code",
   "execution_count": 14,
   "id": "a8fb492c",
   "metadata": {},
   "outputs": [],
   "source": [
    "c = np.dstack([a, b])"
   ]
  },
  {
   "cell_type": "code",
   "execution_count": 16,
   "id": "f571333f",
   "metadata": {},
   "outputs": [
    {
     "data": {
      "text/plain": [
       "(100, 200, 7)"
      ]
     },
     "execution_count": 16,
     "metadata": {},
     "output_type": "execute_result"
    }
   ],
   "source": [
    "c.shape"
   ]
  },
  {
   "cell_type": "markdown",
   "id": "b5d636fa",
   "metadata": {},
   "source": [
    "# 1. Pandas에 제공하는 대표적인 자료구조\n",
    "\n",
    "- Series\n",
    "    - Index + 값\n",
    "    \n",
    "- DataFrame (=Table)\n",
    "    - 여러 개의 series를 묶어놓은 형태\n",
    "    - 데이터를 DataFrame에 넣는 것 = 전처리 과정"
   ]
  },
  {
   "cell_type": "markdown",
   "id": "87a8d1f0",
   "metadata": {},
   "source": [
    "# 2. Series\n",
    "\n",
    "- 1차원 배열데이터, Index + 값으로 출력\n",
    "\n",
    "        pd.Series(data=None, index=None, dtype: 'Dtype | None' = None,\n",
    "                  name=None, copy: 'bool' = False, fastpath: 'bool' = False,)"
   ]
  },
  {
   "cell_type": "code",
   "execution_count": 2,
   "id": "e30f1f8e",
   "metadata": {},
   "outputs": [
    {
     "name": "stdout",
     "output_type": "stream",
     "text": [
      "0    9904312\n",
      "1    3448737\n",
      "2    2890451\n",
      "3    2466052\n",
      "dtype: int64\n",
      "<class 'pandas.core.series.Series'>\n"
     ]
    }
   ],
   "source": [
    "s = pd.Series([9904312, 3448737, 2890451, 2466052])\n",
    "print(s)\n",
    "print(type(s))"
   ]
  },
  {
   "cell_type": "code",
   "execution_count": 5,
   "id": "63879017",
   "metadata": {},
   "outputs": [
    {
     "name": "stdout",
     "output_type": "stream",
     "text": [
      "(0, 9904312)\n",
      "(1, 3448737)\n",
      "(2, 2890451)\n",
      "(3, 2466052)\n"
     ]
    }
   ],
   "source": [
    "for i in enumerate([9904312, 3448737, 2890451, 2466052]):\n",
    "    print(i)"
   ]
  },
  {
   "cell_type": "markdown",
   "id": "9818740a",
   "metadata": {},
   "source": [
    "## 1) 인덱스 활용\n",
    "\n",
    "- s.index.name : 인덱스에 이름 지정\n",
    "- s.name : series 전체에 이름 지정"
   ]
  },
  {
   "cell_type": "code",
   "execution_count": 56,
   "id": "eafea9c3",
   "metadata": {},
   "outputs": [
    {
     "name": "stdout",
     "output_type": "stream",
     "text": [
      "서울    9904312\n",
      "부산    3448737\n",
      "인천    2890451\n",
      "대구    2466052\n",
      "dtype: int64\n"
     ]
    }
   ],
   "source": [
    "#### 인덱스를 자유롭게 지정 ####\n",
    "\n",
    "s = pd.Series([9904312, 3448737, 2890451, 2466052], index=[\"서울\", \"부산\", \"인천\", \"대구\"])\n",
    "print(s)"
   ]
  },
  {
   "cell_type": "code",
   "execution_count": 57,
   "id": "ff85b525",
   "metadata": {},
   "outputs": [
    {
     "name": "stdout",
     "output_type": "stream",
     "text": [
      "[9904312 3448737 2890451 2466052] <class 'numpy.ndarray'>\n",
      "Index(['서울', '부산', '인천', '대구'], dtype='object')\n"
     ]
    }
   ],
   "source": [
    "#### 인덱스와 값을 별도로 추출 가능 ####\n",
    "\n",
    "print(s.values, type(s.values))\n",
    "print(s.index)"
   ]
  },
  {
   "cell_type": "code",
   "execution_count": 58,
   "id": "d62788c8",
   "metadata": {},
   "outputs": [
    {
     "name": "stdout",
     "output_type": "stream",
     "text": [
      "도시\n",
      "서울    9904312\n",
      "부산    3448737\n",
      "인천    2890451\n",
      "대구    2466052\n",
      "dtype: int64\n"
     ]
    }
   ],
   "source": [
    "#### 인덱스에 이름 지정 ####\n",
    "\n",
    "s.index.name = \"도시\"\n",
    "print(s)"
   ]
  },
  {
   "cell_type": "code",
   "execution_count": 59,
   "id": "6e908f3d",
   "metadata": {},
   "outputs": [
    {
     "name": "stdout",
     "output_type": "stream",
     "text": [
      "도시\n",
      "서울    9904312\n",
      "부산    3448737\n",
      "인천    2890451\n",
      "대구    2466052\n",
      "Name: 인구, dtype: int64\n"
     ]
    }
   ],
   "source": [
    "#### series 전체에 이름 지정 ####\n",
    "\n",
    "s.name = \"인구\"\n",
    "print(s)"
   ]
  },
  {
   "cell_type": "markdown",
   "id": "063b9cbf",
   "metadata": {},
   "source": [
    "## 2) 벡터화 연산"
   ]
  },
  {
   "cell_type": "code",
   "execution_count": 60,
   "id": "a0b36098",
   "metadata": {},
   "outputs": [
    {
     "data": {
      "text/plain": [
       "도시\n",
       "서울    99.04312\n",
       "부산    34.48737\n",
       "인천    28.90451\n",
       "대구    24.66052\n",
       "Name: 인구, dtype: float64"
      ]
     },
     "execution_count": 60,
     "metadata": {},
     "output_type": "execute_result"
    }
   ],
   "source": [
    "s / 100000"
   ]
  },
  {
   "cell_type": "markdown",
   "id": "8563a578",
   "metadata": {},
   "source": [
    "## 3)  Indexing\n",
    "\n",
    "- 숫자가 아닌 이름으로도 인덱싱 가능"
   ]
  },
  {
   "cell_type": "code",
   "execution_count": 61,
   "id": "0494ee4b",
   "metadata": {},
   "outputs": [
    {
     "name": "stdout",
     "output_type": "stream",
     "text": [
      "9904312 3448737\n",
      "9904312 3448737\n",
      "----------------------------------------\n",
      "도시\n",
      "서울    9904312\n",
      "대구    2466052\n",
      "부산    3448737\n",
      "Name: 인구, dtype: int64\n",
      "도시\n",
      "서울    9904312\n",
      "대구    2466052\n",
      "부산    3448737\n",
      "Name: 인구, dtype: int64\n",
      "----------------------------------------\n",
      "도시\n",
      "부산    3448737\n",
      "인천    2890451\n",
      "Name: 인구, dtype: int64\n",
      "----------------------------------------\n",
      "도시\n",
      "부산    3448737\n",
      "인천    2890451\n",
      "Name: 인구, dtype: int64\n",
      "도시\n",
      "부산    3448737\n",
      "인천    2890451\n",
      "Name: 인구, dtype: int64\n",
      "----------------------------------------\n",
      "3448737 , 9904312\n"
     ]
    }
   ],
   "source": [
    "print(s[0], s[1])\n",
    "print(s[\"서울\"], s[\"부산\"])\n",
    "print(\"----------------------------------------\")\n",
    "print(s[[0, 3, 1]])\n",
    "print(s[[\"서울\", \"대구\", \"부산\"]])\n",
    "print(\"----------------------------------------\")\n",
    "print(s[(s > 250e4) & (s < 500e4)])\n",
    "print(\"----------------------------------------\")\n",
    "print(s[1:3])\n",
    "print(s[\"부산\":\"인천\"])\n",
    "print(\"----------------------------------------\")\n",
    "print(s.부산, \",\", s.서울)"
   ]
  },
  {
   "cell_type": "markdown",
   "id": "8a5ffaf8",
   "metadata": {},
   "source": [
    "## 4) Series와 Dict"
   ]
  },
  {
   "cell_type": "code",
   "execution_count": 62,
   "id": "bb69cf8d",
   "metadata": {},
   "outputs": [
    {
     "name": "stdout",
     "output_type": "stream",
     "text": [
      "True\n",
      "False\n",
      "----------------------------------------\n",
      "[('서울', 9904312), ('부산', 3448737), ('인천', 2890451), ('대구', 2466052)]\n",
      "Index(['서울', '부산', '인천', '대구'], dtype='object', name='도시')\n",
      "[9904312 3448737 2890451 2466052]\n",
      "----------------------------------------\n",
      "서울    9631482\n",
      "부산    3448737\n",
      "인천    2632035\n",
      "대전    1490158\n",
      "dtype: int64\n"
     ]
    }
   ],
   "source": [
    "print(\"서울\" in s)\n",
    "print(\"대전\" in s)\n",
    "print(\"----------------------------------------\")\n",
    "print(list(s.items()))\n",
    "print(s.keys())  # = s.index\n",
    "print(s.values)\n",
    "print(\"----------------------------------------\")\n",
    "s2 = pd.Series({\"서울\":9631482, \"부산\":3448737, \"인천\":2632035, \"대전\":1490158})\n",
    "print(s2)"
   ]
  },
  {
   "cell_type": "markdown",
   "id": "b377bedb",
   "metadata": {},
   "source": [
    "## 5) 기타\n",
    "\n",
    "- 결측치 제거\n",
    "    - result.dropna()\n",
    "    - result.notnull() : true, false로 출력\n",
    "        - result[result.notnull()] : 인덱스로 활용"
   ]
  },
  {
   "cell_type": "code",
   "execution_count": 63,
   "id": "f2b17137",
   "metadata": {},
   "outputs": [
    {
     "name": "stdout",
     "output_type": "stream",
     "text": [
      "도시\n",
      "서울    9904312\n",
      "부산    3448737\n",
      "인천    2890451\n",
      "대구    2466052\n",
      "Name: 인구, dtype: int64\n",
      "----------------------------------------\n",
      "서울    9631482\n",
      "부산    3448737\n",
      "인천    2632035\n",
      "대전    1490158\n",
      "dtype: int64\n",
      "========================================\n",
      "대구         NaN\n",
      "대전         NaN\n",
      "부산         0.0\n",
      "서울    272830.0\n",
      "인천    258416.0\n",
      "dtype: float64\n",
      "----------------------------------------\n",
      "[272830      0 258416 975894]\n"
     ]
    }
   ],
   "source": [
    "#### 인덱스 기반 연산 ####\n",
    "\n",
    "print(s)\n",
    "print(\"----------------------------------------\")\n",
    "print(s2)\n",
    "print(\"========================================\")\n",
    "\n",
    "result = s - s2           # 같은 인덱스끼리 연산\n",
    "print(result)             # NaN : 결측치\n",
    "print(\"----------------------------------------\")\n",
    "print(s.values - s2.values)      # 순서대로 연산"
   ]
  },
  {
   "cell_type": "code",
   "execution_count": 64,
   "id": "b0e1fa99",
   "metadata": {},
   "outputs": [
    {
     "name": "stdout",
     "output_type": "stream",
     "text": [
      "부산         0.0\n",
      "서울    272830.0\n",
      "인천    258416.0\n",
      "dtype: float64\n"
     ]
    }
   ],
   "source": [
    "result.dropna(inplace=True)\n",
    "print(result)"
   ]
  },
  {
   "cell_type": "code",
   "execution_count": null,
   "id": "096cd01c",
   "metadata": {},
   "outputs": [],
   "source": []
  },
  {
   "cell_type": "code",
   "execution_count": 59,
   "id": "801363a8",
   "metadata": {},
   "outputs": [
    {
     "name": "stdout",
     "output_type": "stream",
     "text": [
      "부산         0.0\n",
      "서울    272830.0\n",
      "인천    258416.0\n",
      "dtype: float64\n",
      "----------------------------------------\n",
      "대구         NaN\n",
      "대전         NaN\n",
      "부산         0.0\n",
      "서울    272830.0\n",
      "인천    258416.0\n",
      "dtype: float64\n",
      "----------------------------------------\n",
      "대구    False\n",
      "대전    False\n",
      "부산     True\n",
      "서울     True\n",
      "인천     True\n",
      "dtype: bool\n",
      "----------------------------------------\n",
      "부산         0.0\n",
      "서울    272830.0\n",
      "인천    258416.0\n",
      "dtype: float64\n",
      "----------------------------------------\n",
      "대구         NaN\n",
      "대전         NaN\n",
      "부산         0.0\n",
      "서울    272830.0\n",
      "인천    258416.0\n",
      "dtype: float64\n",
      "========================================\n",
      "인구증가율\n",
      "대구         NaN\n",
      "대전         NaN\n",
      "부산    0.000000\n",
      "서울   -2.754659\n",
      "인천   -8.940335\n",
      "dtype: float64\n"
     ]
    }
   ],
   "source": [
    "#### 결측치 제거 ####\n",
    "\n",
    "print(result.dropna())\n",
    "print(\"----------------------------------------\")\n",
    "print(result)\n",
    "print(\"----------------------------------------\")\n",
    "print(result.notnull())     # true, false로 출력\n",
    "print(\"----------------------------------------\")\n",
    "print(result[result.notnull()])  # 인덱스로 활용\n",
    "print(\"----------------------------------------\")\n",
    "print(result)\n",
    "print(\"========================================\")\n",
    "\n",
    "#### s와 s2를 이용해서 인구 증가율 구하기\n",
    "#### (끝연도 - 시작연도)/시작연도 * 100\n",
    "result2 = (s2 - s) / s * 100\n",
    "print(\"인구증가율\")\n",
    "print(result2)"
   ]
  },
  {
   "cell_type": "code",
   "execution_count": 64,
   "id": "07bb06b1",
   "metadata": {
    "collapsed": true
   },
   "outputs": [
    {
     "name": "stdout",
     "output_type": "stream",
     "text": [
      "대구    1.410000\n",
      "대전         NaN\n",
      "부산    1.630000\n",
      "서울   -2.754659\n",
      "인천   -8.940335\n",
      "dtype: float64\n",
      "----------------------------------------\n",
      "대구    1.410000\n",
      "대전         NaN\n",
      "부산    1.630000\n",
      "서울   -2.754659\n",
      "인천   -8.940335\n",
      "dtype: float64\n",
      "----------------------------------------\n",
      "대구    1.410000\n",
      "대전         NaN\n",
      "부산    1.630000\n",
      "인천   -8.940335\n",
      "dtype: float64\n"
     ]
    }
   ],
   "source": [
    "#### 데이터 수정, 삭제, 갱신 ####\n",
    "\n",
    "#### 수정\n",
    "result2[\"부산\"] = 1.63\n",
    "print(result2)\n",
    "print(\"----------------------------------------\")\n",
    "#### 갱신\n",
    "result2[\"대구\"] = 1.41\n",
    "print(result2)\n",
    "print(\"----------------------------------------\")\n",
    "#### 삭제\n",
    "del result2[\"서울\"]\n",
    "print(result2)"
   ]
  },
  {
   "cell_type": "markdown",
   "id": "23186490",
   "metadata": {},
   "source": [
    "# 3. DataFrame\n",
    "\n",
    "- 2차원 배열데이터"
   ]
  },
  {
   "cell_type": "code",
   "execution_count": 65,
   "id": "53e6bf04",
   "metadata": {},
   "outputs": [],
   "source": [
    "data = {\n",
    "    \"2015\": [9904312, 3448737, 2890451, 2466052],  # 하나하나가 series\n",
    "    \"2010\": [9631482, 3393191, 2632035, 2431774],\n",
    "    \"2005\": [9762546, 3512547, 2517680, 2456016],\n",
    "    \"2000\": [9853972, 3655437, 2466338, 2473990],\n",
    "    \"지역\": [\"수도권\", \"경상권\", \"수도권\", \"경상권\"],\n",
    "    \"2010-2015 증가율\": [0.0283, 0.0163, 0.0982, 0.0141]\n",
    "}"
   ]
  },
  {
   "cell_type": "code",
   "execution_count": 73,
   "id": "40fe8e1e",
   "metadata": {},
   "outputs": [
    {
     "name": "stdout",
     "output_type": "stream",
     "text": [
      "<class 'pandas.core.frame.DataFrame'>\n"
     ]
    },
    {
     "data": {
      "text/html": [
       "<div>\n",
       "<style scoped>\n",
       "    .dataframe tbody tr th:only-of-type {\n",
       "        vertical-align: middle;\n",
       "    }\n",
       "\n",
       "    .dataframe tbody tr th {\n",
       "        vertical-align: top;\n",
       "    }\n",
       "\n",
       "    .dataframe thead th {\n",
       "        text-align: right;\n",
       "    }\n",
       "</style>\n",
       "<table border=\"1\" class=\"dataframe\">\n",
       "  <thead>\n",
       "    <tr style=\"text-align: right;\">\n",
       "      <th></th>\n",
       "      <th>2015</th>\n",
       "      <th>2010</th>\n",
       "      <th>2005</th>\n",
       "      <th>2000</th>\n",
       "      <th>지역</th>\n",
       "      <th>2010-2015 증가율</th>\n",
       "    </tr>\n",
       "  </thead>\n",
       "  <tbody>\n",
       "    <tr>\n",
       "      <th>0</th>\n",
       "      <td>9904312</td>\n",
       "      <td>9631482</td>\n",
       "      <td>9762546</td>\n",
       "      <td>9853972</td>\n",
       "      <td>수도권</td>\n",
       "      <td>0.0283</td>\n",
       "    </tr>\n",
       "    <tr>\n",
       "      <th>1</th>\n",
       "      <td>3448737</td>\n",
       "      <td>3393191</td>\n",
       "      <td>3512547</td>\n",
       "      <td>3655437</td>\n",
       "      <td>경상권</td>\n",
       "      <td>0.0163</td>\n",
       "    </tr>\n",
       "    <tr>\n",
       "      <th>2</th>\n",
       "      <td>2890451</td>\n",
       "      <td>2632035</td>\n",
       "      <td>2517680</td>\n",
       "      <td>2466338</td>\n",
       "      <td>수도권</td>\n",
       "      <td>0.0982</td>\n",
       "    </tr>\n",
       "    <tr>\n",
       "      <th>3</th>\n",
       "      <td>2466052</td>\n",
       "      <td>2431774</td>\n",
       "      <td>2456016</td>\n",
       "      <td>2473990</td>\n",
       "      <td>경상권</td>\n",
       "      <td>0.0141</td>\n",
       "    </tr>\n",
       "  </tbody>\n",
       "</table>\n",
       "</div>"
      ],
      "text/plain": [
       "      2015     2010     2005     2000   지역  2010-2015 증가율\n",
       "0  9904312  9631482  9762546  9853972  수도권         0.0283\n",
       "1  3448737  3393191  3512547  3655437  경상권         0.0163\n",
       "2  2890451  2632035  2517680  2466338  수도권         0.0982\n",
       "3  2466052  2431774  2456016  2473990  경상권         0.0141"
      ]
     },
     "execution_count": 73,
     "metadata": {},
     "output_type": "execute_result"
    }
   ],
   "source": [
    "df = pd.DataFrame(data)\n",
    "print(type(df))\n",
    "df         # 웹브라우저를 통해 출력"
   ]
  },
  {
   "cell_type": "markdown",
   "id": "8cbe4d8c",
   "metadata": {},
   "source": [
    "## 1) 컬럼의 순서(위치) 바꾸기"
   ]
  },
  {
   "cell_type": "code",
   "execution_count": 78,
   "id": "da38b707",
   "metadata": {},
   "outputs": [
    {
     "data": {
      "text/html": [
       "<div>\n",
       "<style scoped>\n",
       "    .dataframe tbody tr th:only-of-type {\n",
       "        vertical-align: middle;\n",
       "    }\n",
       "\n",
       "    .dataframe tbody tr th {\n",
       "        vertical-align: top;\n",
       "    }\n",
       "\n",
       "    .dataframe thead th {\n",
       "        text-align: right;\n",
       "    }\n",
       "</style>\n",
       "<table border=\"1\" class=\"dataframe\">\n",
       "  <thead>\n",
       "    <tr style=\"text-align: right;\">\n",
       "      <th></th>\n",
       "      <th>지역</th>\n",
       "      <th>2015</th>\n",
       "      <th>2010</th>\n",
       "      <th>2005</th>\n",
       "      <th>2000</th>\n",
       "      <th>2010-2015 증가율</th>\n",
       "    </tr>\n",
       "  </thead>\n",
       "  <tbody>\n",
       "    <tr>\n",
       "      <th>0</th>\n",
       "      <td>수도권</td>\n",
       "      <td>9904312</td>\n",
       "      <td>9631482</td>\n",
       "      <td>9762546</td>\n",
       "      <td>9853972</td>\n",
       "      <td>0.0283</td>\n",
       "    </tr>\n",
       "    <tr>\n",
       "      <th>1</th>\n",
       "      <td>경상권</td>\n",
       "      <td>3448737</td>\n",
       "      <td>3393191</td>\n",
       "      <td>3512547</td>\n",
       "      <td>3655437</td>\n",
       "      <td>0.0163</td>\n",
       "    </tr>\n",
       "    <tr>\n",
       "      <th>2</th>\n",
       "      <td>수도권</td>\n",
       "      <td>2890451</td>\n",
       "      <td>2632035</td>\n",
       "      <td>2517680</td>\n",
       "      <td>2466338</td>\n",
       "      <td>0.0982</td>\n",
       "    </tr>\n",
       "    <tr>\n",
       "      <th>3</th>\n",
       "      <td>경상권</td>\n",
       "      <td>2466052</td>\n",
       "      <td>2431774</td>\n",
       "      <td>2456016</td>\n",
       "      <td>2473990</td>\n",
       "      <td>0.0141</td>\n",
       "    </tr>\n",
       "  </tbody>\n",
       "</table>\n",
       "</div>"
      ],
      "text/plain": [
       "    지역     2015     2010     2005     2000  2010-2015 증가율\n",
       "0  수도권  9904312  9631482  9762546  9853972         0.0283\n",
       "1  경상권  3448737  3393191  3512547  3655437         0.0163\n",
       "2  수도권  2890451  2632035  2517680  2466338         0.0982\n",
       "3  경상권  2466052  2431774  2456016  2473990         0.0141"
      ]
     },
     "execution_count": 78,
     "metadata": {},
     "output_type": "execute_result"
    }
   ],
   "source": [
    "cols = ['지역', '2015', '2010', '2005', '2000', '2010-2015 증가율']\n",
    "\n",
    "df = pd.DataFrame(data, columns=cols)\n",
    "df"
   ]
  },
  {
   "cell_type": "code",
   "execution_count": 86,
   "id": "03e21386",
   "metadata": {},
   "outputs": [
    {
     "data": {
      "text/plain": [
       "Index(['지역', '2015', '2010', '2005', '2000', '2010-2015 증가율'], dtype='object')"
      ]
     },
     "execution_count": 86,
     "metadata": {},
     "output_type": "execute_result"
    }
   ],
   "source": [
    "?pd.DataFrame\n",
    "df.columns"
   ]
  },
  {
   "cell_type": "markdown",
   "id": "ad8a5d06",
   "metadata": {},
   "source": [
    "## 2) 인덱스 변경"
   ]
  },
  {
   "cell_type": "code",
   "execution_count": 87,
   "id": "0fef2226",
   "metadata": {
    "collapsed": true
   },
   "outputs": [
    {
     "name": "stdout",
     "output_type": "stream",
     "text": [
      "Index(['서울', '부산', '인천', '대구'], dtype='object')\n"
     ]
    },
    {
     "data": {
      "text/html": [
       "<div>\n",
       "<style scoped>\n",
       "    .dataframe tbody tr th:only-of-type {\n",
       "        vertical-align: middle;\n",
       "    }\n",
       "\n",
       "    .dataframe tbody tr th {\n",
       "        vertical-align: top;\n",
       "    }\n",
       "\n",
       "    .dataframe thead th {\n",
       "        text-align: right;\n",
       "    }\n",
       "</style>\n",
       "<table border=\"1\" class=\"dataframe\">\n",
       "  <thead>\n",
       "    <tr style=\"text-align: right;\">\n",
       "      <th></th>\n",
       "      <th>지역</th>\n",
       "      <th>2015</th>\n",
       "      <th>2010</th>\n",
       "      <th>2005</th>\n",
       "      <th>2000</th>\n",
       "      <th>2010-2015 증가율</th>\n",
       "    </tr>\n",
       "  </thead>\n",
       "  <tbody>\n",
       "    <tr>\n",
       "      <th>서울</th>\n",
       "      <td>수도권</td>\n",
       "      <td>9904312</td>\n",
       "      <td>9631482</td>\n",
       "      <td>9762546</td>\n",
       "      <td>9853972</td>\n",
       "      <td>0.0283</td>\n",
       "    </tr>\n",
       "    <tr>\n",
       "      <th>부산</th>\n",
       "      <td>경상권</td>\n",
       "      <td>3448737</td>\n",
       "      <td>3393191</td>\n",
       "      <td>3512547</td>\n",
       "      <td>3655437</td>\n",
       "      <td>0.0163</td>\n",
       "    </tr>\n",
       "    <tr>\n",
       "      <th>인천</th>\n",
       "      <td>수도권</td>\n",
       "      <td>2890451</td>\n",
       "      <td>2632035</td>\n",
       "      <td>2517680</td>\n",
       "      <td>2466338</td>\n",
       "      <td>0.0982</td>\n",
       "    </tr>\n",
       "    <tr>\n",
       "      <th>대구</th>\n",
       "      <td>경상권</td>\n",
       "      <td>2466052</td>\n",
       "      <td>2431774</td>\n",
       "      <td>2456016</td>\n",
       "      <td>2473990</td>\n",
       "      <td>0.0141</td>\n",
       "    </tr>\n",
       "  </tbody>\n",
       "</table>\n",
       "</div>"
      ],
      "text/plain": [
       "     지역     2015     2010     2005     2000  2010-2015 증가율\n",
       "서울  수도권  9904312  9631482  9762546  9853972         0.0283\n",
       "부산  경상권  3448737  3393191  3512547  3655437         0.0163\n",
       "인천  수도권  2890451  2632035  2517680  2466338         0.0982\n",
       "대구  경상권  2466052  2431774  2456016  2473990         0.0141"
      ]
     },
     "execution_count": 87,
     "metadata": {},
     "output_type": "execute_result"
    }
   ],
   "source": [
    "print(df.index)   # 기본 인덱스로 잡혀있음\n",
    "\n",
    "idx = [\"서울\", \"부산\", \"인천\", \"대구\"]\n",
    "\n",
    "# df = pd.DataFrame(data, idx, cols)\n",
    "df = pd.DataFrame(data=data, columns=cols, index=idx)\n",
    "df"
   ]
  },
  {
   "cell_type": "code",
   "execution_count": 88,
   "id": "a10cb770",
   "metadata": {},
   "outputs": [
    {
     "data": {
      "text/html": [
       "<div>\n",
       "<style scoped>\n",
       "    .dataframe tbody tr th:only-of-type {\n",
       "        vertical-align: middle;\n",
       "    }\n",
       "\n",
       "    .dataframe tbody tr th {\n",
       "        vertical-align: top;\n",
       "    }\n",
       "\n",
       "    .dataframe thead th {\n",
       "        text-align: right;\n",
       "    }\n",
       "</style>\n",
       "<table border=\"1\" class=\"dataframe\">\n",
       "  <thead>\n",
       "    <tr style=\"text-align: right;\">\n",
       "      <th>특성</th>\n",
       "      <th>지역</th>\n",
       "      <th>2015</th>\n",
       "      <th>2010</th>\n",
       "      <th>2005</th>\n",
       "      <th>2000</th>\n",
       "      <th>2010-2015 증가율</th>\n",
       "    </tr>\n",
       "    <tr>\n",
       "      <th>도시</th>\n",
       "      <th></th>\n",
       "      <th></th>\n",
       "      <th></th>\n",
       "      <th></th>\n",
       "      <th></th>\n",
       "      <th></th>\n",
       "    </tr>\n",
       "  </thead>\n",
       "  <tbody>\n",
       "    <tr>\n",
       "      <th>서울</th>\n",
       "      <td>수도권</td>\n",
       "      <td>9904312</td>\n",
       "      <td>9631482</td>\n",
       "      <td>9762546</td>\n",
       "      <td>9853972</td>\n",
       "      <td>0.0283</td>\n",
       "    </tr>\n",
       "    <tr>\n",
       "      <th>부산</th>\n",
       "      <td>경상권</td>\n",
       "      <td>3448737</td>\n",
       "      <td>3393191</td>\n",
       "      <td>3512547</td>\n",
       "      <td>3655437</td>\n",
       "      <td>0.0163</td>\n",
       "    </tr>\n",
       "    <tr>\n",
       "      <th>인천</th>\n",
       "      <td>수도권</td>\n",
       "      <td>2890451</td>\n",
       "      <td>2632035</td>\n",
       "      <td>2517680</td>\n",
       "      <td>2466338</td>\n",
       "      <td>0.0982</td>\n",
       "    </tr>\n",
       "    <tr>\n",
       "      <th>대구</th>\n",
       "      <td>경상권</td>\n",
       "      <td>2466052</td>\n",
       "      <td>2431774</td>\n",
       "      <td>2456016</td>\n",
       "      <td>2473990</td>\n",
       "      <td>0.0141</td>\n",
       "    </tr>\n",
       "  </tbody>\n",
       "</table>\n",
       "</div>"
      ],
      "text/plain": [
       "특성   지역     2015     2010     2005     2000  2010-2015 증가율\n",
       "도시                                                        \n",
       "서울  수도권  9904312  9631482  9762546  9853972         0.0283\n",
       "부산  경상권  3448737  3393191  3512547  3655437         0.0163\n",
       "인천  수도권  2890451  2632035  2517680  2466338         0.0982\n",
       "대구  경상권  2466052  2431774  2456016  2473990         0.0141"
      ]
     },
     "execution_count": 88,
     "metadata": {},
     "output_type": "execute_result"
    }
   ],
   "source": [
    "#### 컬럼과 인덱스에 이름 지정 ####\n",
    "\n",
    "df.index.name = \"도시\"\n",
    "df.columns.name = \"특성\"\n",
    "df"
   ]
  },
  {
   "cell_type": "code",
   "execution_count": 89,
   "id": "2ccb1c37",
   "metadata": {
    "collapsed": true
   },
   "outputs": [
    {
     "data": {
      "text/html": [
       "<div>\n",
       "<style scoped>\n",
       "    .dataframe tbody tr th:only-of-type {\n",
       "        vertical-align: middle;\n",
       "    }\n",
       "\n",
       "    .dataframe tbody tr th {\n",
       "        vertical-align: top;\n",
       "    }\n",
       "\n",
       "    .dataframe thead th {\n",
       "        text-align: right;\n",
       "    }\n",
       "</style>\n",
       "<table border=\"1\" class=\"dataframe\">\n",
       "  <thead>\n",
       "    <tr style=\"text-align: right;\">\n",
       "      <th>도시</th>\n",
       "      <th>서울</th>\n",
       "      <th>부산</th>\n",
       "      <th>인천</th>\n",
       "      <th>대구</th>\n",
       "    </tr>\n",
       "    <tr>\n",
       "      <th>특성</th>\n",
       "      <th></th>\n",
       "      <th></th>\n",
       "      <th></th>\n",
       "      <th></th>\n",
       "    </tr>\n",
       "  </thead>\n",
       "  <tbody>\n",
       "    <tr>\n",
       "      <th>지역</th>\n",
       "      <td>수도권</td>\n",
       "      <td>경상권</td>\n",
       "      <td>수도권</td>\n",
       "      <td>경상권</td>\n",
       "    </tr>\n",
       "    <tr>\n",
       "      <th>2015</th>\n",
       "      <td>9904312</td>\n",
       "      <td>3448737</td>\n",
       "      <td>2890451</td>\n",
       "      <td>2466052</td>\n",
       "    </tr>\n",
       "    <tr>\n",
       "      <th>2010</th>\n",
       "      <td>9631482</td>\n",
       "      <td>3393191</td>\n",
       "      <td>2632035</td>\n",
       "      <td>2431774</td>\n",
       "    </tr>\n",
       "    <tr>\n",
       "      <th>2005</th>\n",
       "      <td>9762546</td>\n",
       "      <td>3512547</td>\n",
       "      <td>2517680</td>\n",
       "      <td>2456016</td>\n",
       "    </tr>\n",
       "    <tr>\n",
       "      <th>2000</th>\n",
       "      <td>9853972</td>\n",
       "      <td>3655437</td>\n",
       "      <td>2466338</td>\n",
       "      <td>2473990</td>\n",
       "    </tr>\n",
       "    <tr>\n",
       "      <th>2010-2015 증가율</th>\n",
       "      <td>0.0283</td>\n",
       "      <td>0.0163</td>\n",
       "      <td>0.0982</td>\n",
       "      <td>0.0141</td>\n",
       "    </tr>\n",
       "  </tbody>\n",
       "</table>\n",
       "</div>"
      ],
      "text/plain": [
       "도시                  서울       부산       인천       대구\n",
       "특성                                               \n",
       "지역                 수도권      경상권      수도권      경상권\n",
       "2015           9904312  3448737  2890451  2466052\n",
       "2010           9631482  3393191  2632035  2431774\n",
       "2005           9762546  3512547  2517680  2456016\n",
       "2000           9853972  3655437  2466338  2473990\n",
       "2010-2015 증가율   0.0283   0.0163   0.0982   0.0141"
      ]
     },
     "execution_count": 89,
     "metadata": {},
     "output_type": "execute_result"
    }
   ],
   "source": [
    "#### 전치 가능 ####\n",
    "df.T"
   ]
  },
  {
   "cell_type": "markdown",
   "id": "03c5c2d5",
   "metadata": {},
   "source": [
    "## 3) Indexing"
   ]
  },
  {
   "cell_type": "markdown",
   "id": "cba1bc14",
   "metadata": {},
   "source": [
    "### (1) 열 인덱싱\n",
    "\n",
    "- 여러 열을 가져올 때 꼭 [[ ]] 두개로\n",
    "- df[0] : 컬럼의 이름이 지정됐으면 숫자 즉, 인덱스로 접근 불가능\n",
    "- df[ \"\" : \"\" ] : 열 인덱스는 슬라이싱 불가능"
   ]
  },
  {
   "cell_type": "code",
   "execution_count": 105,
   "id": "c99aa9ca",
   "metadata": {
    "collapsed": true
   },
   "outputs": [
    {
     "name": "stdout",
     "output_type": "stream",
     "text": [
      "특성   지역     2015     2010     2005     2000  2010-2015 증가율\n",
      "도시                                                        \n",
      "서울  수도권  9904312  9631482  9762546  9853972         0.0283\n",
      "부산  경상권  3448737  3393191  3512547  3655437         0.0163\n",
      "인천  수도권  2890451  2632035  2517680  2466338         0.0982\n",
      "대구  경상권  2466052  2431774  2456016  2473990         0.0141\n",
      "===================================================================\n",
      "도시\n",
      "서울    수도권\n",
      "부산    경상권\n",
      "인천    수도권\n",
      "대구    경상권\n",
      "Name: 지역, dtype: object\n",
      "<class 'pandas.core.series.Series'>\n",
      "-------------------------------------\n",
      "특성   지역\n",
      "도시     \n",
      "서울  수도권\n",
      "부산  경상권\n",
      "인천  수도권\n",
      "대구  경상권\n",
      "<class 'pandas.core.frame.DataFrame'>\n",
      "-------------------------------------\n",
      "특성     2005     2010\n",
      "도시                  \n",
      "서울  9762546  9631482\n",
      "부산  3512547  3393191\n",
      "인천  2517680  2632035\n",
      "대구  2456016  2431774\n"
     ]
    }
   ],
   "source": [
    "print(df)\n",
    "print(\"===================================================================\")\n",
    "\n",
    "print(df[\"지역\"])\n",
    "print(type(df[\"지역\"]))\n",
    "print(\"-------------------------------------\")\n",
    "print(df[[\"지역\"]])       # [[ ]] : DataFrame형식으로 바꿀 수 있음\n",
    "print(type(df[[\"지역\"]]))\n",
    "print(\"-------------------------------------\")\n",
    "print(df[[\"2005\", \"2010\"]])   # 여러 열을 가져올 때 꼭 [[]] 두개로\n",
    "\n",
    "# df[0] : 컬럼의 이름이 지정됐으면 인덱스로 접근 불가능\n",
    "# df[\"2015\" : \"2000\"] : 열 인덱스는 슬라이싱 불가능"
   ]
  },
  {
   "cell_type": "markdown",
   "id": "5f7e4301",
   "metadata": {},
   "source": [
    "### (2) 행 인덱싱 [ : ]\n",
    "\n",
    "- 반드시 : 으로 슬라이싱\n",
    "- 문자로 인덱싱 가능"
   ]
  },
  {
   "cell_type": "code",
   "execution_count": 113,
   "id": "7b8630d2",
   "metadata": {
    "collapsed": true
   },
   "outputs": [
    {
     "name": "stdout",
     "output_type": "stream",
     "text": [
      "특성   지역     2015     2010     2005     2000  2010-2015 증가율\n",
      "도시                                                        \n",
      "서울  수도권  9904312  9631482  9762546  9853972         0.0283\n",
      "부산  경상권  3448737  3393191  3512547  3655437         0.0163\n",
      "------------------------------------------------------------------\n",
      "특성   지역     2015     2010     2005     2000  2010-2015 증가율\n",
      "도시                                                        \n",
      "서울  수도권  9904312  9631482  9762546  9853972         0.0283\n",
      "부산  경상권  3448737  3393191  3512547  3655437         0.0163\n",
      "인천  수도권  2890451  2632035  2517680  2466338         0.0982\n",
      "대구  경상권  2466052  2431774  2456016  2473990         0.0141\n",
      "------------------------------------------------------------------\n",
      "특성   지역     2015     2010     2005     2000  2010-2015 증가율\n",
      "도시                                                        \n",
      "서울  수도권  9904312  9631482  9762546  9853972         0.0283\n",
      "부산  경상권  3448737  3393191  3512547  3655437         0.0163\n"
     ]
    }
   ],
   "source": [
    "print(df[0:2])\n",
    "print(\"------------------------------------------------------------------\")\n",
    "print(df[:])\n",
    "print(\"------------------------------------------------------------------\")\n",
    "print(df[\"서울\":\"부산\"])"
   ]
  },
  {
   "cell_type": "markdown",
   "id": "d8e4e82c",
   "metadata": {},
   "source": [
    "### (3) 행과 열 동시 접근\n",
    "\n",
    "- [ 열 ] [ 행 ]"
   ]
  },
  {
   "cell_type": "code",
   "execution_count": 125,
   "id": "9dc8f454",
   "metadata": {},
   "outputs": [
    {
     "name": "stdout",
     "output_type": "stream",
     "text": [
      "9904312\n",
      "9904312\n",
      "------------------------------------------------------------------\n",
      "도시\n",
      "서울    9904312\n",
      "Name: 2015, dtype: int64\n",
      "도시\n",
      "서울    9904312\n",
      "Name: 2015, dtype: int64\n",
      "도시\n",
      "서울    9904312\n",
      "Name: 2015, dtype: int64\n"
     ]
    }
   ],
   "source": [
    "print(df[\"2015\"][\"서울\"])        # 하나의 값\n",
    "print(df[\"2015\"][0])\n",
    "print(\"------------------------------------------------------------------\")\n",
    "print(df[\"2015\"][:\"서울\"])       # 하나의 행\n",
    "print(df[\"2015\"][\"서울\":\"서울\"])\n",
    "print(df[\"2015\"][:1])\n",
    "# print(df[\"2015\", \"서울\"])      # 묶어서 불가능"
   ]
  },
  {
   "cell_type": "markdown",
   "id": "f75b0103",
   "metadata": {},
   "source": [
    "### (4) 열 데이터 수정, 추가, 삭제"
   ]
  },
  {
   "cell_type": "code",
   "execution_count": 145,
   "id": "427a7ecf",
   "metadata": {
    "collapsed": true
   },
   "outputs": [
    {
     "name": "stdout",
     "output_type": "stream",
     "text": [
      "특성   지역     2015     2010     2005     2000  2010-2015 증가율  2005-2010 증가율\n",
      "도시                                                                       \n",
      "서울  수도권  9904312  9631482  9762546  9853972         0.0283          -1.34\n",
      "부산  경상권  3448737  3393191  3512547  3655437         0.0163          -3.40\n",
      "인천  수도권  2890451  2632035  2517680  2466338         0.0982           4.54\n",
      "대구  경상권  2466052  2431774  2456016  2473990         0.0141          -0.99\n",
      "==================================================================================\n",
      "특성   지역     2015     2010     2005     2000  2010-2015 증가율  2005-2010 증가율\n",
      "도시                                                                       \n",
      "서울  수도권  9904312  9631482  9762546  9853972           2.83          -1.34\n",
      "부산  경상권  3448737  3393191  3512547  3655437           1.63          -3.40\n",
      "인천  수도권  2890451  2632035  2517680  2466338           9.82           4.54\n",
      "대구  경상권  2466052  2431774  2456016  2473990           1.41          -0.99\n",
      "----------------------------------------------------------------------------------\n",
      "특성   지역     2015     2010     2005     2000  2010-2015 증가율  2005-2010 증가율\n",
      "도시                                                                       \n",
      "서울  수도권  9904312  9631482  9762546  9853972           2.83          -1.34\n",
      "부산  경상권  3448737  3393191  3512547  3655437           1.63          -3.40\n",
      "인천  수도권  2890451  2632035  2517680  2466338           9.82           4.54\n",
      "대구  경상권  2466052  2431774  2456016  2473990           1.41          -0.99\n"
     ]
    }
   ],
   "source": [
    "print(df)\n",
    "print(\"==================================================================================\")\n",
    "\n",
    "#### 수정\n",
    "df[\"2010-2015 증가율\"] = df[\"2010-2015 증가율\"] * 100\n",
    "print(df)\n",
    "print(\"----------------------------------------------------------------------------------\")\n",
    "#### 추가\n",
    "df[\"2005-2010 증가율\"] = ((df[\"2010\"]-df[\"2005\"]) / df[\"2005\"] * 100).round(2)\n",
    "print(df)"
   ]
  },
  {
   "cell_type": "code",
   "execution_count": 146,
   "id": "d005eb27",
   "metadata": {
    "collapsed": true
   },
   "outputs": [
    {
     "data": {
      "text/html": [
       "<div>\n",
       "<style scoped>\n",
       "    .dataframe tbody tr th:only-of-type {\n",
       "        vertical-align: middle;\n",
       "    }\n",
       "\n",
       "    .dataframe tbody tr th {\n",
       "        vertical-align: top;\n",
       "    }\n",
       "\n",
       "    .dataframe thead th {\n",
       "        text-align: right;\n",
       "    }\n",
       "</style>\n",
       "<table border=\"1\" class=\"dataframe\">\n",
       "  <thead>\n",
       "    <tr style=\"text-align: right;\">\n",
       "      <th>특성</th>\n",
       "      <th>지역</th>\n",
       "      <th>2015</th>\n",
       "      <th>2010</th>\n",
       "      <th>2005</th>\n",
       "      <th>2000</th>\n",
       "      <th>2010-2015 증가율</th>\n",
       "    </tr>\n",
       "    <tr>\n",
       "      <th>도시</th>\n",
       "      <th></th>\n",
       "      <th></th>\n",
       "      <th></th>\n",
       "      <th></th>\n",
       "      <th></th>\n",
       "      <th></th>\n",
       "    </tr>\n",
       "  </thead>\n",
       "  <tbody>\n",
       "    <tr>\n",
       "      <th>서울</th>\n",
       "      <td>수도권</td>\n",
       "      <td>9904312</td>\n",
       "      <td>9631482</td>\n",
       "      <td>9762546</td>\n",
       "      <td>9853972</td>\n",
       "      <td>2.83</td>\n",
       "    </tr>\n",
       "    <tr>\n",
       "      <th>부산</th>\n",
       "      <td>경상권</td>\n",
       "      <td>3448737</td>\n",
       "      <td>3393191</td>\n",
       "      <td>3512547</td>\n",
       "      <td>3655437</td>\n",
       "      <td>1.63</td>\n",
       "    </tr>\n",
       "    <tr>\n",
       "      <th>인천</th>\n",
       "      <td>수도권</td>\n",
       "      <td>2890451</td>\n",
       "      <td>2632035</td>\n",
       "      <td>2517680</td>\n",
       "      <td>2466338</td>\n",
       "      <td>9.82</td>\n",
       "    </tr>\n",
       "    <tr>\n",
       "      <th>대구</th>\n",
       "      <td>경상권</td>\n",
       "      <td>2466052</td>\n",
       "      <td>2431774</td>\n",
       "      <td>2456016</td>\n",
       "      <td>2473990</td>\n",
       "      <td>1.41</td>\n",
       "    </tr>\n",
       "  </tbody>\n",
       "</table>\n",
       "</div>"
      ],
      "text/plain": [
       "특성   지역     2015     2010     2005     2000  2010-2015 증가율\n",
       "도시                                                        \n",
       "서울  수도권  9904312  9631482  9762546  9853972           2.83\n",
       "부산  경상권  3448737  3393191  3512547  3655437           1.63\n",
       "인천  수도권  2890451  2632035  2517680  2466338           9.82\n",
       "대구  경상권  2466052  2431774  2456016  2473990           1.41"
      ]
     },
     "execution_count": 146,
     "metadata": {},
     "output_type": "execute_result"
    }
   ],
   "source": [
    "#### 삭제\n",
    "del df[\"2005-2010 증가율\"]\n",
    "df"
   ]
  },
  {
   "cell_type": "markdown",
   "id": "5807a174",
   "metadata": {},
   "source": [
    "-----\n",
    "\n",
    "## 4) ❗❕ 중간 실습 ❗❕"
   ]
  },
  {
   "cell_type": "code",
   "execution_count": 8,
   "id": "ed521b5f",
   "metadata": {},
   "outputs": [],
   "source": [
    "data = {\n",
    "    \"국어\":[80, 90, 70, 30],\n",
    "    \"영어\":[90, 70, 60, 40],\n",
    "    \"수학\":[90, 60, 80, 70]\n",
    "}"
   ]
  },
  {
   "cell_type": "code",
   "execution_count": 9,
   "id": "332ec83b",
   "metadata": {},
   "outputs": [
    {
     "data": {
      "text/html": [
       "<div>\n",
       "<style scoped>\n",
       "    .dataframe tbody tr th:only-of-type {\n",
       "        vertical-align: middle;\n",
       "    }\n",
       "\n",
       "    .dataframe tbody tr th {\n",
       "        vertical-align: top;\n",
       "    }\n",
       "\n",
       "    .dataframe thead th {\n",
       "        text-align: right;\n",
       "    }\n",
       "</style>\n",
       "<table border=\"1\" class=\"dataframe\">\n",
       "  <thead>\n",
       "    <tr style=\"text-align: right;\">\n",
       "      <th></th>\n",
       "      <th>국어</th>\n",
       "      <th>영어</th>\n",
       "      <th>수학</th>\n",
       "    </tr>\n",
       "  </thead>\n",
       "  <tbody>\n",
       "    <tr>\n",
       "      <th>춘향</th>\n",
       "      <td>80</td>\n",
       "      <td>90</td>\n",
       "      <td>90</td>\n",
       "    </tr>\n",
       "    <tr>\n",
       "      <th>몽룡</th>\n",
       "      <td>90</td>\n",
       "      <td>70</td>\n",
       "      <td>60</td>\n",
       "    </tr>\n",
       "    <tr>\n",
       "      <th>향단</th>\n",
       "      <td>70</td>\n",
       "      <td>60</td>\n",
       "      <td>80</td>\n",
       "    </tr>\n",
       "    <tr>\n",
       "      <th>방자</th>\n",
       "      <td>30</td>\n",
       "      <td>40</td>\n",
       "      <td>70</td>\n",
       "    </tr>\n",
       "  </tbody>\n",
       "</table>\n",
       "</div>"
      ],
      "text/plain": [
       "    국어  영어  수학\n",
       "춘향  80  90  90\n",
       "몽룡  90  70  60\n",
       "향단  70  60  80\n",
       "방자  30  40  70"
      ]
     },
     "execution_count": 9,
     "metadata": {},
     "output_type": "execute_result"
    }
   ],
   "source": [
    "## 1. 인덱스를 춘향, 몽룡, 향단, 방자로 구성된 데이터 프레임 df작성\n",
    "\n",
    "data = pd.DataFrame(data, index=[\"춘향\", \"몽룡\", \"향단\", \"방자\"])\n",
    "data"
   ]
  },
  {
   "cell_type": "code",
   "execution_count": 10,
   "id": "de9e1217",
   "metadata": {},
   "outputs": [
    {
     "data": {
      "text/plain": [
       "춘향    90\n",
       "몽룡    60\n",
       "향단    80\n",
       "방자    70\n",
       "Name: 수학, dtype: int64"
      ]
     },
     "execution_count": 10,
     "metadata": {},
     "output_type": "execute_result"
    }
   ],
   "source": [
    "## 2. 모든 학생의 수학점수를 조회\n",
    "\n",
    "data[\"수학\"]"
   ]
  },
  {
   "cell_type": "code",
   "execution_count": 11,
   "id": "2324469c",
   "metadata": {},
   "outputs": [
    {
     "data": {
      "text/html": [
       "<div>\n",
       "<style scoped>\n",
       "    .dataframe tbody tr th:only-of-type {\n",
       "        vertical-align: middle;\n",
       "    }\n",
       "\n",
       "    .dataframe tbody tr th {\n",
       "        vertical-align: top;\n",
       "    }\n",
       "\n",
       "    .dataframe thead th {\n",
       "        text-align: right;\n",
       "    }\n",
       "</style>\n",
       "<table border=\"1\" class=\"dataframe\">\n",
       "  <thead>\n",
       "    <tr style=\"text-align: right;\">\n",
       "      <th></th>\n",
       "      <th>국어</th>\n",
       "      <th>영어</th>\n",
       "    </tr>\n",
       "  </thead>\n",
       "  <tbody>\n",
       "    <tr>\n",
       "      <th>춘향</th>\n",
       "      <td>80</td>\n",
       "      <td>90</td>\n",
       "    </tr>\n",
       "    <tr>\n",
       "      <th>몽룡</th>\n",
       "      <td>90</td>\n",
       "      <td>70</td>\n",
       "    </tr>\n",
       "    <tr>\n",
       "      <th>향단</th>\n",
       "      <td>70</td>\n",
       "      <td>60</td>\n",
       "    </tr>\n",
       "    <tr>\n",
       "      <th>방자</th>\n",
       "      <td>30</td>\n",
       "      <td>40</td>\n",
       "    </tr>\n",
       "  </tbody>\n",
       "</table>\n",
       "</div>"
      ],
      "text/plain": [
       "    국어  영어\n",
       "춘향  80  90\n",
       "몽룡  90  70\n",
       "향단  70  60\n",
       "방자  30  40"
      ]
     },
     "execution_count": 11,
     "metadata": {},
     "output_type": "execute_result"
    }
   ],
   "source": [
    "## 3. 모든 학생의 국어와 영어 점수를 조회\n",
    "\n",
    "data[[\"국어\",\"영어\"]]"
   ]
  },
  {
   "cell_type": "code",
   "execution_count": 12,
   "id": "4ee10077",
   "metadata": {},
   "outputs": [
    {
     "data": {
      "text/html": [
       "<div>\n",
       "<style scoped>\n",
       "    .dataframe tbody tr th:only-of-type {\n",
       "        vertical-align: middle;\n",
       "    }\n",
       "\n",
       "    .dataframe tbody tr th {\n",
       "        vertical-align: top;\n",
       "    }\n",
       "\n",
       "    .dataframe thead th {\n",
       "        text-align: right;\n",
       "    }\n",
       "</style>\n",
       "<table border=\"1\" class=\"dataframe\">\n",
       "  <thead>\n",
       "    <tr style=\"text-align: right;\">\n",
       "      <th></th>\n",
       "      <th>국어</th>\n",
       "      <th>영어</th>\n",
       "      <th>수학</th>\n",
       "      <th>평균점수1</th>\n",
       "      <th>평균점수2</th>\n",
       "    </tr>\n",
       "  </thead>\n",
       "  <tbody>\n",
       "    <tr>\n",
       "      <th>춘향</th>\n",
       "      <td>80</td>\n",
       "      <td>90</td>\n",
       "      <td>90</td>\n",
       "      <td>86.67</td>\n",
       "      <td>86.67</td>\n",
       "    </tr>\n",
       "    <tr>\n",
       "      <th>몽룡</th>\n",
       "      <td>90</td>\n",
       "      <td>70</td>\n",
       "      <td>60</td>\n",
       "      <td>73.33</td>\n",
       "      <td>73.33</td>\n",
       "    </tr>\n",
       "    <tr>\n",
       "      <th>향단</th>\n",
       "      <td>70</td>\n",
       "      <td>60</td>\n",
       "      <td>80</td>\n",
       "      <td>70.00</td>\n",
       "      <td>70.00</td>\n",
       "    </tr>\n",
       "    <tr>\n",
       "      <th>방자</th>\n",
       "      <td>30</td>\n",
       "      <td>40</td>\n",
       "      <td>70</td>\n",
       "      <td>46.67</td>\n",
       "      <td>46.67</td>\n",
       "    </tr>\n",
       "  </tbody>\n",
       "</table>\n",
       "</div>"
      ],
      "text/plain": [
       "    국어  영어  수학  평균점수1  평균점수2\n",
       "춘향  80  90  90  86.67  86.67\n",
       "몽룡  90  70  60  73.33  73.33\n",
       "향단  70  60  80  70.00  70.00\n",
       "방자  30  40  70  46.67  46.67"
      ]
     },
     "execution_count": 12,
     "metadata": {},
     "output_type": "execute_result"
    }
   ],
   "source": [
    "## 4. 모든 학생의 과목 평균점수를 새로운 열(과목평균)로 추가\n",
    "\n",
    "data[\"평균점수1\"] = ((data[\"국어\"]+data[\"영어\"]+data[\"수학\"])/3).round(2)\n",
    "data[\"평균점수2\"] = data[:].mean(axis=1).round(2)\n",
    "data"
   ]
  },
  {
   "cell_type": "code",
   "execution_count": 14,
   "id": "dd939483",
   "metadata": {},
   "outputs": [
    {
     "name": "stderr",
     "output_type": "stream",
     "text": [
      "C:\\Users\\acorn\\AppData\\Local\\Temp\\ipykernel_17968\\2891460991.py:3: SettingWithCopyWarning: \n",
      "A value is trying to be set on a copy of a slice from a DataFrame\n",
      "\n",
      "See the caveats in the documentation: https://pandas.pydata.org/pandas-docs/stable/user_guide/indexing.html#returning-a-view-versus-a-copy\n",
      "  data[\"영어\"][\"방자\"] = 80\n",
      "C:\\Users\\acorn\\AppData\\Local\\Temp\\ipykernel_17968\\2891460991.py:4: SettingWithCopyWarning: \n",
      "A value is trying to be set on a copy of a slice from a DataFrame\n",
      "\n",
      "See the caveats in the documentation: https://pandas.pydata.org/pandas-docs/stable/user_guide/indexing.html#returning-a-view-versus-a-copy\n",
      "  data[\"평균점수1\"][\"방자\"] = ((data[\"국어\"][\"방자\"]+data[\"영어\"][\"방자\"]+data[\"수학\"][\"방자\"])/3).round(2)\n",
      "C:\\Users\\acorn\\AppData\\Local\\Temp\\ipykernel_17968\\2891460991.py:5: SettingWithCopyWarning: \n",
      "A value is trying to be set on a copy of a slice from a DataFrame\n",
      "\n",
      "See the caveats in the documentation: https://pandas.pydata.org/pandas-docs/stable/user_guide/indexing.html#returning-a-view-versus-a-copy\n",
      "  data[\"평균점수2\"]['방자'] = data[[\"국어\", \"영어\", \"수학\"]]['방자':].T.mean().round(2)\n"
     ]
    },
    {
     "data": {
      "text/html": [
       "<div>\n",
       "<style scoped>\n",
       "    .dataframe tbody tr th:only-of-type {\n",
       "        vertical-align: middle;\n",
       "    }\n",
       "\n",
       "    .dataframe tbody tr th {\n",
       "        vertical-align: top;\n",
       "    }\n",
       "\n",
       "    .dataframe thead th {\n",
       "        text-align: right;\n",
       "    }\n",
       "</style>\n",
       "<table border=\"1\" class=\"dataframe\">\n",
       "  <thead>\n",
       "    <tr style=\"text-align: right;\">\n",
       "      <th></th>\n",
       "      <th>국어</th>\n",
       "      <th>영어</th>\n",
       "      <th>수학</th>\n",
       "      <th>평균점수1</th>\n",
       "      <th>평균점수2</th>\n",
       "    </tr>\n",
       "  </thead>\n",
       "  <tbody>\n",
       "    <tr>\n",
       "      <th>춘향</th>\n",
       "      <td>80</td>\n",
       "      <td>90</td>\n",
       "      <td>90</td>\n",
       "      <td>86.67</td>\n",
       "      <td>86.67</td>\n",
       "    </tr>\n",
       "    <tr>\n",
       "      <th>몽룡</th>\n",
       "      <td>90</td>\n",
       "      <td>70</td>\n",
       "      <td>60</td>\n",
       "      <td>73.33</td>\n",
       "      <td>73.33</td>\n",
       "    </tr>\n",
       "    <tr>\n",
       "      <th>향단</th>\n",
       "      <td>70</td>\n",
       "      <td>60</td>\n",
       "      <td>80</td>\n",
       "      <td>70.00</td>\n",
       "      <td>70.00</td>\n",
       "    </tr>\n",
       "    <tr>\n",
       "      <th>방자</th>\n",
       "      <td>30</td>\n",
       "      <td>80</td>\n",
       "      <td>70</td>\n",
       "      <td>60.00</td>\n",
       "      <td>60.00</td>\n",
       "    </tr>\n",
       "  </tbody>\n",
       "</table>\n",
       "</div>"
      ],
      "text/plain": [
       "    국어  영어  수학  평균점수1  평균점수2\n",
       "춘향  80  90  90  86.67  86.67\n",
       "몽룡  90  70  60  73.33  73.33\n",
       "향단  70  60  80  70.00  70.00\n",
       "방자  30  80  70  60.00  60.00"
      ]
     },
     "execution_count": 14,
     "metadata": {},
     "output_type": "execute_result"
    }
   ],
   "source": [
    "## 5. 방자의 영어점수를 80점으로 수정하고 평균점수도 다시 수정\n",
    "\n",
    "data[\"영어\"][\"방자\"] = 80\n",
    "data[\"평균점수1\"][\"방자\"] = ((data[\"국어\"][\"방자\"]+data[\"영어\"][\"방자\"]+data[\"수학\"][\"방자\"])/3).round(2)\n",
    "data[\"평균점수2\"]['방자'] = data[[\"국어\", \"영어\", \"수학\"]]['방자':].mean(axis=1).round(2)\n",
    "data"
   ]
  },
  {
   "cell_type": "code",
   "execution_count": 17,
   "id": "5487619b",
   "metadata": {},
   "outputs": [
    {
     "name": "stdout",
     "output_type": "stream",
     "text": [
      "    국어  영어  수학  평균점수1  평균점수2\n",
      "춘향  80  90  90  86.67  86.67\n",
      "------------------------------------------------\n",
      "          춘향\n",
      "국어     80.00\n",
      "영어     90.00\n",
      "수학     90.00\n",
      "평균점수1  86.67\n",
      "평균점수2  86.67\n",
      "<class 'pandas.core.frame.DataFrame'>\n"
     ]
    }
   ],
   "source": [
    "## 6. 춘향의 점수를 데이터 프레임 형식으로 출력\n",
    "\n",
    "# data[[\"국어\", \"영어\", \"수학\", \"평균점수\"]]\n",
    "print(data[:\"춘향\"])\n",
    "print(\"------------------------------------------------\")\n",
    "print(data.T[[\"춘향\"]])\n",
    "print(type(data.T[[\"춘향\"]]))"
   ]
  },
  {
   "cell_type": "code",
   "execution_count": 18,
   "id": "512668e8",
   "metadata": {},
   "outputs": [
    {
     "name": "stdout",
     "output_type": "stream",
     "text": [
      "국어       70.0\n",
      "영어       60.0\n",
      "수학       80.0\n",
      "평균점수1    70.0\n",
      "평균점수2    70.0\n",
      "Name: 향단, dtype: float64\n",
      "<class 'pandas.core.series.Series'>\n"
     ]
    }
   ],
   "source": [
    "## 7. 향단의 점수를 series로 출력\n",
    "\n",
    "print(data.T[\"향단\"])\n",
    "print(type(data.T[\"향단\"]))"
   ]
  },
  {
   "cell_type": "markdown",
   "id": "b48f6b13",
   "metadata": {},
   "source": [
    "---- \n",
    "\n",
    "## 5) 파일 입출력\n",
    "\n",
    "- read_csv() : csv파일 불러오기\n",
    "    - sample2 = pd.read_csv(\"data/sample2.csv\")\n",
    "- to_csv() : csv파일로 저장하기\n",
    "    - df.to_csv(\"data/sample.csv\", index=False, header=False)\n",
    "- read_table() : csv형식이 아닌 파일 불러오기\n",
    "    - pd.read_table(\"data/sample3.txt\")\n",
    "\n",
    "----\n",
    "\n",
    "        names=[\"c1\", \"c2\", \"c3\"] : 컬럼 이름 지정\n",
    "        index_col=\"c1\" : 특정 열을 인덱스로 지정\n",
    "        sep=\"\\s+\" / delimiter=\"\\s+\" : csv외의 파일 불러올 때 구분 기호 지정, 정규 표현식 사용 가능\n",
    "        skiprows=[0, 1, 2], skiprows=3 : 필요없는 줄 건너 뛰기\n",
    "        na_values=[\" \", \"누락\"] : 결측치를 찾아 NaN로 통일해서 표기\n",
    "      \n",
    "-----\n",
    "\n",
    "        index=False, header=False : 인덱스와 제목은 굳이 저장 안해도 됨. 용량만 차지\n",
    "        na_rep=\"누락\" : 파일 저장 시 NaN값을 지정값으로 저장 가능\n",
    "\n",
    "-----\n",
    "\n",
    "- %% : 매직 명령어 -> 반드시 첫번째 줄에서 시행"
   ]
  },
  {
   "cell_type": "code",
   "execution_count": 156,
   "id": "074d6cf7",
   "metadata": {},
   "outputs": [
    {
     "name": "stdout",
     "output_type": "stream",
     "text": [
      "Overwriting data/sample1.csv\n"
     ]
    }
   ],
   "source": [
    "%%writefile data/sample1.csv\n",
    "c1, c2, c3\n",
    "1, 1.11, one\n",
    "2, 2.22, two\n",
    "3, 3.33, three"
   ]
  },
  {
   "cell_type": "code",
   "execution_count": 158,
   "id": "86d9513c",
   "metadata": {
    "collapsed": true
   },
   "outputs": [
    {
     "data": {
      "text/html": [
       "<div>\n",
       "<style scoped>\n",
       "    .dataframe tbody tr th:only-of-type {\n",
       "        vertical-align: middle;\n",
       "    }\n",
       "\n",
       "    .dataframe tbody tr th {\n",
       "        vertical-align: top;\n",
       "    }\n",
       "\n",
       "    .dataframe thead th {\n",
       "        text-align: right;\n",
       "    }\n",
       "</style>\n",
       "<table border=\"1\" class=\"dataframe\">\n",
       "  <thead>\n",
       "    <tr style=\"text-align: right;\">\n",
       "      <th></th>\n",
       "      <th>c1</th>\n",
       "      <th>c2</th>\n",
       "      <th>c3</th>\n",
       "    </tr>\n",
       "  </thead>\n",
       "  <tbody>\n",
       "    <tr>\n",
       "      <th>0</th>\n",
       "      <td>1</td>\n",
       "      <td>1.11</td>\n",
       "      <td>one</td>\n",
       "    </tr>\n",
       "    <tr>\n",
       "      <th>1</th>\n",
       "      <td>2</td>\n",
       "      <td>2.22</td>\n",
       "      <td>two</td>\n",
       "    </tr>\n",
       "    <tr>\n",
       "      <th>2</th>\n",
       "      <td>3</td>\n",
       "      <td>3.33</td>\n",
       "      <td>three</td>\n",
       "    </tr>\n",
       "  </tbody>\n",
       "</table>\n",
       "</div>"
      ],
      "text/plain": [
       "   c1    c2      c3\n",
       "0   1  1.11     one\n",
       "1   2  2.22     two\n",
       "2   3  3.33   three"
      ]
     },
     "execution_count": 158,
     "metadata": {},
     "output_type": "execute_result"
    }
   ],
   "source": [
    "sample1 = pd.read_csv(\"data/sample1.csv\")\n",
    "sample1"
   ]
  },
  {
   "cell_type": "code",
   "execution_count": 159,
   "id": "d351bd5f",
   "metadata": {},
   "outputs": [
    {
     "name": "stdout",
     "output_type": "stream",
     "text": [
      "Writing data/sample2.csv\n"
     ]
    }
   ],
   "source": [
    "%%writefile data/sample2.csv\n",
    "1, 1.11, one\n",
    "2, 2.22, two\n",
    "3, 3.33, three"
   ]
  },
  {
   "cell_type": "code",
   "execution_count": 161,
   "id": "173867a1",
   "metadata": {
    "collapsed": true
   },
   "outputs": [
    {
     "data": {
      "text/html": [
       "<div>\n",
       "<style scoped>\n",
       "    .dataframe tbody tr th:only-of-type {\n",
       "        vertical-align: middle;\n",
       "    }\n",
       "\n",
       "    .dataframe tbody tr th {\n",
       "        vertical-align: top;\n",
       "    }\n",
       "\n",
       "    .dataframe thead th {\n",
       "        text-align: right;\n",
       "    }\n",
       "</style>\n",
       "<table border=\"1\" class=\"dataframe\">\n",
       "  <thead>\n",
       "    <tr style=\"text-align: right;\">\n",
       "      <th></th>\n",
       "      <th>c1</th>\n",
       "      <th>c2</th>\n",
       "      <th>c3</th>\n",
       "    </tr>\n",
       "  </thead>\n",
       "  <tbody>\n",
       "    <tr>\n",
       "      <th>0</th>\n",
       "      <td>1</td>\n",
       "      <td>1.11</td>\n",
       "      <td>one</td>\n",
       "    </tr>\n",
       "    <tr>\n",
       "      <th>1</th>\n",
       "      <td>2</td>\n",
       "      <td>2.22</td>\n",
       "      <td>two</td>\n",
       "    </tr>\n",
       "    <tr>\n",
       "      <th>2</th>\n",
       "      <td>3</td>\n",
       "      <td>3.33</td>\n",
       "      <td>three</td>\n",
       "    </tr>\n",
       "  </tbody>\n",
       "</table>\n",
       "</div>"
      ],
      "text/plain": [
       "   c1    c2      c3\n",
       "0   1  1.11     one\n",
       "1   2  2.22     two\n",
       "2   3  3.33   three"
      ]
     },
     "execution_count": 161,
     "metadata": {},
     "output_type": "execute_result"
    }
   ],
   "source": [
    "sample2 = pd.read_csv(\"data/sample2.csv\", names=[\"c1\", \"c2\", \"c3\"])\n",
    "sample2"
   ]
  },
  {
   "cell_type": "code",
   "execution_count": 168,
   "id": "ad1237bf",
   "metadata": {
    "collapsed": true
   },
   "outputs": [
    {
     "data": {
      "text/html": [
       "<div>\n",
       "<style scoped>\n",
       "    .dataframe tbody tr th:only-of-type {\n",
       "        vertical-align: middle;\n",
       "    }\n",
       "\n",
       "    .dataframe tbody tr th {\n",
       "        vertical-align: top;\n",
       "    }\n",
       "\n",
       "    .dataframe thead th {\n",
       "        text-align: right;\n",
       "    }\n",
       "</style>\n",
       "<table border=\"1\" class=\"dataframe\">\n",
       "  <thead>\n",
       "    <tr style=\"text-align: right;\">\n",
       "      <th></th>\n",
       "      <th>c2</th>\n",
       "      <th>c3</th>\n",
       "    </tr>\n",
       "    <tr>\n",
       "      <th>c1</th>\n",
       "      <th></th>\n",
       "      <th></th>\n",
       "    </tr>\n",
       "  </thead>\n",
       "  <tbody>\n",
       "    <tr>\n",
       "      <th>1</th>\n",
       "      <td>1.11</td>\n",
       "      <td>one</td>\n",
       "    </tr>\n",
       "    <tr>\n",
       "      <th>2</th>\n",
       "      <td>2.22</td>\n",
       "      <td>two</td>\n",
       "    </tr>\n",
       "    <tr>\n",
       "      <th>3</th>\n",
       "      <td>3.33</td>\n",
       "      <td>three</td>\n",
       "    </tr>\n",
       "  </tbody>\n",
       "</table>\n",
       "</div>"
      ],
      "text/plain": [
       "      c2      c3\n",
       "c1              \n",
       "1   1.11     one\n",
       "2   2.22     two\n",
       "3   3.33   three"
      ]
     },
     "execution_count": 168,
     "metadata": {},
     "output_type": "execute_result"
    }
   ],
   "source": [
    "#### 특정 열을 인덱스로 지정 ####\n",
    "\n",
    "sample3 = pd.read_csv(\"data/sample1.csv\", index_col=\"c1\")\n",
    "sample3"
   ]
  },
  {
   "cell_type": "code",
   "execution_count": 170,
   "id": "6596c856",
   "metadata": {},
   "outputs": [
    {
     "name": "stdout",
     "output_type": "stream",
     "text": [
      "Overwriting data/sample3.txt\n"
     ]
    }
   ],
   "source": [
    "%%writefile data/sample3.txt\n",
    "c1      c2      c3      c4\n",
    "0.23    0.33    0.454    0.2314\n",
    "0.123   0.35    0.12     0.95"
   ]
  },
  {
   "cell_type": "code",
   "execution_count": 194,
   "id": "695e230b",
   "metadata": {},
   "outputs": [
    {
     "data": {
      "text/html": [
       "<div>\n",
       "<style scoped>\n",
       "    .dataframe tbody tr th:only-of-type {\n",
       "        vertical-align: middle;\n",
       "    }\n",
       "\n",
       "    .dataframe tbody tr th {\n",
       "        vertical-align: top;\n",
       "    }\n",
       "\n",
       "    .dataframe thead th {\n",
       "        text-align: right;\n",
       "    }\n",
       "</style>\n",
       "<table border=\"1\" class=\"dataframe\">\n",
       "  <thead>\n",
       "    <tr style=\"text-align: right;\">\n",
       "      <th></th>\n",
       "      <th>c1</th>\n",
       "      <th>c2</th>\n",
       "      <th>c3</th>\n",
       "      <th>c4</th>\n",
       "    </tr>\n",
       "  </thead>\n",
       "  <tbody>\n",
       "    <tr>\n",
       "      <th>0</th>\n",
       "      <td>0.230</td>\n",
       "      <td>0.33</td>\n",
       "      <td>0.454</td>\n",
       "      <td>0.2314</td>\n",
       "    </tr>\n",
       "    <tr>\n",
       "      <th>1</th>\n",
       "      <td>0.123</td>\n",
       "      <td>0.35</td>\n",
       "      <td>0.120</td>\n",
       "      <td>0.9500</td>\n",
       "    </tr>\n",
       "  </tbody>\n",
       "</table>\n",
       "</div>"
      ],
      "text/plain": [
       "      c1    c2     c3      c4\n",
       "0  0.230  0.33  0.454  0.2314\n",
       "1  0.123  0.35  0.120  0.9500"
      ]
     },
     "execution_count": 194,
     "metadata": {},
     "output_type": "execute_result"
    }
   ],
   "source": [
    "# sample3 = pd.read_table(\"data/sample3.txt\", sep=\"[ ]+\")\n",
    "# sample3 = pd.read_table(\"data/sample3.txt\", delimiter=\"\\s+\")\n",
    "sample3 = pd.read_table(\"data/sample3.txt\", sep=\"\\s+\")\n",
    "sample3"
   ]
  },
  {
   "cell_type": "code",
   "execution_count": 199,
   "id": "a219df82",
   "metadata": {},
   "outputs": [
    {
     "name": "stdout",
     "output_type": "stream",
     "text": [
      "Overwriting data/sample4.txt\n"
     ]
    }
   ],
   "source": [
    "%%writefile data/sample4.txt\n",
    "파일제목 : sample4.txt\n",
    "데이터 포맷 : 어쩌구 저쩌구\n",
    "컬럼 설명 : 어쩌구 저쩌구\n",
    "\n",
    "c1, c2, c3\n",
    "1, 1.11, one\n",
    "2, 2.22, two\n",
    "3, 3.33, three"
   ]
  },
  {
   "cell_type": "code",
   "execution_count": 204,
   "id": "016296ea",
   "metadata": {
    "collapsed": true
   },
   "outputs": [
    {
     "data": {
      "text/html": [
       "<div>\n",
       "<style scoped>\n",
       "    .dataframe tbody tr th:only-of-type {\n",
       "        vertical-align: middle;\n",
       "    }\n",
       "\n",
       "    .dataframe tbody tr th {\n",
       "        vertical-align: top;\n",
       "    }\n",
       "\n",
       "    .dataframe thead th {\n",
       "        text-align: right;\n",
       "    }\n",
       "</style>\n",
       "<table border=\"1\" class=\"dataframe\">\n",
       "  <thead>\n",
       "    <tr style=\"text-align: right;\">\n",
       "      <th></th>\n",
       "      <th>c1</th>\n",
       "      <th>c2</th>\n",
       "      <th>c3</th>\n",
       "    </tr>\n",
       "  </thead>\n",
       "  <tbody>\n",
       "    <tr>\n",
       "      <th>0</th>\n",
       "      <td>1</td>\n",
       "      <td>1.11</td>\n",
       "      <td>one</td>\n",
       "    </tr>\n",
       "    <tr>\n",
       "      <th>1</th>\n",
       "      <td>2</td>\n",
       "      <td>2.22</td>\n",
       "      <td>two</td>\n",
       "    </tr>\n",
       "    <tr>\n",
       "      <th>2</th>\n",
       "      <td>3</td>\n",
       "      <td>3.33</td>\n",
       "      <td>three</td>\n",
       "    </tr>\n",
       "  </tbody>\n",
       "</table>\n",
       "</div>"
      ],
      "text/plain": [
       "   c1    c2      c3\n",
       "0   1  1.11     one\n",
       "1   2  2.22     two\n",
       "2   3  3.33   three"
      ]
     },
     "execution_count": 204,
     "metadata": {},
     "output_type": "execute_result"
    }
   ],
   "source": [
    "# sample4 = pd.read_table(\"data/sample4.txt\", sep=\",\", skiprows=[0, 1, 2])\n",
    "sample4 = pd.read_table(\"data/sample4.txt\", sep=\",\", skiprows=3)\n",
    "sample4"
   ]
  },
  {
   "cell_type": "code",
   "execution_count": 205,
   "id": "9c859b88",
   "metadata": {},
   "outputs": [
    {
     "name": "stdout",
     "output_type": "stream",
     "text": [
      "Writing data/sample5.csv\n"
     ]
    }
   ],
   "source": [
    "%%writefile data/sample5.csv\n",
    "c1, c2, c3\n",
    "1, 1.11, \n",
    "2, , two\n",
    "누락, 3.33, three"
   ]
  },
  {
   "cell_type": "code",
   "execution_count": 208,
   "id": "bc2e52f4",
   "metadata": {
    "collapsed": true
   },
   "outputs": [
    {
     "data": {
      "text/html": [
       "<div>\n",
       "<style scoped>\n",
       "    .dataframe tbody tr th:only-of-type {\n",
       "        vertical-align: middle;\n",
       "    }\n",
       "\n",
       "    .dataframe tbody tr th {\n",
       "        vertical-align: top;\n",
       "    }\n",
       "\n",
       "    .dataframe thead th {\n",
       "        text-align: right;\n",
       "    }\n",
       "</style>\n",
       "<table border=\"1\" class=\"dataframe\">\n",
       "  <thead>\n",
       "    <tr style=\"text-align: right;\">\n",
       "      <th></th>\n",
       "      <th>c1</th>\n",
       "      <th>c2</th>\n",
       "      <th>c3</th>\n",
       "    </tr>\n",
       "  </thead>\n",
       "  <tbody>\n",
       "    <tr>\n",
       "      <th>0</th>\n",
       "      <td>1.0</td>\n",
       "      <td>1.11</td>\n",
       "      <td>NaN</td>\n",
       "    </tr>\n",
       "    <tr>\n",
       "      <th>1</th>\n",
       "      <td>2.0</td>\n",
       "      <td>NaN</td>\n",
       "      <td>two</td>\n",
       "    </tr>\n",
       "    <tr>\n",
       "      <th>2</th>\n",
       "      <td>NaN</td>\n",
       "      <td>3.33</td>\n",
       "      <td>three</td>\n",
       "    </tr>\n",
       "  </tbody>\n",
       "</table>\n",
       "</div>"
      ],
      "text/plain": [
       "    c1    c2      c3\n",
       "0  1.0  1.11     NaN\n",
       "1  2.0   NaN     two\n",
       "2  NaN  3.33   three"
      ]
     },
     "execution_count": 208,
     "metadata": {},
     "output_type": "execute_result"
    }
   ],
   "source": [
    "sample5 = pd.read_csv(\"data/sample5.csv\", na_values=[\" \", \"누락\"])\n",
    "sample5"
   ]
  },
  {
   "cell_type": "code",
   "execution_count": 213,
   "id": "b85da202",
   "metadata": {},
   "outputs": [],
   "source": [
    "#### csv 파일로 저장 ####\\\n",
    "df\n",
    "df.to_csv(\"data/sample6.csv\")\n",
    "df.to_csv(\"data/sample7.txt\", sep=\"|\") # 구분기호 지정 가능\n",
    "df.to_csv(\"data/sample8.csv\", index=False, header=False)  # 인덱스와 제목은 굳이 저장 안해도 됨. 용량만 차지\n",
    "sample5.to_csv(\"data/sample9.csv\", na_rep=\"누락\")"
   ]
  },
  {
   "cell_type": "markdown",
   "id": "bf795846",
   "metadata": {},
   "source": [
    "## 6) Indexer\n",
    "\n",
    "- Index를 도와주는 기능\n",
    "    - loc : 라벨값 기반의 2차원 인덱싱을 지원하는 인덱서, 행우선\n",
    "        - df.loc[\"a\"] : series로 추출\n",
    "        - 숫자로 접근 불가능. 이름으로만!\n",
    "    - iloc : 순서를 나타내는 정수 기반의 인덱서\n",
    "        - 숫자로만 접근 가능.\n",
    "    - at : 많은 데이터 중 한개의 값만 가져올 때 유리, 속도 빠름\n",
    "    - iat\n",
    "    - ix : 라벨값과 숫자 접근 모두 가능, 비권장"
   ]
  },
  {
   "cell_type": "markdown",
   "id": "f66a2ef7",
   "metadata": {},
   "source": [
    "### (1) loc"
   ]
  },
  {
   "cell_type": "code",
   "execution_count": 19,
   "id": "55e3e8da",
   "metadata": {},
   "outputs": [
    {
     "data": {
      "text/html": [
       "<div>\n",
       "<style scoped>\n",
       "    .dataframe tbody tr th:only-of-type {\n",
       "        vertical-align: middle;\n",
       "    }\n",
       "\n",
       "    .dataframe tbody tr th {\n",
       "        vertical-align: top;\n",
       "    }\n",
       "\n",
       "    .dataframe thead th {\n",
       "        text-align: right;\n",
       "    }\n",
       "</style>\n",
       "<table border=\"1\" class=\"dataframe\">\n",
       "  <thead>\n",
       "    <tr style=\"text-align: right;\">\n",
       "      <th></th>\n",
       "      <th>A</th>\n",
       "      <th>B</th>\n",
       "      <th>C</th>\n",
       "      <th>D</th>\n",
       "    </tr>\n",
       "  </thead>\n",
       "  <tbody>\n",
       "    <tr>\n",
       "      <th>a</th>\n",
       "      <td>10</td>\n",
       "      <td>11</td>\n",
       "      <td>12</td>\n",
       "      <td>13</td>\n",
       "    </tr>\n",
       "    <tr>\n",
       "      <th>b</th>\n",
       "      <td>14</td>\n",
       "      <td>15</td>\n",
       "      <td>16</td>\n",
       "      <td>17</td>\n",
       "    </tr>\n",
       "    <tr>\n",
       "      <th>c</th>\n",
       "      <td>18</td>\n",
       "      <td>19</td>\n",
       "      <td>20</td>\n",
       "      <td>21</td>\n",
       "    </tr>\n",
       "  </tbody>\n",
       "</table>\n",
       "</div>"
      ],
      "text/plain": [
       "    A   B   C   D\n",
       "a  10  11  12  13\n",
       "b  14  15  16  17\n",
       "c  18  19  20  21"
      ]
     },
     "execution_count": 19,
     "metadata": {},
     "output_type": "execute_result"
    }
   ],
   "source": [
    "df = pd.DataFrame(np.arange(10, 22).reshape(3, 4), index=[\"a\", \"b\", \"c\"], columns=[\"A\", \"B\", \"C\", \"D\"])\n",
    "df"
   ]
  },
  {
   "cell_type": "code",
   "execution_count": 26,
   "id": "75396ce2",
   "metadata": {
    "collapsed": true
   },
   "outputs": [
    {
     "name": "stdout",
     "output_type": "stream",
     "text": [
      "    A   B   C   D\n",
      "a  10  11  12  13\n",
      "----------------------------------\n",
      "A    10\n",
      "B    11\n",
      "C    12\n",
      "D    13\n",
      "Name: a, dtype: int32\n",
      "    A   B   C   D\n",
      "a  10  11  12  13\n"
     ]
    }
   ],
   "source": [
    "#### 첫번째 행 추출 ####\n",
    "\n",
    "print(df[0:1])\n",
    "print(\"----------------------------------\")\n",
    "print(df.loc[\"a\"])\n",
    "print(df.loc[[\"a\"]])"
   ]
  },
  {
   "cell_type": "code",
   "execution_count": 38,
   "id": "2cce52f0",
   "metadata": {},
   "outputs": [
    {
     "name": "stdout",
     "output_type": "stream",
     "text": [
      "a    10\n",
      "b    14\n",
      "c    18\n",
      "Name: A, dtype: int32\n",
      "----------------------------------\n",
      "    A   B   C   D\n",
      "c  18  19  20  21\n",
      "    A   B   C   D\n",
      "c  18  19  20  21\n",
      "    A   B   C   D\n",
      "c  18  19  20  21\n"
     ]
    }
   ],
   "source": [
    "#### 첫번째 열에서 15보다 큰 값을 추출(c행을 추출) ####\n",
    "\n",
    "print(df[\"A\"])\n",
    "# print(df.loc[:,\"A\"])    # 행우선, 행과 열 동시 접근 시 묶어줄 수 있음\n",
    "print(\"----------------------------------\")\n",
    "print(df.loc[df.loc[:,\"A\"]>15])\n",
    "print(df[df[\"A\"]>15])    # 열 접근시 기본 인덱싱이 편리\n",
    "print(df[df.A > 15])"
   ]
  },
  {
   "cell_type": "code",
   "execution_count": 52,
   "id": "b468da71",
   "metadata": {
    "collapsed": true
   },
   "outputs": [
    {
     "name": "stdout",
     "output_type": "stream",
     "text": [
      "15\n",
      "----------------------------------\n",
      "15\n",
      "15\n",
      "----------------------------------\n",
      "    B   C   D\n",
      "b  15  16  17\n",
      "c  19  20  21\n",
      "    B   C\n",
      "b  15  16\n",
      "c  19  20\n"
     ]
    }
   ],
   "source": [
    "#### 행과 열을 모두 사용할 경우 ####\n",
    "\n",
    "# b행 B열에 있는 한 개의 값을 추출\n",
    "print(df[\"B\"][\"b\"])\n",
    "# print(df[\"b\", \"B\"])\n",
    "print(\"----------------------------------\")\n",
    "print(df.loc[\"b\", \"B\"])\n",
    "print(df.loc[\"b\"][\"B\"])\n",
    "print(\"----------------------------------\")\n",
    "print(df.loc[\"b\":, \"B\":])               # 슬라이스 자유로움\n",
    "print(df.loc[[\"b\", \"c\"], [\"B\", \"C\"]])   # 행괴 열 각각 따로 지정 가능"
   ]
  },
  {
   "cell_type": "code",
   "execution_count": 54,
   "id": "010a3917",
   "metadata": {},
   "outputs": [],
   "source": [
    "#### loc는 반드시 레이블로만 접근\n",
    "\n",
    "# print(df.loc[1: , 1:])   # 숫자로 접근 불가능. 이름으로만\n",
    "# print(df.loc[[0, 1], [1, 2]])"
   ]
  },
  {
   "cell_type": "markdown",
   "id": "ce51671e",
   "metadata": {},
   "source": [
    "### (2) iloc"
   ]
  },
  {
   "cell_type": "code",
   "execution_count": 57,
   "id": "7ae40970",
   "metadata": {},
   "outputs": [
    {
     "name": "stdout",
     "output_type": "stream",
     "text": [
      "    B   C   D\n",
      "b  15  16  17\n",
      "c  19  20  21\n",
      "    B   C\n",
      "a  11  12\n",
      "b  15  16\n"
     ]
    }
   ],
   "source": [
    "#### iloc는 반드시 숫자로만 접근\n",
    "\n",
    "print(df.iloc[1: , 1:])\n",
    "print(df.iloc[[0, 1], [1, 2]])"
   ]
  },
  {
   "cell_type": "markdown",
   "id": "82dd3daa",
   "metadata": {},
   "source": [
    "### (3) at, iat"
   ]
  },
  {
   "cell_type": "markdown",
   "id": "ff97a81b",
   "metadata": {},
   "source": [
    "-----\n",
    "\n",
    "    %timeit : 시간 측정 가능\n",
    "    \n",
    "-----"
   ]
  },
  {
   "cell_type": "code",
   "execution_count": 58,
   "id": "d7aa9192",
   "metadata": {},
   "outputs": [
    {
     "name": "stdout",
     "output_type": "stream",
     "text": [
      "6.56 µs ± 152 ns per loop (mean ± std. dev. of 7 runs, 100000 loops each)\n",
      "3.41 µs ± 41.6 ns per loop (mean ± std. dev. of 7 runs, 100000 loops each)\n"
     ]
    }
   ],
   "source": [
    "%timeit df.loc[\"a\", \"A\"]\n",
    "%timeit df.at[\"a\", \"A\"]"
   ]
  },
  {
   "cell_type": "markdown",
   "id": "95c251f3",
   "metadata": {},
   "source": [
    "# 4. Data Manipulation"
   ]
  },
  {
   "cell_type": "markdown",
   "id": "229025c8",
   "metadata": {},
   "source": [
    "## 1) 데이터 카운팅"
   ]
  },
  {
   "cell_type": "markdown",
   "id": "b4df0f40",
   "metadata": {},
   "source": [
    "### (1) Series에서 카운팅"
   ]
  },
  {
   "cell_type": "code",
   "execution_count": 68,
   "id": "4475bc79",
   "metadata": {},
   "outputs": [
    {
     "data": {
      "text/plain": [
       "9"
      ]
     },
     "execution_count": 68,
     "metadata": {},
     "output_type": "execute_result"
    }
   ],
   "source": [
    "s = pd.Series(range(10))\n",
    "s.count()\n",
    "\n",
    "s[3] = np.nan\n",
    "s.count()  # 결측치 제외 후 카운팅"
   ]
  },
  {
   "cell_type": "markdown",
   "id": "dece048f",
   "metadata": {},
   "source": [
    "### (2) DataFrame에서 카운팅"
   ]
  },
  {
   "cell_type": "code",
   "execution_count": 85,
   "id": "357622b7",
   "metadata": {},
   "outputs": [
    {
     "data": {
      "text/plain": [
       "0    4\n",
       "1    4\n",
       "2    4\n",
       "3    3\n",
       "dtype: int64"
      ]
     },
     "execution_count": 85,
     "metadata": {},
     "output_type": "execute_result"
    }
   ],
   "source": [
    "np.random.seed(2)\n",
    "df = pd.DataFrame(np.random.randint(5, size=(4, 4)))\n",
    "df.count()   # 각 열에 대해서 카운팅\n",
    "\n",
    "df.iloc[2, 3] = np.nan\n",
    "df.count()   # 결측치 제외 후 카운팅"
   ]
  },
  {
   "cell_type": "markdown",
   "id": "2c1035e0",
   "metadata": {},
   "source": [
    "### (3) 카테고리별 카운팅\n",
    "\n",
    "- value_counts()"
   ]
  },
  {
   "cell_type": "code",
   "execution_count": 87,
   "id": "f300b025",
   "metadata": {
    "collapsed": true
   },
   "outputs": [
    {
     "name": "stdout",
     "output_type": "stream",
     "text": [
      "1    22\n",
      "0    18\n",
      "4    17\n",
      "5    16\n",
      "3    14\n",
      "2    13\n",
      "dtype: int64\n",
      "----------------------------------\n",
      "3    2\n",
      "0    1\n",
      "4    1\n",
      "Name: 0, dtype: int64\n",
      "4    2\n",
      "3    1\n",
      "2    1\n",
      "Name: 2, dtype: int64\n"
     ]
    }
   ],
   "source": [
    "np.random.seed(1)\n",
    "\n",
    "s = pd.Series(np.random.randint(6, size=100))\n",
    "s\n",
    "\n",
    "print(s.value_counts())\n",
    "print(\"----------------------------------\")\n",
    "print(df[0].value_counts())\n",
    "print(df[2].value_counts())   # 각각의 열을 뽑아야 value_counts가능"
   ]
  },
  {
   "cell_type": "markdown",
   "id": "b46b6af3",
   "metadata": {},
   "source": [
    "## 2) 정렬\n",
    "\n",
    "- sort_values() : 값 기준\n",
    "- sort_index() : 인덱스 기준\n",
    "    - ascending=False : 내림차순\n",
    "    - inplace=True : 원본에 바로 저장\n",
    "    \n",
    "- 결측치는 정렬의 대상이 되지 않음"
   ]
  },
  {
   "cell_type": "markdown",
   "id": "8d0d4728",
   "metadata": {},
   "source": [
    "### (1) Series에서의 정렬"
   ]
  },
  {
   "cell_type": "code",
   "execution_count": 93,
   "id": "efb36e9b",
   "metadata": {
    "collapsed": true
   },
   "outputs": [
    {
     "data": {
      "text/plain": [
       "0     5\n",
       "74    5\n",
       "23    5\n",
       "32    5\n",
       "40    5\n",
       "     ..\n",
       "68    0\n",
       "57    0\n",
       "77    0\n",
       "38    0\n",
       "78    0\n",
       "Length: 100, dtype: int32"
      ]
     },
     "execution_count": 93,
     "metadata": {},
     "output_type": "execute_result"
    }
   ],
   "source": [
    "np.random.seed(1)\n",
    "s = pd.Series(np.random.randint(6, size=100))\n",
    "\n",
    "s.value_counts()   # 자동으로 값 기준으로 정렬되어서 나옴\n",
    "s.value_counts().sort_index()\n",
    "s.sort_values()    # 값을 가지고 정렬 가능\n",
    "s.sort_values(ascending=False) # 내림차순"
   ]
  },
  {
   "cell_type": "markdown",
   "id": "54834d22",
   "metadata": {},
   "source": [
    "### (2) DataFrame에서의 정렬"
   ]
  },
  {
   "cell_type": "code",
   "execution_count": 108,
   "id": "ed89bd6f",
   "metadata": {
    "scrolled": true
   },
   "outputs": [
    {
     "name": "stdout",
     "output_type": "stream",
     "text": [
      "     0    1    2    3\n",
      "0  0.0  0.0  3.0  2.0\n",
      "1  3.0  0.0  2.0  1.0\n",
      "2  3.0  2.0  4.0  4.0\n",
      "3  4.0  3.0  4.0  2.0\n",
      "----------------------\n",
      "     0    1    2    3\n",
      "1  3.0  0.0  2.0  1.0\n",
      "0  0.0  0.0  3.0  2.0\n",
      "2  3.0  2.0  4.0  4.0\n",
      "3  4.0  3.0  4.0  2.0\n",
      "----------------------\n",
      "     0    1    2    3\n",
      "1  3.0  0.0  2.0  1.0\n",
      "0  0.0  0.0  3.0  2.0\n",
      "2  3.0  2.0  4.0  4.0\n",
      "3  4.0  3.0  4.0  2.0\n"
     ]
    }
   ],
   "source": [
    "np.random.seed(2)\n",
    "df = pd.DataFrame(np.random.randint(5, size=(4, 4)), dtype=float)\n",
    "print(df)\n",
    "print(\"----------------------\")\n",
    "print(df.sort_values(by=2))       # 2번열을 기준으로 정렬\n",
    "print(\"----------------------\")\n",
    "print(df.sort_values(by=[1, 2]))  # 2차, 3차,.. 정렬 가능"
   ]
  },
  {
   "cell_type": "code",
   "execution_count": 130,
   "id": "1eb683d8",
   "metadata": {
    "collapsed": true
   },
   "outputs": [
    {
     "name": "stdout",
     "output_type": "stream",
     "text": [
      "   seq  name  age\n",
      "0    1  park   30\n",
      "1    3   lee   20\n",
      "2    2  choi   40\n",
      "------------------\n",
      "   seq  name  age\n",
      "1    3   lee   20\n",
      "2    2  choi   40\n",
      "0    1  park   30\n",
      "------------------\n",
      "   age  name  seq\n",
      "0   30  park    1\n",
      "1   20   lee    3\n",
      "2   40  choi    2\n"
     ]
    },
    {
     "data": {
      "text/html": [
       "<div>\n",
       "<style scoped>\n",
       "    .dataframe tbody tr th:only-of-type {\n",
       "        vertical-align: middle;\n",
       "    }\n",
       "\n",
       "    .dataframe tbody tr th {\n",
       "        vertical-align: top;\n",
       "    }\n",
       "\n",
       "    .dataframe thead th {\n",
       "        text-align: right;\n",
       "    }\n",
       "</style>\n",
       "<table border=\"1\" class=\"dataframe\">\n",
       "  <thead>\n",
       "    <tr style=\"text-align: right;\">\n",
       "      <th></th>\n",
       "      <th>seq</th>\n",
       "      <th>name</th>\n",
       "      <th>age</th>\n",
       "    </tr>\n",
       "  </thead>\n",
       "  <tbody>\n",
       "    <tr>\n",
       "      <th>1</th>\n",
       "      <td>3</td>\n",
       "      <td>lee</td>\n",
       "      <td>20</td>\n",
       "    </tr>\n",
       "    <tr>\n",
       "      <th>2</th>\n",
       "      <td>2</td>\n",
       "      <td>choi</td>\n",
       "      <td>40</td>\n",
       "    </tr>\n",
       "    <tr>\n",
       "      <th>0</th>\n",
       "      <td>1</td>\n",
       "      <td>park</td>\n",
       "      <td>30</td>\n",
       "    </tr>\n",
       "  </tbody>\n",
       "</table>\n",
       "</div>"
      ],
      "text/plain": [
       "   seq  name  age\n",
       "1    3   lee   20\n",
       "2    2  choi   40\n",
       "0    1  park   30"
      ]
     },
     "execution_count": 130,
     "metadata": {},
     "output_type": "execute_result"
    }
   ],
   "source": [
    "df1 = pd.DataFrame({\"seq\" : [1, 3, 2], \"name\" : [\"park\", \"lee\", \"choi\"], \"age\" : [30, 20, 40]})\n",
    "print(df1)\n",
    "print(\"------------------\")\n",
    "\n",
    "# seq를 기준으로 내림차순 정렬\n",
    "print(df1.sort_values(by=\"seq\", ascending=False))\n",
    "print(\"------------------\")\n",
    "\n",
    "# index를 기준으로 정렬\n",
    "# print(df1.sort_index())\n",
    "print(df1.sort_index(axis=1))   # 컬럼 이름을 기준으로 정렬\n",
    "\n",
    "# inplace\n",
    "df1.sort_index(axis=1) # 복사본에서 정렬되므로 원본 변경할려면 재할당 해야함\n",
    "df1.sort_values(by=[\"seq\", \"name\"], axis=0, ascending=False, inplace=True)   # 원본에 바로 저장 가능\n",
    "df1"
   ]
  },
  {
   "cell_type": "markdown",
   "id": "f6a6c8df",
   "metadata": {},
   "source": [
    "## 3) 행, 열의 집합 연산"
   ]
  },
  {
   "cell_type": "code",
   "execution_count": 140,
   "id": "6c06ac8d",
   "metadata": {},
   "outputs": [
    {
     "name": "stdout",
     "output_type": "stream",
     "text": [
      "   0  1  2  3  4  5  6  7\n",
      "0  8  8  6  2  8  7  2  1\n",
      "1  5  4  4  5  7  3  6  4\n",
      "2  3  7  6  1  3  5  8  4\n",
      "3  6  3  9  2  0  4  2  4\n",
      "-----------------------------------------------------------------\n",
      "           0     1     2     3     4     5     6     7  LowSum\n",
      "0        8.0   8.0   6.0   2.0   8.0   7.0   2.0   1.0    42.0\n",
      "1        5.0   4.0   4.0   5.0   7.0   3.0   6.0   4.0    38.0\n",
      "2        3.0   7.0   6.0   1.0   3.0   5.0   8.0   4.0    37.0\n",
      "3        6.0   3.0   9.0   2.0   0.0   4.0   2.0   4.0    30.0\n",
      "ColSum  22.0  22.0  25.0  10.0  18.0  19.0  18.0  13.0   147.0\n"
     ]
    }
   ],
   "source": [
    "np.random.seed(2)\n",
    "df = pd.DataFrame(np.random.randint(10, size=(4, 8)), dtype=int)\n",
    "print(df)\n",
    "print(\"-----------------------------------------------------------------\")\n",
    "df.sum()        # 열마다 합계\n",
    "df.sum(axis=1)  # 행마다 합계\n",
    "\n",
    "# 행 추가하기\n",
    "df.loc[\"ColSum\", :] = df.sum()\n",
    "df[\"LowSum\"] = df.sum(axis=1)\n",
    "print(df)"
   ]
  },
  {
   "cell_type": "markdown",
   "id": "aa6f079f",
   "metadata": {},
   "source": [
    "## 4) apply()\n",
    "\n",
    "- 행이나 열 단위로 더 복잡한 처리를 하고자 할 때 사용\n",
    "- 인수로 행 또는 열을 받는 함수를 apply()의 인수로 넣으면 각 열(또는 행)을 반복하여 그 함수에 적용\n",
    "\n",
    "----\n",
    "\n",
    "- fillna() : NaN으로 채워진 결측치를 원하는 값으로 변경 가능"
   ]
  },
  {
   "cell_type": "code",
   "execution_count": 142,
   "id": "74aca9bd",
   "metadata": {
    "collapsed": true
   },
   "outputs": [
    {
     "data": {
      "text/html": [
       "<div>\n",
       "<style scoped>\n",
       "    .dataframe tbody tr th:only-of-type {\n",
       "        vertical-align: middle;\n",
       "    }\n",
       "\n",
       "    .dataframe tbody tr th {\n",
       "        vertical-align: top;\n",
       "    }\n",
       "\n",
       "    .dataframe thead th {\n",
       "        text-align: right;\n",
       "    }\n",
       "</style>\n",
       "<table border=\"1\" class=\"dataframe\">\n",
       "  <thead>\n",
       "    <tr style=\"text-align: right;\">\n",
       "      <th></th>\n",
       "      <th>A</th>\n",
       "      <th>B</th>\n",
       "      <th>C</th>\n",
       "    </tr>\n",
       "  </thead>\n",
       "  <tbody>\n",
       "    <tr>\n",
       "      <th>0</th>\n",
       "      <td>1</td>\n",
       "      <td>2</td>\n",
       "      <td>1</td>\n",
       "    </tr>\n",
       "    <tr>\n",
       "      <th>1</th>\n",
       "      <td>2</td>\n",
       "      <td>3</td>\n",
       "      <td>5</td>\n",
       "    </tr>\n",
       "    <tr>\n",
       "      <th>2</th>\n",
       "      <td>3</td>\n",
       "      <td>1</td>\n",
       "      <td>2</td>\n",
       "    </tr>\n",
       "    <tr>\n",
       "      <th>3</th>\n",
       "      <td>4</td>\n",
       "      <td>2</td>\n",
       "      <td>4</td>\n",
       "    </tr>\n",
       "    <tr>\n",
       "      <th>4</th>\n",
       "      <td>5</td>\n",
       "      <td>3</td>\n",
       "      <td>4</td>\n",
       "    </tr>\n",
       "  </tbody>\n",
       "</table>\n",
       "</div>"
      ],
      "text/plain": [
       "   A  B  C\n",
       "0  1  2  1\n",
       "1  2  3  5\n",
       "2  3  1  2\n",
       "3  4  2  4\n",
       "4  5  3  4"
      ]
     },
     "execution_count": 142,
     "metadata": {},
     "output_type": "execute_result"
    }
   ],
   "source": [
    "df = pd.DataFrame({\n",
    "    \"A\" : [1, 2, 3, 4, 5],\n",
    "    \"B\" : [2, 3, 1, 2, 3],\n",
    "    \"C\" : [1, 5, 2, 4, 4]\n",
    "})\n",
    "df"
   ]
  },
  {
   "cell_type": "code",
   "execution_count": 155,
   "id": "0a93e6e2",
   "metadata": {
    "collapsed": true
   },
   "outputs": [
    {
     "name": "stdout",
     "output_type": "stream",
     "text": [
      "4 2 4\n",
      "-----------------------------------------\n",
      "1 3 2 2 2\n",
      "=========================================\n",
      "A    4\n",
      "B    2\n",
      "C    4\n",
      "dtype: int64\n",
      "-----------------------------------------\n",
      "0    1\n",
      "1    3\n",
      "2    2\n",
      "3    2\n",
      "4    2\n",
      "dtype: int64\n"
     ]
    }
   ],
   "source": [
    "#### 각 열(행)별로 최대값 - 최솟값 구하기\n",
    "\n",
    "def diff(x):\n",
    "    return x.max() - x.min()\n",
    "\n",
    "##################################################\n",
    "\n",
    "print(diff(df[\"A\"]), diff(df[\"B\"]), diff(df[\"C\"]))\n",
    "print(\"-----------------------------------------\")\n",
    "print(diff(df.loc[0, :]), diff(df.loc[1, :]), diff(df.loc[2, :]), diff(df.loc[3, :]), diff(df.loc[4, :]))\n",
    "print(\"=========================================\")\n",
    "print(df.apply(diff, axis=0))\n",
    "print(\"-----------------------------------------\")\n",
    "print(df.apply(diff, axis=1))"
   ]
  },
  {
   "cell_type": "code",
   "execution_count": 166,
   "id": "e422a100",
   "metadata": {
    "scrolled": true
   },
   "outputs": [
    {
     "data": {
      "text/plain": [
       "A    4\n",
       "B    2\n",
       "C    4\n",
       "dtype: int64"
      ]
     },
     "execution_count": 166,
     "metadata": {},
     "output_type": "execute_result"
    }
   ],
   "source": [
    "#### 위의 코드를 람다함수로\n",
    "\n",
    "df.apply(lambda x : x.max()-x.min(), axis=0)"
   ]
  },
  {
   "cell_type": "code",
   "execution_count": 185,
   "id": "6969396e",
   "metadata": {
    "collapsed": true
   },
   "outputs": [
    {
     "name": "stdout",
     "output_type": "stream",
     "text": [
      "1    1\n",
      "2    1\n",
      "3    1\n",
      "4    1\n",
      "5    1\n",
      "Name: A, dtype: int64\n",
      "2    2\n",
      "3    2\n",
      "1    1\n",
      "Name: B, dtype: int64\n",
      "4    2\n",
      "1    1\n",
      "5    1\n",
      "2    1\n",
      "Name: C, dtype: int64\n"
     ]
    },
    {
     "data": {
      "text/html": [
       "<div>\n",
       "<style scoped>\n",
       "    .dataframe tbody tr th:only-of-type {\n",
       "        vertical-align: middle;\n",
       "    }\n",
       "\n",
       "    .dataframe tbody tr th {\n",
       "        vertical-align: top;\n",
       "    }\n",
       "\n",
       "    .dataframe thead th {\n",
       "        text-align: right;\n",
       "    }\n",
       "</style>\n",
       "<table border=\"1\" class=\"dataframe\">\n",
       "  <thead>\n",
       "    <tr style=\"text-align: right;\">\n",
       "      <th></th>\n",
       "      <th>A</th>\n",
       "      <th>B</th>\n",
       "      <th>C</th>\n",
       "    </tr>\n",
       "  </thead>\n",
       "  <tbody>\n",
       "    <tr>\n",
       "      <th>1</th>\n",
       "      <td>1</td>\n",
       "      <td>1.0</td>\n",
       "      <td>1.0</td>\n",
       "    </tr>\n",
       "    <tr>\n",
       "      <th>2</th>\n",
       "      <td>1</td>\n",
       "      <td>2.0</td>\n",
       "      <td>1.0</td>\n",
       "    </tr>\n",
       "    <tr>\n",
       "      <th>3</th>\n",
       "      <td>1</td>\n",
       "      <td>2.0</td>\n",
       "      <td>0.0</td>\n",
       "    </tr>\n",
       "    <tr>\n",
       "      <th>4</th>\n",
       "      <td>1</td>\n",
       "      <td>0.0</td>\n",
       "      <td>2.0</td>\n",
       "    </tr>\n",
       "    <tr>\n",
       "      <th>5</th>\n",
       "      <td>1</td>\n",
       "      <td>0.0</td>\n",
       "      <td>1.0</td>\n",
       "    </tr>\n",
       "  </tbody>\n",
       "</table>\n",
       "</div>"
      ],
      "text/plain": [
       "   A    B    C\n",
       "1  1  1.0  1.0\n",
       "2  1  2.0  1.0\n",
       "3  1  2.0  0.0\n",
       "4  1  0.0  2.0\n",
       "5  1  0.0  1.0"
      ]
     },
     "execution_count": 185,
     "metadata": {},
     "output_type": "execute_result"
    }
   ],
   "source": [
    "#### 각 열에 대해 어떤 값이 얼마나 사용되었는지 조회\n",
    "\n",
    "print(df[\"A\"].value_counts())\n",
    "print(df[\"B\"].value_counts())\n",
    "print(df[\"C\"].value_counts())\n",
    "df.apply(pd.Series.value_counts, axis=0)\n",
    "df.apply(df.value_counts, axis=0).fillna(0)"
   ]
  },
  {
   "cell_type": "code",
   "execution_count": 182,
   "id": "9cb6d46b",
   "metadata": {},
   "outputs": [],
   "source": [
    "?pd.DataFrame.value_counts"
   ]
  },
  {
   "cell_type": "markdown",
   "id": "00fd86b3",
   "metadata": {},
   "source": [
    "## 5) 실수값을 카테고리값으로 변경\n",
    "\n",
    "- 양적데이터(숫자) -> 질적데이터(숫자X)\n",
    "- cut()\n",
    "    - pd.cut(x=data, bins=[범위], labels=[카테고리지정가능])\n",
    "- qcut()\n",
    "    - pd.qcut(data, 4, labels=[\"Q1\", \"Q2\", \"Q3\", \"Q4\"])\n",
    "    - 지료를 n등분해줌"
   ]
  },
  {
   "cell_type": "markdown",
   "id": "9faaa217",
   "metadata": {},
   "source": [
    "### (1) cut()"
   ]
  },
  {
   "cell_type": "code",
   "execution_count": 193,
   "id": "773cd43e",
   "metadata": {},
   "outputs": [
    {
     "name": "stdout",
     "output_type": "stream",
     "text": [
      "[NaN, '미성년자', '미성년자', '청년', '청년', ..., '노년', '청년', '중년', '장년', NaN]\n",
      "Length: 12\n",
      "Categories (5, object): ['미성년자' < '청년' < '장년' < '중년' < '노년']\n"
     ]
    }
   ],
   "source": [
    "# 1~15 : 미성년자, 16~25 : 청년, 26~35 : 중년, 36~60 : 장년, 61~99 : 노년\n",
    "\n",
    "ages = [0, 2, 10, 21, 23, 37, 31, 61, 20, 41, 32, 100]\n",
    "\n",
    "cat = pd.cut(x=ages, bins=[1, 15, 25, 35, 60, 99], labels=[\"미성년자\", \"청년\", \"장년\", \"중년\", \"노년\"])\n",
    "print(cat)"
   ]
  },
  {
   "cell_type": "code",
   "execution_count": 198,
   "id": "4275d153",
   "metadata": {},
   "outputs": [
    {
     "name": "stdout",
     "output_type": "stream",
     "text": [
      "<class 'pandas.core.arrays.categorical.Categorical'>\n",
      "Index(['미성년자', '청년', '장년', '중년', '노년'], dtype='object')\n",
      "[-1  0  0  1  1  3  2  4  1  3  2 -1]\n"
     ]
    }
   ],
   "source": [
    "print(type(cat))\n",
    "print(cat.categories)\n",
    "print(cat.codes)  # -1은 이상치"
   ]
  },
  {
   "cell_type": "markdown",
   "id": "be9da89d",
   "metadata": {},
   "source": [
    "### (2) qcut()"
   ]
  },
  {
   "cell_type": "code",
   "execution_count": 202,
   "id": "0ad06dd4",
   "metadata": {},
   "outputs": [
    {
     "name": "stdout",
     "output_type": "stream",
     "text": [
      "['Q3', 'Q1', 'Q1', 'Q1', 'Q1', ..., 'Q2', 'Q1', 'Q2', 'Q1', 'Q2']\n",
      "Length: 100\n",
      "Categories (4, object): ['Q1' < 'Q2' < 'Q3' < 'Q4']\n"
     ]
    },
    {
     "data": {
      "text/plain": [
       "Q1    25\n",
       "Q2    25\n",
       "Q3    25\n",
       "Q4    25\n",
       "dtype: int64"
      ]
     },
     "execution_count": 202,
     "metadata": {},
     "output_type": "execute_result"
    }
   ],
   "source": [
    "data = np.random.randn(100)\n",
    "cat1 = pd.qcut(data, 4, labels=[\"Q1\", \"Q2\", \"Q3\", \"Q4\"])\n",
    "print(cat1)\n",
    "\n",
    "pd.value_counts(cat1)"
   ]
  },
  {
   "cell_type": "markdown",
   "id": "922c1c95",
   "metadata": {},
   "source": [
    "# 5. Index Manipulation"
   ]
  },
  {
   "cell_type": "markdown",
   "id": "522eb6d1",
   "metadata": {},
   "source": [
    "## 1) set_index(), reset_index()\n",
    "\n",
    "- set_index()\n",
    "    - 원하는 컬럼을 인덱스로 지정\n",
    "    - 새로 인덱스를 지정하면 기존 인덱스는 사라짐\n",
    "    \n",
    "- reset_index()\n",
    "    - 기존 인덱스로 돌아오고 지정됐던 인덱스는 다시 컬럼으로 돌아옴\n",
    "    - drop=True : 지정 인덱스를 컬럼으로 돌리지 않고 바로 삭제 -> 원본이 변함"
   ]
  },
  {
   "cell_type": "code",
   "execution_count": 211,
   "id": "d92398ce",
   "metadata": {
    "collapsed": true
   },
   "outputs": [
    {
     "data": {
      "text/html": [
       "<div>\n",
       "<style scoped>\n",
       "    .dataframe tbody tr th:only-of-type {\n",
       "        vertical-align: middle;\n",
       "    }\n",
       "\n",
       "    .dataframe tbody tr th {\n",
       "        vertical-align: top;\n",
       "    }\n",
       "\n",
       "    .dataframe thead th {\n",
       "        text-align: right;\n",
       "    }\n",
       "</style>\n",
       "<table border=\"1\" class=\"dataframe\">\n",
       "  <thead>\n",
       "    <tr style=\"text-align: right;\">\n",
       "      <th></th>\n",
       "      <th>C1</th>\n",
       "      <th>C2</th>\n",
       "      <th>C3</th>\n",
       "      <th>C4</th>\n",
       "    </tr>\n",
       "  </thead>\n",
       "  <tbody>\n",
       "    <tr>\n",
       "      <th>0</th>\n",
       "      <td>A</td>\n",
       "      <td>1.0</td>\n",
       "      <td>1.0</td>\n",
       "      <td>1.0</td>\n",
       "    </tr>\n",
       "    <tr>\n",
       "      <th>1</th>\n",
       "      <td>B</td>\n",
       "      <td>1.0</td>\n",
       "      <td>0.0</td>\n",
       "      <td>1.0</td>\n",
       "    </tr>\n",
       "    <tr>\n",
       "      <th>2</th>\n",
       "      <td>C</td>\n",
       "      <td>1.0</td>\n",
       "      <td>1.0</td>\n",
       "      <td>1.0</td>\n",
       "    </tr>\n",
       "    <tr>\n",
       "      <th>3</th>\n",
       "      <td>D</td>\n",
       "      <td>1.0</td>\n",
       "      <td>1.0</td>\n",
       "      <td>1.0</td>\n",
       "    </tr>\n",
       "    <tr>\n",
       "      <th>4</th>\n",
       "      <td>E</td>\n",
       "      <td>0.0</td>\n",
       "      <td>0.0</td>\n",
       "      <td>0.0</td>\n",
       "    </tr>\n",
       "  </tbody>\n",
       "</table>\n",
       "</div>"
      ],
      "text/plain": [
       "  C1   C2   C3   C4\n",
       "0  A  1.0  1.0  1.0\n",
       "1  B  1.0  0.0  1.0\n",
       "2  C  1.0  1.0  1.0\n",
       "3  D  1.0  1.0  1.0\n",
       "4  E  0.0  0.0  0.0"
      ]
     },
     "execution_count": 211,
     "metadata": {},
     "output_type": "execute_result"
    }
   ],
   "source": [
    "np.random.seed(0)\n",
    "df1 = pd.DataFrame(np.vstack([list(\"ABCDE\"), np.random.rand(3, 5).round(0)]).T, columns=[\"C1\", \"C2\", \"C3\", \"C4\"])\n",
    "df1"
   ]
  },
  {
   "cell_type": "code",
   "execution_count": 216,
   "id": "f42a34f4",
   "metadata": {},
   "outputs": [
    {
     "data": {
      "text/html": [
       "<div>\n",
       "<style scoped>\n",
       "    .dataframe tbody tr th:only-of-type {\n",
       "        vertical-align: middle;\n",
       "    }\n",
       "\n",
       "    .dataframe tbody tr th {\n",
       "        vertical-align: top;\n",
       "    }\n",
       "\n",
       "    .dataframe thead th {\n",
       "        text-align: right;\n",
       "    }\n",
       "</style>\n",
       "<table border=\"1\" class=\"dataframe\">\n",
       "  <thead>\n",
       "    <tr style=\"text-align: right;\">\n",
       "      <th></th>\n",
       "      <th>C2</th>\n",
       "      <th>C3</th>\n",
       "      <th>C4</th>\n",
       "    </tr>\n",
       "    <tr>\n",
       "      <th>C1</th>\n",
       "      <th></th>\n",
       "      <th></th>\n",
       "      <th></th>\n",
       "    </tr>\n",
       "  </thead>\n",
       "  <tbody>\n",
       "    <tr>\n",
       "      <th>A</th>\n",
       "      <td>1.0</td>\n",
       "      <td>1.0</td>\n",
       "      <td>1.0</td>\n",
       "    </tr>\n",
       "    <tr>\n",
       "      <th>B</th>\n",
       "      <td>1.0</td>\n",
       "      <td>0.0</td>\n",
       "      <td>1.0</td>\n",
       "    </tr>\n",
       "    <tr>\n",
       "      <th>C</th>\n",
       "      <td>1.0</td>\n",
       "      <td>1.0</td>\n",
       "      <td>1.0</td>\n",
       "    </tr>\n",
       "    <tr>\n",
       "      <th>D</th>\n",
       "      <td>1.0</td>\n",
       "      <td>1.0</td>\n",
       "      <td>1.0</td>\n",
       "    </tr>\n",
       "    <tr>\n",
       "      <th>E</th>\n",
       "      <td>0.0</td>\n",
       "      <td>0.0</td>\n",
       "      <td>0.0</td>\n",
       "    </tr>\n",
       "  </tbody>\n",
       "</table>\n",
       "</div>"
      ],
      "text/plain": [
       "     C2   C3   C4\n",
       "C1               \n",
       "A   1.0  1.0  1.0\n",
       "B   1.0  0.0  1.0\n",
       "C   1.0  1.0  1.0\n",
       "D   1.0  1.0  1.0\n",
       "E   0.0  0.0  0.0"
      ]
     },
     "execution_count": 216,
     "metadata": {},
     "output_type": "execute_result"
    }
   ],
   "source": [
    "df2 = df1.set_index(\"C1\")  # 원본 변화 X\n",
    "df2"
   ]
  },
  {
   "cell_type": "code",
   "execution_count": 220,
   "id": "c807d979",
   "metadata": {
    "collapsed": true
   },
   "outputs": [
    {
     "data": {
      "text/html": [
       "<div>\n",
       "<style scoped>\n",
       "    .dataframe tbody tr th:only-of-type {\n",
       "        vertical-align: middle;\n",
       "    }\n",
       "\n",
       "    .dataframe tbody tr th {\n",
       "        vertical-align: top;\n",
       "    }\n",
       "\n",
       "    .dataframe thead th {\n",
       "        text-align: right;\n",
       "    }\n",
       "</style>\n",
       "<table border=\"1\" class=\"dataframe\">\n",
       "  <thead>\n",
       "    <tr style=\"text-align: right;\">\n",
       "      <th></th>\n",
       "      <th>C3</th>\n",
       "      <th>C4</th>\n",
       "    </tr>\n",
       "    <tr>\n",
       "      <th>C2</th>\n",
       "      <th></th>\n",
       "      <th></th>\n",
       "    </tr>\n",
       "  </thead>\n",
       "  <tbody>\n",
       "    <tr>\n",
       "      <th>1.0</th>\n",
       "      <td>1.0</td>\n",
       "      <td>1.0</td>\n",
       "    </tr>\n",
       "    <tr>\n",
       "      <th>1.0</th>\n",
       "      <td>0.0</td>\n",
       "      <td>1.0</td>\n",
       "    </tr>\n",
       "    <tr>\n",
       "      <th>1.0</th>\n",
       "      <td>1.0</td>\n",
       "      <td>1.0</td>\n",
       "    </tr>\n",
       "    <tr>\n",
       "      <th>1.0</th>\n",
       "      <td>1.0</td>\n",
       "      <td>1.0</td>\n",
       "    </tr>\n",
       "    <tr>\n",
       "      <th>0.0</th>\n",
       "      <td>0.0</td>\n",
       "      <td>0.0</td>\n",
       "    </tr>\n",
       "  </tbody>\n",
       "</table>\n",
       "</div>"
      ],
      "text/plain": [
       "      C3   C4\n",
       "C2           \n",
       "1.0  1.0  1.0\n",
       "1.0  0.0  1.0\n",
       "1.0  1.0  1.0\n",
       "1.0  1.0  1.0\n",
       "0.0  0.0  0.0"
      ]
     },
     "execution_count": 220,
     "metadata": {},
     "output_type": "execute_result"
    }
   ],
   "source": [
    "df2.set_index(\"C2\")"
   ]
  },
  {
   "cell_type": "code",
   "execution_count": 226,
   "id": "af89799a",
   "metadata": {},
   "outputs": [
    {
     "data": {
      "text/html": [
       "<div>\n",
       "<style scoped>\n",
       "    .dataframe tbody tr th:only-of-type {\n",
       "        vertical-align: middle;\n",
       "    }\n",
       "\n",
       "    .dataframe tbody tr th {\n",
       "        vertical-align: top;\n",
       "    }\n",
       "\n",
       "    .dataframe thead th {\n",
       "        text-align: right;\n",
       "    }\n",
       "</style>\n",
       "<table border=\"1\" class=\"dataframe\">\n",
       "  <thead>\n",
       "    <tr style=\"text-align: right;\">\n",
       "      <th></th>\n",
       "      <th>C2</th>\n",
       "      <th>C3</th>\n",
       "      <th>C4</th>\n",
       "    </tr>\n",
       "    <tr>\n",
       "      <th>C1</th>\n",
       "      <th></th>\n",
       "      <th></th>\n",
       "      <th></th>\n",
       "    </tr>\n",
       "  </thead>\n",
       "  <tbody>\n",
       "    <tr>\n",
       "      <th>A</th>\n",
       "      <td>1.0</td>\n",
       "      <td>1.0</td>\n",
       "      <td>1.0</td>\n",
       "    </tr>\n",
       "    <tr>\n",
       "      <th>B</th>\n",
       "      <td>1.0</td>\n",
       "      <td>0.0</td>\n",
       "      <td>1.0</td>\n",
       "    </tr>\n",
       "    <tr>\n",
       "      <th>C</th>\n",
       "      <td>1.0</td>\n",
       "      <td>1.0</td>\n",
       "      <td>1.0</td>\n",
       "    </tr>\n",
       "    <tr>\n",
       "      <th>D</th>\n",
       "      <td>1.0</td>\n",
       "      <td>1.0</td>\n",
       "      <td>1.0</td>\n",
       "    </tr>\n",
       "    <tr>\n",
       "      <th>E</th>\n",
       "      <td>0.0</td>\n",
       "      <td>0.0</td>\n",
       "      <td>0.0</td>\n",
       "    </tr>\n",
       "  </tbody>\n",
       "</table>\n",
       "</div>"
      ],
      "text/plain": [
       "     C2   C3   C4\n",
       "C1               \n",
       "A   1.0  1.0  1.0\n",
       "B   1.0  0.0  1.0\n",
       "C   1.0  1.0  1.0\n",
       "D   1.0  1.0  1.0\n",
       "E   0.0  0.0  0.0"
      ]
     },
     "execution_count": 226,
     "metadata": {},
     "output_type": "execute_result"
    }
   ],
   "source": [
    "# df2.reset_index()\n",
    "df2.reset_index(drop=True)\n",
    "df2"
   ]
  },
  {
   "cell_type": "markdown",
   "id": "943e44f6",
   "metadata": {},
   "source": [
    "## 2) 다중 인덱스"
   ]
  },
  {
   "cell_type": "code",
   "execution_count": 237,
   "id": "341085d4",
   "metadata": {},
   "outputs": [
    {
     "data": {
      "text/html": [
       "<div>\n",
       "<style scoped>\n",
       "    .dataframe tbody tr th:only-of-type {\n",
       "        vertical-align: middle;\n",
       "    }\n",
       "\n",
       "    .dataframe tbody tr th {\n",
       "        vertical-align: top;\n",
       "    }\n",
       "\n",
       "    .dataframe thead tr th {\n",
       "        text-align: left;\n",
       "    }\n",
       "</style>\n",
       "<table border=\"1\" class=\"dataframe\">\n",
       "  <thead>\n",
       "    <tr>\n",
       "      <th>Cidx1</th>\n",
       "      <th colspan=\"2\" halign=\"left\">A</th>\n",
       "      <th colspan=\"2\" halign=\"left\">B</th>\n",
       "    </tr>\n",
       "    <tr>\n",
       "      <th>Cidx2</th>\n",
       "      <th>C1</th>\n",
       "      <th>C2</th>\n",
       "      <th>C1</th>\n",
       "      <th>C2</th>\n",
       "    </tr>\n",
       "  </thead>\n",
       "  <tbody>\n",
       "    <tr>\n",
       "      <th>0</th>\n",
       "      <td>A</td>\n",
       "      <td>1.0</td>\n",
       "      <td>1.0</td>\n",
       "      <td>1.0</td>\n",
       "    </tr>\n",
       "    <tr>\n",
       "      <th>1</th>\n",
       "      <td>B</td>\n",
       "      <td>1.0</td>\n",
       "      <td>0.0</td>\n",
       "      <td>1.0</td>\n",
       "    </tr>\n",
       "    <tr>\n",
       "      <th>2</th>\n",
       "      <td>C</td>\n",
       "      <td>1.0</td>\n",
       "      <td>1.0</td>\n",
       "      <td>1.0</td>\n",
       "    </tr>\n",
       "    <tr>\n",
       "      <th>3</th>\n",
       "      <td>D</td>\n",
       "      <td>1.0</td>\n",
       "      <td>1.0</td>\n",
       "      <td>1.0</td>\n",
       "    </tr>\n",
       "    <tr>\n",
       "      <th>4</th>\n",
       "      <td>E</td>\n",
       "      <td>0.0</td>\n",
       "      <td>0.0</td>\n",
       "      <td>0.0</td>\n",
       "    </tr>\n",
       "  </tbody>\n",
       "</table>\n",
       "</div>"
      ],
      "text/plain": [
       "Cidx1  A         B     \n",
       "Cidx2 C1   C2   C1   C2\n",
       "0      A  1.0  1.0  1.0\n",
       "1      B  1.0  0.0  1.0\n",
       "2      C  1.0  1.0  1.0\n",
       "3      D  1.0  1.0  1.0\n",
       "4      E  0.0  0.0  0.0"
      ]
     },
     "execution_count": 237,
     "metadata": {},
     "output_type": "execute_result"
    }
   ],
   "source": [
    "#### 다중 컬럼을 갖는 테이블\n",
    "\n",
    "np.random.seed(0)\n",
    "df1 = pd.DataFrame(np.vstack([list(\"ABCDE\"), np.random.rand(3, 5).round(0)]).T,\n",
    "                   columns=[[\"A\", \"A\", \"B\", \"B\"], [\"C1\", \"C2\", \"C1\", \"C2\"]])  # 다중컬럼\n",
    "df1.columns.names = [\"Cidx1\", \"Cidx2\"]  # 각각의 컬럼에 이름 붙이기\n",
    "df1"
   ]
  },
  {
   "cell_type": "code",
   "execution_count": 259,
   "id": "5bed530a",
   "metadata": {
    "collapsed": true
   },
   "outputs": [
    {
     "name": "stdout",
     "output_type": "stream",
     "text": [
      "0    A\n",
      "1    B\n",
      "2    C\n",
      "3    D\n",
      "4    E\n",
      "Name: (A, C1), dtype: object\n",
      "0    1.0\n",
      "1    0.0\n",
      "2    1.0\n",
      "Name: (B, C1), dtype: object\n",
      "---------------------------------\n",
      "0    A\n",
      "1    B\n",
      "2    C\n",
      "3    D\n",
      "4    E\n",
      "Name: (A, C1), dtype: object\n",
      "0    1.0\n",
      "1    0.0\n",
      "2    1.0\n",
      "Name: (B, C1), dtype: object\n",
      "---------------------------------\n",
      "0    1.0\n",
      "1    0.0\n",
      "2    1.0\n",
      "Name: (B, C1), dtype: object\n"
     ]
    }
   ],
   "source": [
    "#### 인덱싱\n",
    "\n",
    "print(df1[(\"A\", \"C1\")]) # 튜플로 접근\n",
    "print(df1[(\"B\", \"C1\")][0:3])\n",
    "print(\"---------------------------------\")\n",
    "print(df1.loc[:, (\"A\", \"C1\")])\n",
    "print(df1.loc[0:2][\"B\", \"C1\"])\n",
    "print(\"---------------------------------\")\n",
    "print(df1.iloc[0:3, 2])"
   ]
  },
  {
   "cell_type": "code",
   "execution_count": 29,
   "id": "ef94b81e",
   "metadata": {},
   "outputs": [
    {
     "data": {
      "text/html": [
       "<div>\n",
       "<style scoped>\n",
       "    .dataframe tbody tr th:only-of-type {\n",
       "        vertical-align: middle;\n",
       "    }\n",
       "\n",
       "    .dataframe tbody tr th {\n",
       "        vertical-align: top;\n",
       "    }\n",
       "\n",
       "    .dataframe thead tr th {\n",
       "        text-align: left;\n",
       "    }\n",
       "\n",
       "    .dataframe thead tr:last-of-type th {\n",
       "        text-align: right;\n",
       "    }\n",
       "</style>\n",
       "<table border=\"1\" class=\"dataframe\">\n",
       "  <thead>\n",
       "    <tr>\n",
       "      <th></th>\n",
       "      <th>Cidx1</th>\n",
       "      <th colspan=\"2\" halign=\"left\">A</th>\n",
       "      <th colspan=\"2\" halign=\"left\">B</th>\n",
       "    </tr>\n",
       "    <tr>\n",
       "      <th></th>\n",
       "      <th>Cidx2</th>\n",
       "      <th>C</th>\n",
       "      <th>D</th>\n",
       "      <th>C</th>\n",
       "      <th>D</th>\n",
       "    </tr>\n",
       "    <tr>\n",
       "      <th>Ridx1</th>\n",
       "      <th>Ridx2</th>\n",
       "      <th></th>\n",
       "      <th></th>\n",
       "      <th></th>\n",
       "      <th></th>\n",
       "    </tr>\n",
       "  </thead>\n",
       "  <tbody>\n",
       "    <tr>\n",
       "      <th rowspan=\"3\" valign=\"top\">M</th>\n",
       "      <th>id_1</th>\n",
       "      <td>0.55</td>\n",
       "      <td>0.72</td>\n",
       "      <td>0.60</td>\n",
       "      <td>0.54</td>\n",
       "    </tr>\n",
       "    <tr>\n",
       "      <th>id_2</th>\n",
       "      <td>0.42</td>\n",
       "      <td>0.65</td>\n",
       "      <td>0.44</td>\n",
       "      <td>0.89</td>\n",
       "    </tr>\n",
       "    <tr>\n",
       "      <th>id_3</th>\n",
       "      <td>0.96</td>\n",
       "      <td>0.38</td>\n",
       "      <td>0.79</td>\n",
       "      <td>0.53</td>\n",
       "    </tr>\n",
       "    <tr>\n",
       "      <th rowspan=\"3\" valign=\"top\">F</th>\n",
       "      <th>id_1</th>\n",
       "      <td>0.57</td>\n",
       "      <td>0.93</td>\n",
       "      <td>0.07</td>\n",
       "      <td>0.09</td>\n",
       "    </tr>\n",
       "    <tr>\n",
       "      <th>id_2</th>\n",
       "      <td>0.02</td>\n",
       "      <td>0.83</td>\n",
       "      <td>0.78</td>\n",
       "      <td>0.87</td>\n",
       "    </tr>\n",
       "    <tr>\n",
       "      <th>id_3</th>\n",
       "      <td>0.98</td>\n",
       "      <td>0.80</td>\n",
       "      <td>0.46</td>\n",
       "      <td>0.78</td>\n",
       "    </tr>\n",
       "  </tbody>\n",
       "</table>\n",
       "</div>"
      ],
      "text/plain": [
       "Cidx1           A           B      \n",
       "Cidx2           C     D     C     D\n",
       "Ridx1 Ridx2                        \n",
       "M     id_1   0.55  0.72  0.60  0.54\n",
       "      id_2   0.42  0.65  0.44  0.89\n",
       "      id_3   0.96  0.38  0.79  0.53\n",
       "F     id_1   0.57  0.93  0.07  0.09\n",
       "      id_2   0.02  0.83  0.78  0.87\n",
       "      id_3   0.98  0.80  0.46  0.78"
      ]
     },
     "execution_count": 29,
     "metadata": {},
     "output_type": "execute_result"
    }
   ],
   "source": [
    "#### 다중 컬럼과 다중 인덱스를 갖는 테이블\n",
    "\n",
    "np.random.seed(0)\n",
    "df2 = pd.DataFrame(np.random.rand(6, 4).round(2),\n",
    "                   columns=[ [\"A\", \"A\", \"B\", \"B\"], [\"C\", \"D\", \"C\", \"D\"] ],\n",
    "                   index=[ [\"M\", \"M\", \"M\", \"F\", \"F\", \"F\"], [\"id_\"+str(i+1) for i in range(3)]*2 ])\n",
    "df2.columns.names=[\"Cidx1\", \"Cidx2\"]\n",
    "df2.index.names=[\"Ridx1\", \"Ridx2\"]\n",
    "df2"
   ]
  },
  {
   "cell_type": "code",
   "execution_count": 292,
   "id": "36c5950e",
   "metadata": {
    "collapsed": true
   },
   "outputs": [
    {
     "name": "stdout",
     "output_type": "stream",
     "text": [
      "0.55\n",
      "0.55\n",
      "0.55\n",
      "---------------------------------------------------------------------\n",
      "0.55\n"
     ]
    }
   ],
   "source": [
    "#### 첫번째행 첫번째열의 값 추출(0.55)\n",
    "\n",
    "print(df2[(\"A\", \"C\")][(\"M\", \"id_1\")])     # = df2[(\"A\", \"C\")][0]\n",
    "print(df2.loc[(\"M\", \"id_1\"), (\"A\", \"C\")]) # = df2.loc[\"M\", \"id_1\"][\"A\", \"C\"]\n",
    "print(df2.iloc[0, 0])                     # = df2.iloc[0][0]\n",
    "print(\"---------------------------------------------------------------------\")\n",
    "print(df2.loc[\"M\"][\"A\"][\"C\"][0])          # 순서대로 나열해가도 출력됨"
   ]
  },
  {
   "cell_type": "markdown",
   "id": "b649d89e",
   "metadata": {},
   "source": [
    "    행 인덱스와 열 인덱스 교환\n",
    "    - stack() : 열을 행으로\n",
    "    - unstack() : 행을 열로"
   ]
  },
  {
   "cell_type": "code",
   "execution_count": 303,
   "id": "bae9ec20",
   "metadata": {},
   "outputs": [
    {
     "name": "stdout",
     "output_type": "stream",
     "text": [
      "Cidx1           A           B      \n",
      "Cidx2           C     D     C     D\n",
      "Ridx1 Ridx2                        \n",
      "M     id_1   0.55  0.72  0.60  0.54\n",
      "      id_2   0.42  0.65  0.44  0.89\n",
      "      id_3   0.96  0.38  0.79  0.53\n",
      "F     id_1   0.57  0.93  0.07  0.09\n",
      "      id_2   0.02  0.83  0.78  0.87\n",
      "      id_3   0.98  0.80  0.46  0.78\n",
      "---------------------------------------------------------------------\n",
      "Ridx1           M                 F            \n",
      "Ridx2        id_1  id_2  id_3  id_1  id_2  id_3\n",
      "Cidx1 Cidx2                                    \n",
      "A     C      0.55  0.42  0.96  0.57  0.02  0.98\n",
      "      D      0.72  0.65  0.38  0.93  0.83  0.80\n",
      "B     C      0.60  0.44  0.79  0.07  0.78  0.46\n",
      "      D      0.54  0.89  0.53  0.09  0.87  0.78\n",
      "---------------------------------------------------------------------\n",
      "Cidx2                 C     D\n",
      "Ridx1 Ridx2 Cidx1            \n",
      "M     id_1  A      0.55  0.72\n",
      "            B      0.60  0.54\n",
      "      id_2  A      0.42  0.65\n",
      "            B      0.44  0.89\n",
      "      id_3  A      0.96  0.38\n",
      "            B      0.79  0.53\n",
      "F     id_1  A      0.57  0.93\n",
      "            B      0.07  0.09\n",
      "      id_2  A      0.02  0.83\n",
      "            B      0.78  0.87\n",
      "      id_3  A      0.98  0.80\n",
      "            B      0.46  0.78\n",
      "---------------------------------------------------------------------\n",
      "Cidx1     A                       B                  \n",
      "Cidx2     C           D           C           D      \n",
      "Ridx1     F     M     F     M     F     M     F     M\n",
      "Ridx2                                                \n",
      "id_1   0.57  0.55  0.93  0.72  0.07  0.60  0.09  0.54\n",
      "id_2   0.02  0.42  0.83  0.65  0.78  0.44  0.87  0.89\n",
      "id_3   0.98  0.96  0.80  0.38  0.46  0.79  0.78  0.53\n",
      "---------------------------------------------------------------------\n",
      "Cidx2           C           D      \n",
      "Ridx1           F     M     F     M\n",
      "Ridx2 Cidx1                        \n",
      "id_1  A      0.57  0.55  0.93  0.72\n",
      "      B      0.07  0.60  0.09  0.54\n",
      "id_2  A      0.02  0.42  0.83  0.65\n",
      "      B      0.78  0.44  0.87  0.89\n",
      "id_3  A      0.98  0.96  0.80  0.38\n",
      "      B      0.46  0.79  0.78  0.53\n"
     ]
    }
   ],
   "source": [
    "print(df2)\n",
    "print(\"---------------------------------------------------------------------\")\n",
    "print(df2.T)\n",
    "print(\"---------------------------------------------------------------------\")\n",
    "print(df2.stack(\"Cidx1\"))          # print(df2.stack(1)) 인덱스로도 지정 가능\n",
    "print(\"---------------------------------------------------------------------\")\n",
    "print(df2.unstack(\"Ridx1\"))\n",
    "print(\"---------------------------------------------------------------------\")\n",
    "print(df2.stack(\"Cidx1\").unstack(\"Ridx1\"))"
   ]
  },
  {
   "cell_type": "code",
   "execution_count": 9,
   "id": "c7764194",
   "metadata": {
    "collapsed": true
   },
   "outputs": [
    {
     "name": "stdout",
     "output_type": "stream",
     "text": [
      "Cidx1           A           B      \n",
      "Cidx2           C     D     C     D\n",
      "Ridx1 Ridx2                        \n",
      "M     id_1   0.55  0.72  0.60  0.54\n",
      "      id_2   0.42  0.65  0.44  0.89\n",
      "      id_3   0.96  0.38  0.79  0.53\n",
      "F     id_1   0.57  0.93  0.07  0.09\n",
      "      id_2   0.02  0.83  0.78  0.87\n",
      "      id_3   0.98  0.80  0.46  0.78\n",
      "----------------------------------------------------\n",
      "Ridx1  Ridx2\n",
      "M      id_1     0.55\n",
      "       id_2     0.42\n",
      "       id_3     0.96\n",
      "F      id_1     0.57\n",
      "       id_2     0.02\n",
      "Name: (A, C), dtype: float64\n",
      "----------------------------------------------------\n",
      "Cidx1  Cidx2\n",
      "A      C        0.55\n",
      "       D        0.72\n",
      "B      C        0.60\n",
      "       D        0.54\n",
      "Name: (M, id_1), dtype: float64\n",
      "----------------------------------------------------\n",
      "Cidx1           A           B      \n",
      "Cidx2           C     D     C     D\n",
      "Ridx1 Ridx2                        \n",
      "M     id_1   0.55  0.72  0.60  0.54\n",
      "      id_2   0.42  0.65  0.44  0.89\n",
      "      id_3   0.96  0.38  0.79  0.53\n",
      "F     id_1   0.57  0.93  0.07  0.09\n",
      "      id_2   0.02  0.83  0.78  0.87\n",
      "      id_3   0.98  0.80  0.46  0.78\n",
      "ALL   All    3.50  4.31  3.14  3.70\n"
     ]
    }
   ],
   "source": [
    "print(df2)\n",
    "print(\"----------------------------------------------------\")\n",
    "# 1. 첫번째 열에 있는 0.55 ~ 0.02까지 출력\n",
    "print(df2.iloc[0:5, 0])\n",
    "print(\"----------------------------------------------------\")\n",
    "# 2. 첫번째 행의 모든 컬럼 출력\n",
    "print(df2.iloc[0, :])\n",
    "print(\"----------------------------------------------------\")\n",
    "# 3. 맨 마지막 행의 \"ALL\"이라는 행 추가하여 각 열의 합 출력\n",
    "df2.loc[(\"ALL\", \"All\"), :] = df2.sum(axis=0)  # 다중인덱스의 형태를 유지해야 함\n",
    "print(df2)\n",
    "# # 행 추가하기\n",
    "# df.loc[\"ColSum\", :] = df.sum()\n",
    "# df[\"LowSum\"] = df.sum(axis=1)"
   ]
  },
  {
   "cell_type": "markdown",
   "id": "0be11073",
   "metadata": {},
   "source": [
    "    순서 교환 : swaplevel(i, j, axis=0)"
   ]
  },
  {
   "cell_type": "code",
   "execution_count": 15,
   "id": "b56b9471",
   "metadata": {
    "collapsed": true
   },
   "outputs": [
    {
     "data": {
      "text/html": [
       "<div>\n",
       "<style scoped>\n",
       "    .dataframe tbody tr th:only-of-type {\n",
       "        vertical-align: middle;\n",
       "    }\n",
       "\n",
       "    .dataframe tbody tr th {\n",
       "        vertical-align: top;\n",
       "    }\n",
       "\n",
       "    .dataframe thead tr th {\n",
       "        text-align: left;\n",
       "    }\n",
       "\n",
       "    .dataframe thead tr:last-of-type th {\n",
       "        text-align: right;\n",
       "    }\n",
       "</style>\n",
       "<table border=\"1\" class=\"dataframe\">\n",
       "  <thead>\n",
       "    <tr>\n",
       "      <th></th>\n",
       "      <th>Cidx2</th>\n",
       "      <th>C</th>\n",
       "      <th>D</th>\n",
       "      <th>C</th>\n",
       "      <th>D</th>\n",
       "    </tr>\n",
       "    <tr>\n",
       "      <th></th>\n",
       "      <th>Cidx1</th>\n",
       "      <th>A</th>\n",
       "      <th>A</th>\n",
       "      <th>B</th>\n",
       "      <th>B</th>\n",
       "    </tr>\n",
       "    <tr>\n",
       "      <th>Ridx1</th>\n",
       "      <th>Ridx2</th>\n",
       "      <th></th>\n",
       "      <th></th>\n",
       "      <th></th>\n",
       "      <th></th>\n",
       "    </tr>\n",
       "  </thead>\n",
       "  <tbody>\n",
       "    <tr>\n",
       "      <th rowspan=\"3\" valign=\"top\">M</th>\n",
       "      <th>id_1</th>\n",
       "      <td>0.55</td>\n",
       "      <td>0.72</td>\n",
       "      <td>0.60</td>\n",
       "      <td>0.54</td>\n",
       "    </tr>\n",
       "    <tr>\n",
       "      <th>id_2</th>\n",
       "      <td>0.42</td>\n",
       "      <td>0.65</td>\n",
       "      <td>0.44</td>\n",
       "      <td>0.89</td>\n",
       "    </tr>\n",
       "    <tr>\n",
       "      <th>id_3</th>\n",
       "      <td>0.96</td>\n",
       "      <td>0.38</td>\n",
       "      <td>0.79</td>\n",
       "      <td>0.53</td>\n",
       "    </tr>\n",
       "    <tr>\n",
       "      <th rowspan=\"3\" valign=\"top\">F</th>\n",
       "      <th>id_1</th>\n",
       "      <td>0.57</td>\n",
       "      <td>0.93</td>\n",
       "      <td>0.07</td>\n",
       "      <td>0.09</td>\n",
       "    </tr>\n",
       "    <tr>\n",
       "      <th>id_2</th>\n",
       "      <td>0.02</td>\n",
       "      <td>0.83</td>\n",
       "      <td>0.78</td>\n",
       "      <td>0.87</td>\n",
       "    </tr>\n",
       "    <tr>\n",
       "      <th>id_3</th>\n",
       "      <td>0.98</td>\n",
       "      <td>0.80</td>\n",
       "      <td>0.46</td>\n",
       "      <td>0.78</td>\n",
       "    </tr>\n",
       "    <tr>\n",
       "      <th>ALL</th>\n",
       "      <th>All</th>\n",
       "      <td>3.50</td>\n",
       "      <td>4.31</td>\n",
       "      <td>3.14</td>\n",
       "      <td>3.70</td>\n",
       "    </tr>\n",
       "  </tbody>\n",
       "</table>\n",
       "</div>"
      ],
      "text/plain": [
       "Cidx2           C     D     C     D\n",
       "Cidx1           A     A     B     B\n",
       "Ridx1 Ridx2                        \n",
       "M     id_1   0.55  0.72  0.60  0.54\n",
       "      id_2   0.42  0.65  0.44  0.89\n",
       "      id_3   0.96  0.38  0.79  0.53\n",
       "F     id_1   0.57  0.93  0.07  0.09\n",
       "      id_2   0.02  0.83  0.78  0.87\n",
       "      id_3   0.98  0.80  0.46  0.78\n",
       "ALL   All    3.50  4.31  3.14  3.70"
      ]
     },
     "execution_count": 15,
     "metadata": {},
     "output_type": "execute_result"
    }
   ],
   "source": [
    "df2.swaplevel(\"Ridx1\", \"Ridx2\")\n",
    "df2.swaplevel(\"Cidx1\", \"Cidx2\", axis=1)"
   ]
  },
  {
   "cell_type": "markdown",
   "id": "0218ccfa",
   "metadata": {},
   "source": [
    "    다중인덱스, 다중컬럼 정렬 : sort_index(level)"
   ]
  },
  {
   "cell_type": "code",
   "execution_count": 31,
   "id": "ed61b1d5",
   "metadata": {
    "collapsed": true
   },
   "outputs": [
    {
     "name": "stdout",
     "output_type": "stream",
     "text": [
      "Cidx1           A           B      \n",
      "Cidx2           C     D     C     D\n",
      "Ridx1 Ridx2                        \n",
      "M     id_1   0.55  0.72  0.60  0.54\n",
      "      id_2   0.42  0.65  0.44  0.89\n",
      "      id_3   0.96  0.38  0.79  0.53\n",
      "F     id_1   0.57  0.93  0.07  0.09\n",
      "      id_2   0.02  0.83  0.78  0.87\n",
      "      id_3   0.98  0.80  0.46  0.78\n",
      "======================================\n",
      "Cidx1           A           B      \n",
      "Cidx2           C     D     C     D\n",
      "Ridx1 Ridx2                        \n",
      "F     id_1   0.57  0.93  0.07  0.09\n",
      "M     id_1   0.55  0.72  0.60  0.54\n",
      "F     id_2   0.02  0.83  0.78  0.87\n",
      "M     id_2   0.42  0.65  0.44  0.89\n",
      "F     id_3   0.98  0.80  0.46  0.78\n",
      "M     id_3   0.96  0.38  0.79  0.53\n",
      "--------------------------------------\n",
      "Cidx1           A     B     A     B\n",
      "Cidx2           C     C     D     D\n",
      "Ridx1 Ridx2                        \n",
      "M     id_1   0.55  0.60  0.72  0.54\n",
      "      id_2   0.42  0.44  0.65  0.89\n",
      "      id_3   0.96  0.79  0.38  0.53\n",
      "F     id_1   0.57  0.07  0.93  0.09\n",
      "      id_2   0.02  0.78  0.83  0.87\n",
      "      id_3   0.98  0.46  0.80  0.78\n",
      "--------------------------------------\n",
      "Cidx1           A     B     A     B\n",
      "Cidx2           C     C     D     D\n",
      "Ridx1 Ridx2                        \n",
      "F     id_1   0.57  0.07  0.93  0.09\n",
      "      id_2   0.02  0.78  0.83  0.87\n",
      "      id_3   0.98  0.46  0.80  0.78\n",
      "M     id_1   0.55  0.60  0.72  0.54\n",
      "      id_2   0.42  0.44  0.65  0.89\n",
      "      id_3   0.96  0.79  0.38  0.53\n"
     ]
    }
   ],
   "source": [
    "print(df2)\n",
    "print(\"======================================\")\n",
    "print(df2.sort_index(level=1, axis=0))\n",
    "print(\"--------------------------------------\")\n",
    "print(df2.sort_index(level=1, axis=1))\n",
    "print(\"--------------------------------------\")\n",
    "print(df2.sort_index(level=0, axis=0).sort_index(level=1, axis=1))"
   ]
  },
  {
   "cell_type": "markdown",
   "id": "1b5638aa",
   "metadata": {},
   "source": [
    "## 3) ❗❕ 중간실습 ❗❕"
   ]
  },
  {
   "cell_type": "code",
   "execution_count": 516,
   "id": "960627c6",
   "metadata": {
    "collapsed": true
   },
   "outputs": [
    {
     "data": {
      "text/html": [
       "<div>\n",
       "<style scoped>\n",
       "    .dataframe tbody tr th:only-of-type {\n",
       "        vertical-align: middle;\n",
       "    }\n",
       "\n",
       "    .dataframe tbody tr th {\n",
       "        vertical-align: top;\n",
       "    }\n",
       "\n",
       "    .dataframe thead th {\n",
       "        text-align: right;\n",
       "    }\n",
       "</style>\n",
       "<table border=\"1\" class=\"dataframe\">\n",
       "  <thead>\n",
       "    <tr style=\"text-align: right;\">\n",
       "      <th></th>\n",
       "      <th>반</th>\n",
       "      <th>번호</th>\n",
       "      <th>국어</th>\n",
       "      <th>영어</th>\n",
       "      <th>수학</th>\n",
       "    </tr>\n",
       "  </thead>\n",
       "  <tbody>\n",
       "    <tr>\n",
       "      <th>0</th>\n",
       "      <td>A</td>\n",
       "      <td>1</td>\n",
       "      <td>79</td>\n",
       "      <td>55</td>\n",
       "      <td>57</td>\n",
       "    </tr>\n",
       "    <tr>\n",
       "      <th>1</th>\n",
       "      <td>A</td>\n",
       "      <td>2</td>\n",
       "      <td>67</td>\n",
       "      <td>77</td>\n",
       "      <td>45</td>\n",
       "    </tr>\n",
       "    <tr>\n",
       "      <th>2</th>\n",
       "      <td>B</td>\n",
       "      <td>1</td>\n",
       "      <td>88</td>\n",
       "      <td>44</td>\n",
       "      <td>76</td>\n",
       "    </tr>\n",
       "    <tr>\n",
       "      <th>3</th>\n",
       "      <td>A</td>\n",
       "      <td>3</td>\n",
       "      <td>68</td>\n",
       "      <td>67</td>\n",
       "      <td>68</td>\n",
       "    </tr>\n",
       "    <tr>\n",
       "      <th>4</th>\n",
       "      <td>B</td>\n",
       "      <td>2</td>\n",
       "      <td>92</td>\n",
       "      <td>86</td>\n",
       "      <td>89</td>\n",
       "    </tr>\n",
       "    <tr>\n",
       "      <th>5</th>\n",
       "      <td>B</td>\n",
       "      <td>3</td>\n",
       "      <td>54</td>\n",
       "      <td>45</td>\n",
       "      <td>67</td>\n",
       "    </tr>\n",
       "    <tr>\n",
       "      <th>6</th>\n",
       "      <td>B</td>\n",
       "      <td>4</td>\n",
       "      <td>67</td>\n",
       "      <td>78</td>\n",
       "      <td>99</td>\n",
       "    </tr>\n",
       "    <tr>\n",
       "      <th>7</th>\n",
       "      <td>A</td>\n",
       "      <td>4</td>\n",
       "      <td>88</td>\n",
       "      <td>58</td>\n",
       "      <td>78</td>\n",
       "    </tr>\n",
       "    <tr>\n",
       "      <th>8</th>\n",
       "      <td>B</td>\n",
       "      <td>5</td>\n",
       "      <td>97</td>\n",
       "      <td>90</td>\n",
       "      <td>89</td>\n",
       "    </tr>\n",
       "    <tr>\n",
       "      <th>9</th>\n",
       "      <td>A</td>\n",
       "      <td>5</td>\n",
       "      <td>85</td>\n",
       "      <td>67</td>\n",
       "      <td>90</td>\n",
       "    </tr>\n",
       "  </tbody>\n",
       "</table>\n",
       "</div>"
      ],
      "text/plain": [
       "   반  번호  국어  영어  수학\n",
       "0  A   1  79  55  57\n",
       "1  A   2  67  77  45\n",
       "2  B   1  88  44  76\n",
       "3  A   3  68  67  68\n",
       "4  B   2  92  86  89\n",
       "5  B   3  54  45  67\n",
       "6  B   4  67  78  99\n",
       "7  A   4  88  58  78\n",
       "8  B   5  97  90  89\n",
       "9  A   5  85  67  90"
      ]
     },
     "execution_count": 516,
     "metadata": {},
     "output_type": "execute_result"
    }
   ],
   "source": [
    "df_score1 = pd.DataFrame({\n",
    "    \"반\":[\"A\", \"A\", \"B\", \"A\", \"B\", \"B\", \"B\", \"A\", \"B\", \"A\"],\n",
    "    \"번호\" : [1, 2, 1, 3, 2, 3, 4, 4, 5, 5],\n",
    "    \"국어\" : [79, 67, 88, 68, 92, 54, 67, 88, 97, 85],\n",
    "    \"영어\" : [55, 77, 44, 67, 86, 45, 78, 58, 90, 67],\n",
    "    \"수학\" : [57, 45, 76, 68, 89, 67, 99, 78, 89, 90]\n",
    "})\n",
    "df_score1"
   ]
  },
  {
   "cell_type": "code",
   "execution_count": 542,
   "id": "cff8c7f7",
   "metadata": {
    "collapsed": true
   },
   "outputs": [
    {
     "data": {
      "text/html": [
       "<div>\n",
       "<style scoped>\n",
       "    .dataframe tbody tr th:only-of-type {\n",
       "        vertical-align: middle;\n",
       "    }\n",
       "\n",
       "    .dataframe tbody tr th {\n",
       "        vertical-align: top;\n",
       "    }\n",
       "\n",
       "    .dataframe thead th {\n",
       "        text-align: right;\n",
       "    }\n",
       "</style>\n",
       "<table border=\"1\" class=\"dataframe\">\n",
       "  <thead>\n",
       "    <tr style=\"text-align: right;\">\n",
       "      <th></th>\n",
       "      <th></th>\n",
       "      <th>국어</th>\n",
       "      <th>영어</th>\n",
       "      <th>수학</th>\n",
       "    </tr>\n",
       "    <tr>\n",
       "      <th>반</th>\n",
       "      <th>번호</th>\n",
       "      <th></th>\n",
       "      <th></th>\n",
       "      <th></th>\n",
       "    </tr>\n",
       "  </thead>\n",
       "  <tbody>\n",
       "    <tr>\n",
       "      <th rowspan=\"5\" valign=\"top\">A</th>\n",
       "      <th>1</th>\n",
       "      <td>79</td>\n",
       "      <td>55</td>\n",
       "      <td>57</td>\n",
       "    </tr>\n",
       "    <tr>\n",
       "      <th>2</th>\n",
       "      <td>67</td>\n",
       "      <td>77</td>\n",
       "      <td>45</td>\n",
       "    </tr>\n",
       "    <tr>\n",
       "      <th>3</th>\n",
       "      <td>68</td>\n",
       "      <td>67</td>\n",
       "      <td>68</td>\n",
       "    </tr>\n",
       "    <tr>\n",
       "      <th>4</th>\n",
       "      <td>88</td>\n",
       "      <td>58</td>\n",
       "      <td>78</td>\n",
       "    </tr>\n",
       "    <tr>\n",
       "      <th>5</th>\n",
       "      <td>85</td>\n",
       "      <td>67</td>\n",
       "      <td>90</td>\n",
       "    </tr>\n",
       "    <tr>\n",
       "      <th rowspan=\"5\" valign=\"top\">B</th>\n",
       "      <th>1</th>\n",
       "      <td>88</td>\n",
       "      <td>44</td>\n",
       "      <td>76</td>\n",
       "    </tr>\n",
       "    <tr>\n",
       "      <th>2</th>\n",
       "      <td>92</td>\n",
       "      <td>86</td>\n",
       "      <td>89</td>\n",
       "    </tr>\n",
       "    <tr>\n",
       "      <th>3</th>\n",
       "      <td>54</td>\n",
       "      <td>45</td>\n",
       "      <td>67</td>\n",
       "    </tr>\n",
       "    <tr>\n",
       "      <th>4</th>\n",
       "      <td>67</td>\n",
       "      <td>78</td>\n",
       "      <td>99</td>\n",
       "    </tr>\n",
       "    <tr>\n",
       "      <th>5</th>\n",
       "      <td>97</td>\n",
       "      <td>90</td>\n",
       "      <td>89</td>\n",
       "    </tr>\n",
       "  </tbody>\n",
       "</table>\n",
       "</div>"
      ],
      "text/plain": [
       "      국어  영어  수학\n",
       "반 번호            \n",
       "A 1   79  55  57\n",
       "  2   67  77  45\n",
       "  3   68  67  68\n",
       "  4   88  58  78\n",
       "  5   85  67  90\n",
       "B 1   88  44  76\n",
       "  2   92  86  89\n",
       "  3   54  45  67\n",
       "  4   67  78  99\n",
       "  5   97  90  89"
      ]
     },
     "execution_count": 542,
     "metadata": {},
     "output_type": "execute_result"
    }
   ],
   "source": [
    "# 1. 1차 행 인덱스로 \"반\"을, 2차 행 인덱스로 \"번호\"를 가지는 데이터프레임 생성\n",
    "\n",
    "df_score2 = df_score1.sort_values(by=[\"반\", \"번호\"]).set_index([\"반\", \"번호\"])\n",
    "df_score2"
   ]
  },
  {
   "cell_type": "code",
   "execution_count": 543,
   "id": "3ced3b26",
   "metadata": {
    "collapsed": true
   },
   "outputs": [
    {
     "data": {
      "text/html": [
       "<div>\n",
       "<style scoped>\n",
       "    .dataframe tbody tr th:only-of-type {\n",
       "        vertical-align: middle;\n",
       "    }\n",
       "\n",
       "    .dataframe tbody tr th {\n",
       "        vertical-align: top;\n",
       "    }\n",
       "\n",
       "    .dataframe thead th {\n",
       "        text-align: right;\n",
       "    }\n",
       "</style>\n",
       "<table border=\"1\" class=\"dataframe\">\n",
       "  <thead>\n",
       "    <tr style=\"text-align: right;\">\n",
       "      <th></th>\n",
       "      <th></th>\n",
       "      <th>국어</th>\n",
       "      <th>영어</th>\n",
       "      <th>수학</th>\n",
       "      <th>평균</th>\n",
       "    </tr>\n",
       "    <tr>\n",
       "      <th>반</th>\n",
       "      <th>번호</th>\n",
       "      <th></th>\n",
       "      <th></th>\n",
       "      <th></th>\n",
       "      <th></th>\n",
       "    </tr>\n",
       "  </thead>\n",
       "  <tbody>\n",
       "    <tr>\n",
       "      <th rowspan=\"5\" valign=\"top\">A</th>\n",
       "      <th>1</th>\n",
       "      <td>79</td>\n",
       "      <td>55</td>\n",
       "      <td>57</td>\n",
       "      <td>63.67</td>\n",
       "    </tr>\n",
       "    <tr>\n",
       "      <th>2</th>\n",
       "      <td>67</td>\n",
       "      <td>77</td>\n",
       "      <td>45</td>\n",
       "      <td>63.00</td>\n",
       "    </tr>\n",
       "    <tr>\n",
       "      <th>3</th>\n",
       "      <td>68</td>\n",
       "      <td>67</td>\n",
       "      <td>68</td>\n",
       "      <td>67.67</td>\n",
       "    </tr>\n",
       "    <tr>\n",
       "      <th>4</th>\n",
       "      <td>88</td>\n",
       "      <td>58</td>\n",
       "      <td>78</td>\n",
       "      <td>74.67</td>\n",
       "    </tr>\n",
       "    <tr>\n",
       "      <th>5</th>\n",
       "      <td>85</td>\n",
       "      <td>67</td>\n",
       "      <td>90</td>\n",
       "      <td>80.67</td>\n",
       "    </tr>\n",
       "    <tr>\n",
       "      <th rowspan=\"5\" valign=\"top\">B</th>\n",
       "      <th>1</th>\n",
       "      <td>88</td>\n",
       "      <td>44</td>\n",
       "      <td>76</td>\n",
       "      <td>69.33</td>\n",
       "    </tr>\n",
       "    <tr>\n",
       "      <th>2</th>\n",
       "      <td>92</td>\n",
       "      <td>86</td>\n",
       "      <td>89</td>\n",
       "      <td>89.00</td>\n",
       "    </tr>\n",
       "    <tr>\n",
       "      <th>3</th>\n",
       "      <td>54</td>\n",
       "      <td>45</td>\n",
       "      <td>67</td>\n",
       "      <td>55.33</td>\n",
       "    </tr>\n",
       "    <tr>\n",
       "      <th>4</th>\n",
       "      <td>67</td>\n",
       "      <td>78</td>\n",
       "      <td>99</td>\n",
       "      <td>81.33</td>\n",
       "    </tr>\n",
       "    <tr>\n",
       "      <th>5</th>\n",
       "      <td>97</td>\n",
       "      <td>90</td>\n",
       "      <td>89</td>\n",
       "      <td>92.00</td>\n",
       "    </tr>\n",
       "  </tbody>\n",
       "</table>\n",
       "</div>"
      ],
      "text/plain": [
       "      국어  영어  수학     평균\n",
       "반 번호                   \n",
       "A 1   79  55  57  63.67\n",
       "  2   67  77  45  63.00\n",
       "  3   68  67  68  67.67\n",
       "  4   88  58  78  74.67\n",
       "  5   85  67  90  80.67\n",
       "B 1   88  44  76  69.33\n",
       "  2   92  86  89  89.00\n",
       "  3   54  45  67  55.33\n",
       "  4   67  78  99  81.33\n",
       "  5   97  90  89  92.00"
      ]
     },
     "execution_count": 543,
     "metadata": {},
     "output_type": "execute_result"
    }
   ],
   "source": [
    "# 2. 학생의 평균을 나타내는 행을 오른쪽에 추가\n",
    "\n",
    "df_score2[\"평균\"] = df_score2.mean(axis=1).round(2)\n",
    "df_score2"
   ]
  },
  {
   "cell_type": "code",
   "execution_count": 544,
   "id": "d586be01",
   "metadata": {
    "collapsed": true
   },
   "outputs": [
    {
     "data": {
      "text/html": [
       "<div>\n",
       "<style scoped>\n",
       "    .dataframe tbody tr th:only-of-type {\n",
       "        vertical-align: middle;\n",
       "    }\n",
       "\n",
       "    .dataframe tbody tr th {\n",
       "        vertical-align: top;\n",
       "    }\n",
       "\n",
       "    .dataframe thead tr th {\n",
       "        text-align: left;\n",
       "    }\n",
       "\n",
       "    .dataframe thead tr:last-of-type th {\n",
       "        text-align: right;\n",
       "    }\n",
       "</style>\n",
       "<table border=\"1\" class=\"dataframe\">\n",
       "  <thead>\n",
       "    <tr>\n",
       "      <th></th>\n",
       "      <th colspan=\"2\" halign=\"left\">국어</th>\n",
       "      <th colspan=\"2\" halign=\"left\">영어</th>\n",
       "      <th colspan=\"2\" halign=\"left\">수학</th>\n",
       "      <th colspan=\"2\" halign=\"left\">평균</th>\n",
       "    </tr>\n",
       "    <tr>\n",
       "      <th>번호</th>\n",
       "      <th>A</th>\n",
       "      <th>B</th>\n",
       "      <th>A</th>\n",
       "      <th>B</th>\n",
       "      <th>A</th>\n",
       "      <th>B</th>\n",
       "      <th>A</th>\n",
       "      <th>B</th>\n",
       "    </tr>\n",
       "    <tr>\n",
       "      <th>반</th>\n",
       "      <th></th>\n",
       "      <th></th>\n",
       "      <th></th>\n",
       "      <th></th>\n",
       "      <th></th>\n",
       "      <th></th>\n",
       "      <th></th>\n",
       "      <th></th>\n",
       "    </tr>\n",
       "  </thead>\n",
       "  <tbody>\n",
       "    <tr>\n",
       "      <th>1</th>\n",
       "      <td>79</td>\n",
       "      <td>88</td>\n",
       "      <td>55</td>\n",
       "      <td>44</td>\n",
       "      <td>57</td>\n",
       "      <td>76</td>\n",
       "      <td>63.67</td>\n",
       "      <td>69.33</td>\n",
       "    </tr>\n",
       "    <tr>\n",
       "      <th>2</th>\n",
       "      <td>67</td>\n",
       "      <td>92</td>\n",
       "      <td>77</td>\n",
       "      <td>86</td>\n",
       "      <td>45</td>\n",
       "      <td>89</td>\n",
       "      <td>63.00</td>\n",
       "      <td>89.00</td>\n",
       "    </tr>\n",
       "    <tr>\n",
       "      <th>3</th>\n",
       "      <td>68</td>\n",
       "      <td>54</td>\n",
       "      <td>67</td>\n",
       "      <td>45</td>\n",
       "      <td>68</td>\n",
       "      <td>67</td>\n",
       "      <td>67.67</td>\n",
       "      <td>55.33</td>\n",
       "    </tr>\n",
       "    <tr>\n",
       "      <th>4</th>\n",
       "      <td>88</td>\n",
       "      <td>67</td>\n",
       "      <td>58</td>\n",
       "      <td>78</td>\n",
       "      <td>78</td>\n",
       "      <td>99</td>\n",
       "      <td>74.67</td>\n",
       "      <td>81.33</td>\n",
       "    </tr>\n",
       "    <tr>\n",
       "      <th>5</th>\n",
       "      <td>85</td>\n",
       "      <td>97</td>\n",
       "      <td>67</td>\n",
       "      <td>90</td>\n",
       "      <td>90</td>\n",
       "      <td>89</td>\n",
       "      <td>80.67</td>\n",
       "      <td>92.00</td>\n",
       "    </tr>\n",
       "  </tbody>\n",
       "</table>\n",
       "</div>"
      ],
      "text/plain": [
       "    국어      영어      수학         평균       \n",
       "번호   A   B   A   B   A   B      A      B\n",
       "반                                       \n",
       "1   79  88  55  44  57  76  63.67  69.33\n",
       "2   67  92  77  86  45  89  63.00  89.00\n",
       "3   68  54  67  45  68  67  67.67  55.33\n",
       "4   88  67  58  78  78  99  74.67  81.33\n",
       "5   85  97  67  90  90  89  80.67  92.00"
      ]
     },
     "execution_count": 544,
     "metadata": {},
     "output_type": "execute_result"
    }
   ],
   "source": [
    "# 3. 행 인덱스로 \"번호\"를 1차 열 인덱스로 \"국어\", \"영어\", \"수학\"을, 2차 열 인덱스로 \"반\"을 가진 데이터프레임 생성\n",
    "\n",
    "df_score2.index.names=[\"번호\", \"반\"]\n",
    "df_score2 = df_score2.unstack(\"번호\")\n",
    "df_score2"
   ]
  },
  {
   "cell_type": "code",
   "execution_count": 536,
   "id": "46991be6",
   "metadata": {
    "collapsed": true
   },
   "outputs": [
    {
     "data": {
      "text/html": [
       "<div>\n",
       "<style scoped>\n",
       "    .dataframe tbody tr th:only-of-type {\n",
       "        vertical-align: middle;\n",
       "    }\n",
       "\n",
       "    .dataframe tbody tr th {\n",
       "        vertical-align: top;\n",
       "    }\n",
       "\n",
       "    .dataframe thead tr th {\n",
       "        text-align: left;\n",
       "    }\n",
       "\n",
       "    .dataframe thead tr:last-of-type th {\n",
       "        text-align: right;\n",
       "    }\n",
       "</style>\n",
       "<table border=\"1\" class=\"dataframe\">\n",
       "  <thead>\n",
       "    <tr>\n",
       "      <th></th>\n",
       "      <th colspan=\"2\" halign=\"left\">국어</th>\n",
       "      <th colspan=\"2\" halign=\"left\">영어</th>\n",
       "      <th colspan=\"2\" halign=\"left\">수학</th>\n",
       "      <th colspan=\"2\" halign=\"left\">평균</th>\n",
       "    </tr>\n",
       "    <tr>\n",
       "      <th>번호</th>\n",
       "      <th>A</th>\n",
       "      <th>B</th>\n",
       "      <th>A</th>\n",
       "      <th>B</th>\n",
       "      <th>A</th>\n",
       "      <th>B</th>\n",
       "      <th>A</th>\n",
       "      <th>B</th>\n",
       "    </tr>\n",
       "    <tr>\n",
       "      <th>반</th>\n",
       "      <th></th>\n",
       "      <th></th>\n",
       "      <th></th>\n",
       "      <th></th>\n",
       "      <th></th>\n",
       "      <th></th>\n",
       "      <th></th>\n",
       "      <th></th>\n",
       "    </tr>\n",
       "  </thead>\n",
       "  <tbody>\n",
       "    <tr>\n",
       "      <th>1</th>\n",
       "      <td>79.0</td>\n",
       "      <td>88.0</td>\n",
       "      <td>55.0</td>\n",
       "      <td>44.0</td>\n",
       "      <td>57.0</td>\n",
       "      <td>76.0</td>\n",
       "      <td>63.67</td>\n",
       "      <td>69.33</td>\n",
       "    </tr>\n",
       "    <tr>\n",
       "      <th>2</th>\n",
       "      <td>67.0</td>\n",
       "      <td>92.0</td>\n",
       "      <td>77.0</td>\n",
       "      <td>86.0</td>\n",
       "      <td>45.0</td>\n",
       "      <td>89.0</td>\n",
       "      <td>63.00</td>\n",
       "      <td>89.00</td>\n",
       "    </tr>\n",
       "    <tr>\n",
       "      <th>3</th>\n",
       "      <td>68.0</td>\n",
       "      <td>54.0</td>\n",
       "      <td>67.0</td>\n",
       "      <td>45.0</td>\n",
       "      <td>68.0</td>\n",
       "      <td>67.0</td>\n",
       "      <td>67.67</td>\n",
       "      <td>55.33</td>\n",
       "    </tr>\n",
       "    <tr>\n",
       "      <th>4</th>\n",
       "      <td>88.0</td>\n",
       "      <td>67.0</td>\n",
       "      <td>58.0</td>\n",
       "      <td>78.0</td>\n",
       "      <td>78.0</td>\n",
       "      <td>99.0</td>\n",
       "      <td>74.67</td>\n",
       "      <td>81.33</td>\n",
       "    </tr>\n",
       "    <tr>\n",
       "      <th>5</th>\n",
       "      <td>85.0</td>\n",
       "      <td>97.0</td>\n",
       "      <td>67.0</td>\n",
       "      <td>90.0</td>\n",
       "      <td>90.0</td>\n",
       "      <td>89.0</td>\n",
       "      <td>80.67</td>\n",
       "      <td>92.00</td>\n",
       "    </tr>\n",
       "    <tr>\n",
       "      <th>과목 평균</th>\n",
       "      <td>77.4</td>\n",
       "      <td>79.6</td>\n",
       "      <td>64.8</td>\n",
       "      <td>68.6</td>\n",
       "      <td>67.6</td>\n",
       "      <td>84.0</td>\n",
       "      <td>69.94</td>\n",
       "      <td>77.40</td>\n",
       "    </tr>\n",
       "  </tbody>\n",
       "</table>\n",
       "</div>"
      ],
      "text/plain": [
       "         국어          영어          수학           평균       \n",
       "번호        A     B     A     B     A     B      A      B\n",
       "반                                                      \n",
       "1      79.0  88.0  55.0  44.0  57.0  76.0  63.67  69.33\n",
       "2      67.0  92.0  77.0  86.0  45.0  89.0  63.00  89.00\n",
       "3      68.0  54.0  67.0  45.0  68.0  67.0  67.67  55.33\n",
       "4      88.0  67.0  58.0  78.0  78.0  99.0  74.67  81.33\n",
       "5      85.0  97.0  67.0  90.0  90.0  89.0  80.67  92.00\n",
       "과목 평균  77.4  79.6  64.8  68.6  67.6  84.0  69.94  77.40"
      ]
     },
     "execution_count": 536,
     "metadata": {},
     "output_type": "execute_result"
    }
   ],
   "source": [
    "# 4. 각 반별 각 과목의 평균을 나타내는 행을 아래에 추가\n",
    "\n",
    "df_score2.loc[\"과목 평균\"] = df_score2.mean(axis=0).round(2)\n",
    "df_score2"
   ]
  },
  {
   "cell_type": "markdown",
   "id": "e4bc9e6a",
   "metadata": {},
   "source": [
    "# 6. 데이터 프레임의 합성(병합)\n",
    "\n",
    "- merge() : join()과 비슷\n",
    "    - 두 데이터 프레임의 공통 열 또는 인덱스를 기준으로 두 개의 테이블을 합침\n",
    "    - 이 때 기준이 되는 열, 행의 데이터를 key라고 함\n",
    "- concat()\n",
    "    - 기준열을 사용하지 않고 단순히 데이터를 연결"
   ]
  },
  {
   "cell_type": "markdown",
   "id": "0b1c1864",
   "metadata": {},
   "source": [
    "## 1) merge()\n",
    "\n",
    "    pd.merge(\n",
    "        left: 'DataFrame | Series',\n",
    "        right: 'DataFrame | Series',\n",
    "        how: 'str' = 'inner',              #조인형태\n",
    "        on: 'IndexLabel | None' = None,    #키가 여러 개일 때 지정\n",
    "        left_on: 'IndexLabel | None' = None, right_on: 'IndexLabel | None' = None,  #공통키가 없을 때\n",
    "        left_index=True, right_index=True  #인덱스를 키로 사용할 때\n",
    "        ...)"
   ]
  },
  {
   "cell_type": "code",
   "execution_count": 47,
   "id": "937957ca",
   "metadata": {},
   "outputs": [],
   "source": [
    "?pd.merge"
   ]
  },
  {
   "cell_type": "code",
   "execution_count": 35,
   "id": "0c72f266",
   "metadata": {
    "collapsed": true
   },
   "outputs": [
    {
     "name": "stdout",
     "output_type": "stream",
     "text": [
      "   고객번호   이름\n",
      "0  1001   둘리\n",
      "1  1002  도우너\n",
      "2  1003   또치\n",
      "3  1004   길동\n",
      "4  1005   희동\n",
      "5  1006  마이콜\n",
      "6  1007   영희\n",
      "=================================================================\n",
      "   고객번호      금액\n",
      "0  1001   10000\n",
      "1  1001   20000\n",
      "2  1005   15000\n",
      "3  1006    5000\n",
      "4  1008  100000\n",
      "5  1001   30000\n"
     ]
    }
   ],
   "source": [
    "df1 = pd.DataFrame({\n",
    "    \"고객번호\":[1001, 1002, 1003, 1004, 1005, 1006, 1007],\n",
    "    \"이름\":[\"둘리\", \"도우너\", \"또치\", \"길동\", \"희동\", \"마이콜\", \"영희\"]\n",
    "})\n",
    "print(df1)\n",
    "print(\"=================================================================\")\n",
    "df2 = pd.DataFrame({\n",
    "    \"고객번호\":[1001, 1001, 1005, 1006, 1008, 1001],\n",
    "    \"금액\":[10000, 20000, 15000, 5000, 100000, 30000]\n",
    "})\n",
    "print(df2)"
   ]
  },
  {
   "cell_type": "code",
   "execution_count": 42,
   "id": "a83769a3",
   "metadata": {
    "collapsed": true
   },
   "outputs": [
    {
     "data": {
      "text/html": [
       "<div>\n",
       "<style scoped>\n",
       "    .dataframe tbody tr th:only-of-type {\n",
       "        vertical-align: middle;\n",
       "    }\n",
       "\n",
       "    .dataframe tbody tr th {\n",
       "        vertical-align: top;\n",
       "    }\n",
       "\n",
       "    .dataframe thead th {\n",
       "        text-align: right;\n",
       "    }\n",
       "</style>\n",
       "<table border=\"1\" class=\"dataframe\">\n",
       "  <thead>\n",
       "    <tr style=\"text-align: right;\">\n",
       "      <th></th>\n",
       "      <th>고객번호</th>\n",
       "      <th>이름</th>\n",
       "      <th>금액</th>\n",
       "    </tr>\n",
       "  </thead>\n",
       "  <tbody>\n",
       "    <tr>\n",
       "      <th>0</th>\n",
       "      <td>1001</td>\n",
       "      <td>둘리</td>\n",
       "      <td>10000.0</td>\n",
       "    </tr>\n",
       "    <tr>\n",
       "      <th>1</th>\n",
       "      <td>1001</td>\n",
       "      <td>둘리</td>\n",
       "      <td>20000.0</td>\n",
       "    </tr>\n",
       "    <tr>\n",
       "      <th>2</th>\n",
       "      <td>1001</td>\n",
       "      <td>둘리</td>\n",
       "      <td>30000.0</td>\n",
       "    </tr>\n",
       "    <tr>\n",
       "      <th>3</th>\n",
       "      <td>1002</td>\n",
       "      <td>도우너</td>\n",
       "      <td>NaN</td>\n",
       "    </tr>\n",
       "    <tr>\n",
       "      <th>4</th>\n",
       "      <td>1003</td>\n",
       "      <td>또치</td>\n",
       "      <td>NaN</td>\n",
       "    </tr>\n",
       "    <tr>\n",
       "      <th>5</th>\n",
       "      <td>1004</td>\n",
       "      <td>길동</td>\n",
       "      <td>NaN</td>\n",
       "    </tr>\n",
       "    <tr>\n",
       "      <th>6</th>\n",
       "      <td>1005</td>\n",
       "      <td>희동</td>\n",
       "      <td>15000.0</td>\n",
       "    </tr>\n",
       "    <tr>\n",
       "      <th>7</th>\n",
       "      <td>1006</td>\n",
       "      <td>마이콜</td>\n",
       "      <td>5000.0</td>\n",
       "    </tr>\n",
       "    <tr>\n",
       "      <th>8</th>\n",
       "      <td>1007</td>\n",
       "      <td>영희</td>\n",
       "      <td>NaN</td>\n",
       "    </tr>\n",
       "    <tr>\n",
       "      <th>9</th>\n",
       "      <td>1008</td>\n",
       "      <td>NaN</td>\n",
       "      <td>100000.0</td>\n",
       "    </tr>\n",
       "  </tbody>\n",
       "</table>\n",
       "</div>"
      ],
      "text/plain": [
       "   고객번호   이름        금액\n",
       "0  1001   둘리   10000.0\n",
       "1  1001   둘리   20000.0\n",
       "2  1001   둘리   30000.0\n",
       "3  1002  도우너       NaN\n",
       "4  1003   또치       NaN\n",
       "5  1004   길동       NaN\n",
       "6  1005   희동   15000.0\n",
       "7  1006  마이콜    5000.0\n",
       "8  1007   영희       NaN\n",
       "9  1008  NaN  100000.0"
      ]
     },
     "execution_count": 42,
     "metadata": {},
     "output_type": "execute_result"
    }
   ],
   "source": [
    "pd.merge(df1, df2)\n",
    "pd.merge(df1, df2, how=\"left\")\n",
    "pd.merge(df1, df2, how=\"right\")\n",
    "pd.merge(df1, df2, how=\"outer\")  # outer = Full outer join"
   ]
  },
  {
   "cell_type": "code",
   "execution_count": 45,
   "id": "9a20e491",
   "metadata": {
    "collapsed": true
   },
   "outputs": [
    {
     "name": "stdout",
     "output_type": "stream",
     "text": [
      "  고객명          날짜     데이터\n",
      "0  춘향  2019-01-01   20000\n",
      "1  춘향  2019-01-02   30000\n",
      "2  몽룡  2019-01-03  100000\n",
      "----------------------------------\n",
      "  고객명 데이터\n",
      "0  춘향  여자\n",
      "1  몽룡  남자\n",
      "----------------------------------\n"
     ]
    },
    {
     "data": {
      "text/html": [
       "<div>\n",
       "<style scoped>\n",
       "    .dataframe tbody tr th:only-of-type {\n",
       "        vertical-align: middle;\n",
       "    }\n",
       "\n",
       "    .dataframe tbody tr th {\n",
       "        vertical-align: top;\n",
       "    }\n",
       "\n",
       "    .dataframe thead th {\n",
       "        text-align: right;\n",
       "    }\n",
       "</style>\n",
       "<table border=\"1\" class=\"dataframe\">\n",
       "  <thead>\n",
       "    <tr style=\"text-align: right;\">\n",
       "      <th></th>\n",
       "      <th>고객명</th>\n",
       "      <th>날짜</th>\n",
       "      <th>데이터_x</th>\n",
       "      <th>데이터_y</th>\n",
       "    </tr>\n",
       "  </thead>\n",
       "  <tbody>\n",
       "    <tr>\n",
       "      <th>0</th>\n",
       "      <td>춘향</td>\n",
       "      <td>2019-01-01</td>\n",
       "      <td>20000</td>\n",
       "      <td>여자</td>\n",
       "    </tr>\n",
       "    <tr>\n",
       "      <th>1</th>\n",
       "      <td>춘향</td>\n",
       "      <td>2019-01-02</td>\n",
       "      <td>30000</td>\n",
       "      <td>여자</td>\n",
       "    </tr>\n",
       "    <tr>\n",
       "      <th>2</th>\n",
       "      <td>몽룡</td>\n",
       "      <td>2019-01-03</td>\n",
       "      <td>100000</td>\n",
       "      <td>남자</td>\n",
       "    </tr>\n",
       "  </tbody>\n",
       "</table>\n",
       "</div>"
      ],
      "text/plain": [
       "  고객명          날짜   데이터_x 데이터_y\n",
       "0  춘향  2019-01-01   20000    여자\n",
       "1  춘향  2019-01-02   30000    여자\n",
       "2  몽룡  2019-01-03  100000    남자"
      ]
     },
     "execution_count": 45,
     "metadata": {},
     "output_type": "execute_result"
    }
   ],
   "source": [
    "#### 키가 여러 개인 경우 ####\n",
    "\n",
    "df1 = pd.DataFrame({\n",
    "    \"고객명\":[\"춘향\", \"춘향\", \"몽룡\"],\n",
    "    \"날짜\":[\"2019-01-01\", \"2019-01-02\", \"2019-01-03\"], \n",
    "    \"데이터\":[\"20000\", \"30000\", \"100000\"]\n",
    "})\n",
    "\n",
    "df2 = pd.DataFrame({\n",
    "    \"고객명\":[\"춘향\", \"몽룡\"],\n",
    "    \"데이터\":[\"여자\", \"남자\"]\n",
    "})\n",
    "\n",
    "print(df1)\n",
    "print(\"----------------------------------\")\n",
    "print(df2)\n",
    "print(\"----------------------------------\")\n",
    "pd.merge(df1, df2, on=\"고객명\")  # 키 지정해주기"
   ]
  },
  {
   "cell_type": "code",
   "execution_count": 48,
   "id": "77493cb8",
   "metadata": {
    "collapsed": true
   },
   "outputs": [
    {
     "name": "stdout",
     "output_type": "stream",
     "text": [
      "   이름  성적\n",
      "0  영희   1\n",
      "1  철수   2\n",
      "2  철수   3\n",
      "------------------------------\n",
      "   성명  점수\n",
      "0  영희   4\n",
      "1  영희   5\n",
      "2  철수   6\n",
      "------------------------------\n"
     ]
    },
    {
     "data": {
      "text/html": [
       "<div>\n",
       "<style scoped>\n",
       "    .dataframe tbody tr th:only-of-type {\n",
       "        vertical-align: middle;\n",
       "    }\n",
       "\n",
       "    .dataframe tbody tr th {\n",
       "        vertical-align: top;\n",
       "    }\n",
       "\n",
       "    .dataframe thead th {\n",
       "        text-align: right;\n",
       "    }\n",
       "</style>\n",
       "<table border=\"1\" class=\"dataframe\">\n",
       "  <thead>\n",
       "    <tr style=\"text-align: right;\">\n",
       "      <th></th>\n",
       "      <th>이름</th>\n",
       "      <th>성적</th>\n",
       "      <th>성명</th>\n",
       "      <th>점수</th>\n",
       "    </tr>\n",
       "  </thead>\n",
       "  <tbody>\n",
       "    <tr>\n",
       "      <th>0</th>\n",
       "      <td>영희</td>\n",
       "      <td>1</td>\n",
       "      <td>영희</td>\n",
       "      <td>4</td>\n",
       "    </tr>\n",
       "    <tr>\n",
       "      <th>1</th>\n",
       "      <td>영희</td>\n",
       "      <td>1</td>\n",
       "      <td>영희</td>\n",
       "      <td>5</td>\n",
       "    </tr>\n",
       "    <tr>\n",
       "      <th>2</th>\n",
       "      <td>철수</td>\n",
       "      <td>2</td>\n",
       "      <td>철수</td>\n",
       "      <td>6</td>\n",
       "    </tr>\n",
       "    <tr>\n",
       "      <th>3</th>\n",
       "      <td>철수</td>\n",
       "      <td>3</td>\n",
       "      <td>철수</td>\n",
       "      <td>6</td>\n",
       "    </tr>\n",
       "  </tbody>\n",
       "</table>\n",
       "</div>"
      ],
      "text/plain": [
       "   이름  성적  성명  점수\n",
       "0  영희   1  영희   4\n",
       "1  영희   1  영희   5\n",
       "2  철수   2  철수   6\n",
       "3  철수   3  철수   6"
      ]
     },
     "execution_count": 48,
     "metadata": {},
     "output_type": "execute_result"
    }
   ],
   "source": [
    "#### 공통된 키가 없는 경우 ####\n",
    "\n",
    "df1 = pd.DataFrame({\n",
    "    \"이름\":[\"영희\", \"철수\", \"철수\"],\n",
    "    \"성적\":[1, 2, 3]\n",
    "})\n",
    "\n",
    "df2 = pd.DataFrame({\n",
    "    \"성명\":[\"영희\", \"영희\", \"철수\"],\n",
    "    \"점수\":[4, 5, 6]\n",
    "})\n",
    "\n",
    "print(df1)\n",
    "print(\"------------------------------\")\n",
    "print(df2)\n",
    "print(\"------------------------------\")\n",
    "pd.merge(df1, df2, left_on=\"이름\", right_on=\"성명\")"
   ]
  },
  {
   "cell_type": "code",
   "execution_count": 50,
   "id": "85bcc169",
   "metadata": {},
   "outputs": [
    {
     "name": "stdout",
     "output_type": "stream",
     "text": [
      "   도시    연도       인구\n",
      "0  서울  2000  9853972\n",
      "1  서울  2005  9762546\n",
      "2  서울  2010  9631482\n",
      "3  부산  2000  3655437\n",
      "4  부산  2005  3512547\n",
      "------------------------------\n",
      "         데이터1  데이터2\n",
      "부산 2000     0     1\n",
      "   2005     2     3\n",
      "서울 2000     4     5\n",
      "   2005     6     7\n",
      "   2010     8     9\n",
      "   2015    10    11\n",
      "------------------------------\n"
     ]
    },
    {
     "data": {
      "text/html": [
       "<div>\n",
       "<style scoped>\n",
       "    .dataframe tbody tr th:only-of-type {\n",
       "        vertical-align: middle;\n",
       "    }\n",
       "\n",
       "    .dataframe tbody tr th {\n",
       "        vertical-align: top;\n",
       "    }\n",
       "\n",
       "    .dataframe thead th {\n",
       "        text-align: right;\n",
       "    }\n",
       "</style>\n",
       "<table border=\"1\" class=\"dataframe\">\n",
       "  <thead>\n",
       "    <tr style=\"text-align: right;\">\n",
       "      <th></th>\n",
       "      <th>도시</th>\n",
       "      <th>연도</th>\n",
       "      <th>인구</th>\n",
       "      <th>데이터1</th>\n",
       "      <th>데이터2</th>\n",
       "    </tr>\n",
       "  </thead>\n",
       "  <tbody>\n",
       "    <tr>\n",
       "      <th>0</th>\n",
       "      <td>서울</td>\n",
       "      <td>2000</td>\n",
       "      <td>9853972</td>\n",
       "      <td>4</td>\n",
       "      <td>5</td>\n",
       "    </tr>\n",
       "    <tr>\n",
       "      <th>1</th>\n",
       "      <td>서울</td>\n",
       "      <td>2005</td>\n",
       "      <td>9762546</td>\n",
       "      <td>6</td>\n",
       "      <td>7</td>\n",
       "    </tr>\n",
       "    <tr>\n",
       "      <th>2</th>\n",
       "      <td>서울</td>\n",
       "      <td>2010</td>\n",
       "      <td>9631482</td>\n",
       "      <td>8</td>\n",
       "      <td>9</td>\n",
       "    </tr>\n",
       "    <tr>\n",
       "      <th>3</th>\n",
       "      <td>부산</td>\n",
       "      <td>2000</td>\n",
       "      <td>3655437</td>\n",
       "      <td>0</td>\n",
       "      <td>1</td>\n",
       "    </tr>\n",
       "    <tr>\n",
       "      <th>4</th>\n",
       "      <td>부산</td>\n",
       "      <td>2005</td>\n",
       "      <td>3512547</td>\n",
       "      <td>2</td>\n",
       "      <td>3</td>\n",
       "    </tr>\n",
       "  </tbody>\n",
       "</table>\n",
       "</div>"
      ],
      "text/plain": [
       "   도시    연도       인구  데이터1  데이터2\n",
       "0  서울  2000  9853972     4     5\n",
       "1  서울  2005  9762546     6     7\n",
       "2  서울  2010  9631482     8     9\n",
       "3  부산  2000  3655437     0     1\n",
       "4  부산  2005  3512547     2     3"
      ]
     },
     "execution_count": 50,
     "metadata": {},
     "output_type": "execute_result"
    }
   ],
   "source": [
    "#### 인덱스를 기준열로 사용하는 경우(한쪽은 컬럼, 한쪽은 인덱스) ####\n",
    "\n",
    "df1 = pd.DataFrame({\n",
    "    '도시': ['서울', '서울', '서울', '부산', '부산'],\n",
    "    '연도': [2000, 2005, 2010, 2000, 2005],\n",
    "    '인구': [9853972, 9762546, 9631482, 3655437, 3512547]})\n",
    "print(df1)\n",
    "print(\"------------------------------\")\n",
    "\n",
    "df2 = pd.DataFrame(\n",
    "    np.arange(12).reshape((6, 2)),\n",
    "    index=[['부산', '부산', '서울', '서울', '서울', '서울'],\n",
    "           [2000, 2005, 2000, 2005, 2010, 2015]],\n",
    "    columns=['데이터1', '데이터2'])\n",
    "print(df2)\n",
    "print(\"------------------------------\")\n",
    "\n",
    "pd.merge(df1, df2, left_on=[\"도시\",\"연도\"], right_index=True )"
   ]
  },
  {
   "cell_type": "code",
   "execution_count": 60,
   "id": "a3b52831",
   "metadata": {
    "collapsed": true
   },
   "outputs": [
    {
     "name": "stdout",
     "output_type": "stream",
     "text": [
      "    서울   부산\n",
      "a  1.0  2.0\n",
      "c  3.0  4.0\n",
      "e  5.0  6.0\n",
      "------------------------------\n",
      "     대구    광주\n",
      "b   7.0   8.0\n",
      "c   9.0  10.0\n",
      "d  11.0  12.0\n",
      "e  13.0  14.0\n",
      "------------------------------\n"
     ]
    },
    {
     "data": {
      "text/html": [
       "<div>\n",
       "<style scoped>\n",
       "    .dataframe tbody tr th:only-of-type {\n",
       "        vertical-align: middle;\n",
       "    }\n",
       "\n",
       "    .dataframe tbody tr th {\n",
       "        vertical-align: top;\n",
       "    }\n",
       "\n",
       "    .dataframe thead th {\n",
       "        text-align: right;\n",
       "    }\n",
       "</style>\n",
       "<table border=\"1\" class=\"dataframe\">\n",
       "  <thead>\n",
       "    <tr style=\"text-align: right;\">\n",
       "      <th></th>\n",
       "      <th>서울</th>\n",
       "      <th>부산</th>\n",
       "      <th>대구</th>\n",
       "      <th>광주</th>\n",
       "    </tr>\n",
       "  </thead>\n",
       "  <tbody>\n",
       "    <tr>\n",
       "      <th>c</th>\n",
       "      <td>3.0</td>\n",
       "      <td>4.0</td>\n",
       "      <td>9.0</td>\n",
       "      <td>10.0</td>\n",
       "    </tr>\n",
       "    <tr>\n",
       "      <th>e</th>\n",
       "      <td>5.0</td>\n",
       "      <td>6.0</td>\n",
       "      <td>13.0</td>\n",
       "      <td>14.0</td>\n",
       "    </tr>\n",
       "  </tbody>\n",
       "</table>\n",
       "</div>"
      ],
      "text/plain": [
       "    서울   부산    대구    광주\n",
       "c  3.0  4.0   9.0  10.0\n",
       "e  5.0  6.0  13.0  14.0"
      ]
     },
     "execution_count": 60,
     "metadata": {},
     "output_type": "execute_result"
    }
   ],
   "source": [
    "#### 인덱스를 기준열로 사용하는 경우(둘 다 인덱스) ####\n",
    "\n",
    "df1 = pd.DataFrame(\n",
    "    [[1., 2.], [3., 4.], [5., 6.]],\n",
    "    index=['a', 'c', 'e'],\n",
    "    columns=['서울', '부산'])\n",
    "print(df1)\n",
    "print(\"------------------------------\")\n",
    "\n",
    "\n",
    "df2 = pd.DataFrame(\n",
    "    [[7., 8.], [9., 10.], [11., 12.], [13, 14]],\n",
    "    index=['b', 'c', 'd', 'e'],\n",
    "    columns=['대구', '광주'])\n",
    "print(df2)\n",
    "print(\"------------------------------\")\n",
    "\n",
    "pd.merge(df1, df2, left_index=True, right_index=True)\n",
    "pd.merge(df1, df2, left_index=True, right_index=True, how=\"outer\")\n",
    "\n",
    "#### merge 대신에 join 사용 가능(둘 다 인덱스가 키일 때) ####\n",
    "df1.join(df2, how=\"inner\")"
   ]
  },
  {
   "cell_type": "markdown",
   "id": "b8460164",
   "metadata": {},
   "source": [
    "## 2) concat()\n",
    "\n",
    "- 단순한 연결\n",
    "- 인자값을 하나의 리스트로 묶어서 넘기기"
   ]
  },
  {
   "cell_type": "code",
   "execution_count": 65,
   "id": "8740df23",
   "metadata": {},
   "outputs": [],
   "source": [
    "?pd.concat"
   ]
  },
  {
   "cell_type": "markdown",
   "id": "4cde31b0",
   "metadata": {},
   "source": [
    "### (1) series에서 사용"
   ]
  },
  {
   "cell_type": "code",
   "execution_count": 67,
   "id": "a8d235d3",
   "metadata": {
    "collapsed": true
   },
   "outputs": [
    {
     "name": "stdout",
     "output_type": "stream",
     "text": [
      "A    0\n",
      "B    1\n",
      "dtype: int64\n",
      "A    2\n",
      "B    3\n",
      "C    4\n",
      "dtype: int64\n",
      "----------------\n"
     ]
    },
    {
     "data": {
      "text/plain": [
       "A    0\n",
       "B    1\n",
       "A    2\n",
       "B    3\n",
       "C    4\n",
       "dtype: int64"
      ]
     },
     "execution_count": 67,
     "metadata": {},
     "output_type": "execute_result"
    }
   ],
   "source": [
    "s1 = pd.Series([0, 1], index=[\"A\", \"B\"])\n",
    "s2 = pd.Series([2, 3, 4], index=[\"A\", \"B\", \"C\"])\n",
    "print(s1)\n",
    "print(s2)\n",
    "print(\"----------------\")\n",
    "\n",
    "pd.concat([s1, s2])"
   ]
  },
  {
   "cell_type": "markdown",
   "id": "f22e020e",
   "metadata": {},
   "source": [
    "### (2)  DataFrame에서 사용"
   ]
  },
  {
   "cell_type": "code",
   "execution_count": 78,
   "id": "0feceecb",
   "metadata": {
    "collapsed": true
   },
   "outputs": [
    {
     "name": "stdout",
     "output_type": "stream",
     "text": [
      "   data1  data2\n",
      "a      0      1\n",
      "b      2      3\n",
      "c      4      5\n",
      "----------------\n",
      "   data3  data3\n",
      "a      0      1\n",
      "c      2      3\n",
      "----------------\n"
     ]
    },
    {
     "data": {
      "text/html": [
       "<div>\n",
       "<style scoped>\n",
       "    .dataframe tbody tr th:only-of-type {\n",
       "        vertical-align: middle;\n",
       "    }\n",
       "\n",
       "    .dataframe tbody tr th {\n",
       "        vertical-align: top;\n",
       "    }\n",
       "\n",
       "    .dataframe thead th {\n",
       "        text-align: right;\n",
       "    }\n",
       "</style>\n",
       "<table border=\"1\" class=\"dataframe\">\n",
       "  <thead>\n",
       "    <tr style=\"text-align: right;\">\n",
       "      <th></th>\n",
       "      <th>data1</th>\n",
       "      <th>data2</th>\n",
       "      <th>data3</th>\n",
       "      <th>data3</th>\n",
       "    </tr>\n",
       "  </thead>\n",
       "  <tbody>\n",
       "    <tr>\n",
       "      <th>a</th>\n",
       "      <td>0</td>\n",
       "      <td>1</td>\n",
       "      <td>0.0</td>\n",
       "      <td>1.0</td>\n",
       "    </tr>\n",
       "    <tr>\n",
       "      <th>b</th>\n",
       "      <td>2</td>\n",
       "      <td>3</td>\n",
       "      <td>NaN</td>\n",
       "      <td>NaN</td>\n",
       "    </tr>\n",
       "    <tr>\n",
       "      <th>c</th>\n",
       "      <td>4</td>\n",
       "      <td>5</td>\n",
       "      <td>2.0</td>\n",
       "      <td>3.0</td>\n",
       "    </tr>\n",
       "  </tbody>\n",
       "</table>\n",
       "</div>"
      ],
      "text/plain": [
       "   data1  data2  data3  data3\n",
       "a      0      1    0.0    1.0\n",
       "b      2      3    NaN    NaN\n",
       "c      4      5    2.0    3.0"
      ]
     },
     "execution_count": 78,
     "metadata": {},
     "output_type": "execute_result"
    }
   ],
   "source": [
    "np.random.seed(0)\n",
    "df1 = pd.DataFrame(np.arange(6).reshape(3, 2), index=[\"a\", \"b\", \"c\"], columns=[\"data1\", \"data2\"])\n",
    "print(df1)\n",
    "print(\"----------------\")\n",
    "df2 = pd.DataFrame(np.arange(4).reshape(2, 2), index=[\"a\", \"c\"], columns=[\"data3\", \"data3\"])\n",
    "print(df2)\n",
    "print(\"----------------\")\n",
    "\n",
    "pd.concat([df1, df2], axis=1)"
   ]
  },
  {
   "cell_type": "markdown",
   "id": "03cfeca6",
   "metadata": {},
   "source": [
    "# 7. 그룹분석\n",
    "\n",
    "- pivot() -> 간단한 경우 사용\n",
    "    - index=None, columns=None, values=None\n",
    "- groupby()\n",
    "    - by=None, axis=0, level=None, as_index=True, sort=True, group_keys=_NoDefault.no_default, \n",
    "        squeeze=_NoDefault.no_default, observed=False, dropna=True\n",
    "- pivot_table()\n",
    "    - values=None, index=None, columns=None, aggfunc='mean', fill_value=None, margins=False, dropna=True, \n",
    "        margins_name='All', observed=False, sort=True"
   ]
  },
  {
   "cell_type": "markdown",
   "id": "d261dd3f",
   "metadata": {},
   "source": [
    "## 1) pivot()"
   ]
  },
  {
   "cell_type": "code",
   "execution_count": 79,
   "id": "e2aae709",
   "metadata": {
    "collapsed": true
   },
   "outputs": [
    {
     "data": {
      "text/html": [
       "<div>\n",
       "<style scoped>\n",
       "    .dataframe tbody tr th:only-of-type {\n",
       "        vertical-align: middle;\n",
       "    }\n",
       "\n",
       "    .dataframe tbody tr th {\n",
       "        vertical-align: top;\n",
       "    }\n",
       "\n",
       "    .dataframe thead th {\n",
       "        text-align: right;\n",
       "    }\n",
       "</style>\n",
       "<table border=\"1\" class=\"dataframe\">\n",
       "  <thead>\n",
       "    <tr style=\"text-align: right;\">\n",
       "      <th></th>\n",
       "      <th>도시</th>\n",
       "      <th>연도</th>\n",
       "      <th>인구</th>\n",
       "      <th>지역</th>\n",
       "    </tr>\n",
       "  </thead>\n",
       "  <tbody>\n",
       "    <tr>\n",
       "      <th>0</th>\n",
       "      <td>서울</td>\n",
       "      <td>2015</td>\n",
       "      <td>9904312</td>\n",
       "      <td>수도권</td>\n",
       "    </tr>\n",
       "    <tr>\n",
       "      <th>1</th>\n",
       "      <td>서울</td>\n",
       "      <td>2010</td>\n",
       "      <td>9631482</td>\n",
       "      <td>수도권</td>\n",
       "    </tr>\n",
       "    <tr>\n",
       "      <th>2</th>\n",
       "      <td>서울</td>\n",
       "      <td>2005</td>\n",
       "      <td>9762546</td>\n",
       "      <td>수도권</td>\n",
       "    </tr>\n",
       "    <tr>\n",
       "      <th>3</th>\n",
       "      <td>부산</td>\n",
       "      <td>2015</td>\n",
       "      <td>3448737</td>\n",
       "      <td>경상권</td>\n",
       "    </tr>\n",
       "    <tr>\n",
       "      <th>4</th>\n",
       "      <td>부산</td>\n",
       "      <td>2010</td>\n",
       "      <td>3393191</td>\n",
       "      <td>경상권</td>\n",
       "    </tr>\n",
       "    <tr>\n",
       "      <th>5</th>\n",
       "      <td>부산</td>\n",
       "      <td>2005</td>\n",
       "      <td>3512547</td>\n",
       "      <td>경상권</td>\n",
       "    </tr>\n",
       "    <tr>\n",
       "      <th>6</th>\n",
       "      <td>인천</td>\n",
       "      <td>2015</td>\n",
       "      <td>2890451</td>\n",
       "      <td>수도권</td>\n",
       "    </tr>\n",
       "    <tr>\n",
       "      <th>7</th>\n",
       "      <td>인천</td>\n",
       "      <td>2010</td>\n",
       "      <td>263203</td>\n",
       "      <td>수도권</td>\n",
       "    </tr>\n",
       "  </tbody>\n",
       "</table>\n",
       "</div>"
      ],
      "text/plain": [
       "   도시    연도       인구   지역\n",
       "0  서울  2015  9904312  수도권\n",
       "1  서울  2010  9631482  수도권\n",
       "2  서울  2005  9762546  수도권\n",
       "3  부산  2015  3448737  경상권\n",
       "4  부산  2010  3393191  경상권\n",
       "5  부산  2005  3512547  경상권\n",
       "6  인천  2015  2890451  수도권\n",
       "7  인천  2010   263203  수도권"
      ]
     },
     "execution_count": 79,
     "metadata": {},
     "output_type": "execute_result"
    }
   ],
   "source": [
    "data = {\n",
    "    \"도시\": [\"서울\", \"서울\", \"서울\", \"부산\", \"부산\", \"부산\", \"인천\", \"인천\"],\n",
    "    \"연도\": [\"2015\", \"2010\", \"2005\", \"2015\", \"2010\", \"2005\", \"2015\", \"2010\"],\n",
    "    \"인구\": [9904312, 9631482, 9762546, 3448737, 3393191, 3512547, 2890451, 263203],\n",
    "    \"지역\": [\"수도권\", \"수도권\", \"수도권\", \"경상권\", \"경상권\", \"경상권\", \"수도권\", \"수도권\"]\n",
    "}\n",
    "\n",
    "df = pd.DataFrame(data)\n",
    "df"
   ]
  },
  {
   "cell_type": "code",
   "execution_count": 86,
   "id": "933fb21b",
   "metadata": {},
   "outputs": [
    {
     "data": {
      "text/html": [
       "<div>\n",
       "<style scoped>\n",
       "    .dataframe tbody tr th:only-of-type {\n",
       "        vertical-align: middle;\n",
       "    }\n",
       "\n",
       "    .dataframe tbody tr th {\n",
       "        vertical-align: top;\n",
       "    }\n",
       "\n",
       "    .dataframe thead th {\n",
       "        text-align: right;\n",
       "    }\n",
       "</style>\n",
       "<table border=\"1\" class=\"dataframe\">\n",
       "  <thead>\n",
       "    <tr style=\"text-align: right;\">\n",
       "      <th>연도</th>\n",
       "      <th>2005</th>\n",
       "      <th>2010</th>\n",
       "      <th>2015</th>\n",
       "    </tr>\n",
       "    <tr>\n",
       "      <th>도시</th>\n",
       "      <th></th>\n",
       "      <th></th>\n",
       "      <th></th>\n",
       "    </tr>\n",
       "  </thead>\n",
       "  <tbody>\n",
       "    <tr>\n",
       "      <th>부산</th>\n",
       "      <td>3512547.0</td>\n",
       "      <td>3393191.0</td>\n",
       "      <td>3448737.0</td>\n",
       "    </tr>\n",
       "    <tr>\n",
       "      <th>서울</th>\n",
       "      <td>9762546.0</td>\n",
       "      <td>9631482.0</td>\n",
       "      <td>9904312.0</td>\n",
       "    </tr>\n",
       "    <tr>\n",
       "      <th>인천</th>\n",
       "      <td>NaN</td>\n",
       "      <td>263203.0</td>\n",
       "      <td>2890451.0</td>\n",
       "    </tr>\n",
       "  </tbody>\n",
       "</table>\n",
       "</div>"
      ],
      "text/plain": [
       "연도       2005       2010       2015\n",
       "도시                                 \n",
       "부산  3512547.0  3393191.0  3448737.0\n",
       "서울  9762546.0  9631482.0  9904312.0\n",
       "인천        NaN   263203.0  2890451.0"
      ]
     },
     "execution_count": 86,
     "metadata": {},
     "output_type": "execute_result"
    }
   ],
   "source": [
    "#### 각 도시(index)에서 연도별(columns)로 인구수(values)를 알고싶다 ####\n",
    "\n",
    "pd.pivot(df, index=\"도시\", columns=\"연도\", values=\"인구\")\n",
    "df.pivot(index=\"도시\", columns=\"연도\", values=\"인구\")\n",
    "df.pivot(\"도시\", \"연도\", \"인구\")"
   ]
  },
  {
   "cell_type": "code",
   "execution_count": 104,
   "id": "78fd217b",
   "metadata": {
    "collapsed": true
   },
   "outputs": [
    {
     "data": {
      "text/html": [
       "<div>\n",
       "<style scoped>\n",
       "    .dataframe tbody tr th:only-of-type {\n",
       "        vertical-align: middle;\n",
       "    }\n",
       "\n",
       "    .dataframe tbody tr th {\n",
       "        vertical-align: top;\n",
       "    }\n",
       "\n",
       "    .dataframe thead tr th {\n",
       "        text-align: left;\n",
       "    }\n",
       "\n",
       "    .dataframe thead tr:last-of-type th {\n",
       "        text-align: right;\n",
       "    }\n",
       "</style>\n",
       "<table border=\"1\" class=\"dataframe\">\n",
       "  <thead>\n",
       "    <tr>\n",
       "      <th></th>\n",
       "      <th colspan=\"3\" halign=\"left\">인구</th>\n",
       "    </tr>\n",
       "    <tr>\n",
       "      <th>연도</th>\n",
       "      <th>2005</th>\n",
       "      <th>2010</th>\n",
       "      <th>2015</th>\n",
       "    </tr>\n",
       "    <tr>\n",
       "      <th>도시</th>\n",
       "      <th></th>\n",
       "      <th></th>\n",
       "      <th></th>\n",
       "    </tr>\n",
       "  </thead>\n",
       "  <tbody>\n",
       "    <tr>\n",
       "      <th>부산</th>\n",
       "      <td>3512547.0</td>\n",
       "      <td>3393191.0</td>\n",
       "      <td>3448737.0</td>\n",
       "    </tr>\n",
       "    <tr>\n",
       "      <th>서울</th>\n",
       "      <td>9762546.0</td>\n",
       "      <td>9631482.0</td>\n",
       "      <td>9904312.0</td>\n",
       "    </tr>\n",
       "    <tr>\n",
       "      <th>인천</th>\n",
       "      <td>NaN</td>\n",
       "      <td>263203.0</td>\n",
       "      <td>2890451.0</td>\n",
       "    </tr>\n",
       "  </tbody>\n",
       "</table>\n",
       "</div>"
      ],
      "text/plain": [
       "           인구                      \n",
       "연도       2005       2010       2015\n",
       "도시                                 \n",
       "부산  3512547.0  3393191.0  3448737.0\n",
       "서울  9762546.0  9631482.0  9904312.0\n",
       "인천        NaN   263203.0  2890451.0"
      ]
     },
     "execution_count": 104,
     "metadata": {},
     "output_type": "execute_result"
    }
   ],
   "source": [
    "# set_index(), unstack()\n",
    "\n",
    "df.set_index([\"도시\", \"연도\"])[[\"인구\"]].unstack(\"연도\")\n",
    "df.set_index([\"도시\", \"연도\"]).unstack(\"연도\")[[\"인구\"]]\n",
    "df[[\"도시\", \"연도\", \"인구\"]].set_index([\"도시\", \"연도\"]).unstack(1)"
   ]
  },
  {
   "cell_type": "markdown",
   "id": "111d025a",
   "metadata": {},
   "source": [
    "## 2) groupby()\n",
    "\n",
    "- 반드시 집계 함수와 같이 사용\n",
    "    \n",
    "        size(), count()\n",
    "        mean(), median(), min(), max()\n",
    "        sum(), prod(), std(), var(), quantile()\n",
    "        first(), last()\n",
    "        agg(), aggregate(), apply(), transform()\n",
    "        describe()\n",
    "        ..."
   ]
  },
  {
   "cell_type": "code",
   "execution_count": 105,
   "id": "b48bb659",
   "metadata": {
    "collapsed": true
   },
   "outputs": [
    {
     "data": {
      "text/html": [
       "<div>\n",
       "<style scoped>\n",
       "    .dataframe tbody tr th:only-of-type {\n",
       "        vertical-align: middle;\n",
       "    }\n",
       "\n",
       "    .dataframe tbody tr th {\n",
       "        vertical-align: top;\n",
       "    }\n",
       "\n",
       "    .dataframe thead th {\n",
       "        text-align: right;\n",
       "    }\n",
       "</style>\n",
       "<table border=\"1\" class=\"dataframe\">\n",
       "  <thead>\n",
       "    <tr style=\"text-align: right;\">\n",
       "      <th></th>\n",
       "      <th>key1</th>\n",
       "      <th>key2</th>\n",
       "      <th>data1</th>\n",
       "      <th>data2</th>\n",
       "    </tr>\n",
       "  </thead>\n",
       "  <tbody>\n",
       "    <tr>\n",
       "      <th>0</th>\n",
       "      <td>A</td>\n",
       "      <td>one</td>\n",
       "      <td>1</td>\n",
       "      <td>10</td>\n",
       "    </tr>\n",
       "    <tr>\n",
       "      <th>1</th>\n",
       "      <td>A</td>\n",
       "      <td>two</td>\n",
       "      <td>2</td>\n",
       "      <td>20</td>\n",
       "    </tr>\n",
       "    <tr>\n",
       "      <th>2</th>\n",
       "      <td>B</td>\n",
       "      <td>one</td>\n",
       "      <td>3</td>\n",
       "      <td>30</td>\n",
       "    </tr>\n",
       "    <tr>\n",
       "      <th>3</th>\n",
       "      <td>B</td>\n",
       "      <td>two</td>\n",
       "      <td>4</td>\n",
       "      <td>40</td>\n",
       "    </tr>\n",
       "    <tr>\n",
       "      <th>4</th>\n",
       "      <td>A</td>\n",
       "      <td>one</td>\n",
       "      <td>5</td>\n",
       "      <td>50</td>\n",
       "    </tr>\n",
       "  </tbody>\n",
       "</table>\n",
       "</div>"
      ],
      "text/plain": [
       "  key1 key2  data1  data2\n",
       "0    A  one      1     10\n",
       "1    A  two      2     20\n",
       "2    B  one      3     30\n",
       "3    B  two      4     40\n",
       "4    A  one      5     50"
      ]
     },
     "execution_count": 105,
     "metadata": {},
     "output_type": "execute_result"
    }
   ],
   "source": [
    "df2 = pd.DataFrame({\n",
    "    \"key1\":[\"A\", \"A\", \"B\", \"B\", \"A\"],\n",
    "    \"key2\":[\"one\", \"two\", \"one\", \"two\", \"one\"],\n",
    "    \"data1\":[1, 2, 3, 4, 5],\n",
    "    \"data2\":[10, 20, 30, 40, 50]\n",
    "})\n",
    "df2"
   ]
  },
  {
   "cell_type": "code",
   "execution_count": 109,
   "id": "dbc6190e",
   "metadata": {
    "collapsed": true
   },
   "outputs": [
    {
     "data": {
      "text/html": [
       "<div>\n",
       "<style scoped>\n",
       "    .dataframe tbody tr th:only-of-type {\n",
       "        vertical-align: middle;\n",
       "    }\n",
       "\n",
       "    .dataframe tbody tr th {\n",
       "        vertical-align: top;\n",
       "    }\n",
       "\n",
       "    .dataframe thead th {\n",
       "        text-align: right;\n",
       "    }\n",
       "</style>\n",
       "<table border=\"1\" class=\"dataframe\">\n",
       "  <thead>\n",
       "    <tr style=\"text-align: right;\">\n",
       "      <th></th>\n",
       "      <th>data1</th>\n",
       "      <th>data2</th>\n",
       "    </tr>\n",
       "    <tr>\n",
       "      <th>key1</th>\n",
       "      <th></th>\n",
       "      <th></th>\n",
       "    </tr>\n",
       "  </thead>\n",
       "  <tbody>\n",
       "    <tr>\n",
       "      <th>A</th>\n",
       "      <td>8</td>\n",
       "      <td>80</td>\n",
       "    </tr>\n",
       "    <tr>\n",
       "      <th>B</th>\n",
       "      <td>7</td>\n",
       "      <td>70</td>\n",
       "    </tr>\n",
       "  </tbody>\n",
       "</table>\n",
       "</div>"
      ],
      "text/plain": [
       "      data1  data2\n",
       "key1              \n",
       "A         8     80\n",
       "B         7     70"
      ]
     },
     "execution_count": 109,
     "metadata": {},
     "output_type": "execute_result"
    }
   ],
   "source": [
    "df2.groupby(by=\"key1\").sum()"
   ]
  },
  {
   "cell_type": "code",
   "execution_count": 122,
   "id": "b092b583",
   "metadata": {
    "collapsed": true
   },
   "outputs": [
    {
     "name": "stdout",
     "output_type": "stream",
     "text": [
      "      data1  data2\n",
      "key1              \n",
      "A         8     80\n",
      "B         7     70\n",
      "-------------------------\n",
      "      data1  data2\n",
      "key1              \n",
      "A         8     80\n",
      "B         7     70\n",
      "-------------------------\n",
      "key1\n",
      "A    8\n",
      "B    7\n",
      "Name: data1, dtype: int64\n",
      "-------------------------\n",
      "key1\n",
      "A    8\n",
      "B    7\n",
      "Name: data1, dtype: int64\n"
     ]
    }
   ],
   "source": [
    "#### 다양한 접근 표현 ####\n",
    "\n",
    "print(df2.groupby(\"key1\").sum())\n",
    "print(\"-------------------------\")\n",
    "print(df2[[\"data1\", \"data2\"]].groupby(df2.key1).sum())\n",
    "print(\"-------------------------\")\n",
    "print(df2.groupby(\"key1\")[\"data1\"].sum())\n",
    "print(\"-------------------------\")\n",
    "print(df2.groupby(\"key1\").sum()[\"data1\"])"
   ]
  },
  {
   "cell_type": "code",
   "execution_count": 137,
   "id": "a5093c97",
   "metadata": {
    "collapsed": true
   },
   "outputs": [
    {
     "data": {
      "text/html": [
       "<div>\n",
       "<style scoped>\n",
       "    .dataframe tbody tr th:only-of-type {\n",
       "        vertical-align: middle;\n",
       "    }\n",
       "\n",
       "    .dataframe tbody tr th {\n",
       "        vertical-align: top;\n",
       "    }\n",
       "\n",
       "    .dataframe thead th {\n",
       "        text-align: right;\n",
       "    }\n",
       "</style>\n",
       "<table border=\"1\" class=\"dataframe\">\n",
       "  <thead>\n",
       "    <tr style=\"text-align: right;\">\n",
       "      <th>key2</th>\n",
       "      <th>one</th>\n",
       "      <th>two</th>\n",
       "    </tr>\n",
       "    <tr>\n",
       "      <th>key1</th>\n",
       "      <th></th>\n",
       "      <th></th>\n",
       "    </tr>\n",
       "  </thead>\n",
       "  <tbody>\n",
       "    <tr>\n",
       "      <th>A</th>\n",
       "      <td>6</td>\n",
       "      <td>2</td>\n",
       "    </tr>\n",
       "    <tr>\n",
       "      <th>B</th>\n",
       "      <td>3</td>\n",
       "      <td>4</td>\n",
       "    </tr>\n",
       "  </tbody>\n",
       "</table>\n",
       "</div>"
      ],
      "text/plain": [
       "key2  one  two\n",
       "key1          \n",
       "A       6    2\n",
       "B       3    4"
      ]
     },
     "execution_count": 137,
     "metadata": {},
     "output_type": "execute_result"
    }
   ],
   "source": [
    "#### 복합키 ####\n",
    "\n",
    "df2.groupby([\"key1\", \"key2\"]).sum()\n",
    "df2.data1.groupby([df2.key1, df2.key2]).sum().unstack(1)   # 사용 컬럼을 먼저 필터링 가능"
   ]
  },
  {
   "cell_type": "code",
   "execution_count": 147,
   "id": "f9881df4",
   "metadata": {
    "collapsed": true
   },
   "outputs": [
    {
     "name": "stdout",
     "output_type": "stream",
     "text": [
      "   도시    연도       인구   지역\n",
      "0  서울  2015  9904312  수도권\n",
      "1  서울  2010  9631482  수도권\n",
      "2  서울  2005  9762546  수도권\n",
      "3  부산  2015  3448737  경상권\n",
      "4  부산  2010  3393191  경상권\n",
      "5  부산  2005  3512547  경상권\n",
      "6  인천  2015  2890451  수도권\n",
      "7  인천  2010   263203  수도권\n"
     ]
    },
    {
     "data": {
      "text/html": [
       "<div>\n",
       "<style scoped>\n",
       "    .dataframe tbody tr th:only-of-type {\n",
       "        vertical-align: middle;\n",
       "    }\n",
       "\n",
       "    .dataframe tbody tr th {\n",
       "        vertical-align: top;\n",
       "    }\n",
       "\n",
       "    .dataframe thead th {\n",
       "        text-align: right;\n",
       "    }\n",
       "</style>\n",
       "<table border=\"1\" class=\"dataframe\">\n",
       "  <thead>\n",
       "    <tr style=\"text-align: right;\">\n",
       "      <th>연도</th>\n",
       "      <th>2005</th>\n",
       "      <th>2010</th>\n",
       "      <th>2015</th>\n",
       "    </tr>\n",
       "    <tr>\n",
       "      <th>도시</th>\n",
       "      <th></th>\n",
       "      <th></th>\n",
       "      <th></th>\n",
       "    </tr>\n",
       "  </thead>\n",
       "  <tbody>\n",
       "    <tr>\n",
       "      <th>부산</th>\n",
       "      <td>3512547.0</td>\n",
       "      <td>3393191.0</td>\n",
       "      <td>3448737.0</td>\n",
       "    </tr>\n",
       "    <tr>\n",
       "      <th>서울</th>\n",
       "      <td>9762546.0</td>\n",
       "      <td>9631482.0</td>\n",
       "      <td>9904312.0</td>\n",
       "    </tr>\n",
       "    <tr>\n",
       "      <th>인천</th>\n",
       "      <td>NaN</td>\n",
       "      <td>263203.0</td>\n",
       "      <td>2890451.0</td>\n",
       "    </tr>\n",
       "  </tbody>\n",
       "</table>\n",
       "</div>"
      ],
      "text/plain": [
       "연도       2005       2010       2015\n",
       "도시                                 \n",
       "부산  3512547.0  3393191.0  3448737.0\n",
       "서울  9762546.0  9631482.0  9904312.0\n",
       "인천        NaN   263203.0  2890451.0"
      ]
     },
     "execution_count": 147,
     "metadata": {},
     "output_type": "execute_result"
    }
   ],
   "source": [
    "#### 각 도시에서 연도별로 인구수를 알고싶다. ####\n",
    "\n",
    "print(df)\n",
    "\n",
    "df.groupby([\"도시\", \"연도\"])[[\"인구\"]].sum().unstack(1)\n",
    "df.groupby([df.도시, df.연도]).sum().unstack()\n",
    "df.인구.groupby([df.도시, df.연도]).sum().unstack(1)"
   ]
  },
  {
   "cell_type": "code",
   "execution_count": 153,
   "id": "285e897e",
   "metadata": {
    "collapsed": true
   },
   "outputs": [
    {
     "data": {
      "text/html": [
       "<div>\n",
       "<style scoped>\n",
       "    .dataframe tbody tr th:only-of-type {\n",
       "        vertical-align: middle;\n",
       "    }\n",
       "\n",
       "    .dataframe tbody tr th {\n",
       "        vertical-align: top;\n",
       "    }\n",
       "\n",
       "    .dataframe thead th {\n",
       "        text-align: right;\n",
       "    }\n",
       "</style>\n",
       "<table border=\"1\" class=\"dataframe\">\n",
       "  <thead>\n",
       "    <tr style=\"text-align: right;\">\n",
       "      <th>연도</th>\n",
       "      <th>2005</th>\n",
       "      <th>2010</th>\n",
       "      <th>2015</th>\n",
       "    </tr>\n",
       "    <tr>\n",
       "      <th>지역</th>\n",
       "      <th></th>\n",
       "      <th></th>\n",
       "      <th></th>\n",
       "    </tr>\n",
       "  </thead>\n",
       "  <tbody>\n",
       "    <tr>\n",
       "      <th>경상권</th>\n",
       "      <td>3512547</td>\n",
       "      <td>3393191</td>\n",
       "      <td>3448737</td>\n",
       "    </tr>\n",
       "    <tr>\n",
       "      <th>수도권</th>\n",
       "      <td>9762546</td>\n",
       "      <td>9894685</td>\n",
       "      <td>12794763</td>\n",
       "    </tr>\n",
       "  </tbody>\n",
       "</table>\n",
       "</div>"
      ],
      "text/plain": [
       "연도      2005     2010      2015\n",
       "지역                             \n",
       "경상권  3512547  3393191   3448737\n",
       "수도권  9762546  9894685  12794763"
      ]
     },
     "execution_count": 153,
     "metadata": {},
     "output_type": "execute_result"
    }
   ],
   "source": [
    "\"\"\"\n",
    "연도      2005  2010  2015\n",
    "지역\n",
    "경상권    ....\n",
    "수도권    ....\n",
    "\"\"\"\n",
    "\n",
    "df.groupby(by=[\"지역\", \"연도\"]).sum().unstack(1)\n",
    "df.groupby([\"지역\", \"연도\"])[[\"인구\"]].sum().unstack(1)\n",
    "df[\"인구\"].groupby([df[\"지역\"], df[\"연도\"]]).sum().unstack(1)"
   ]
  },
  {
   "cell_type": "markdown",
   "id": "5dd5b6dc",
   "metadata": {},
   "source": [
    "### apply(), agg(), transform()\n",
    "\n",
    "- agg([np.sum, np.mean, np.std, peak_to_peak_ratio]) -> 동시에 여러 결과를 보고 싶을 때 이용"
   ]
  },
  {
   "cell_type": "code",
   "execution_count": 34,
   "id": "eec0a399",
   "metadata": {},
   "outputs": [
    {
     "data": {
      "text/html": [
       "<div>\n",
       "<style scoped>\n",
       "    .dataframe tbody tr th:only-of-type {\n",
       "        vertical-align: middle;\n",
       "    }\n",
       "\n",
       "    .dataframe tbody tr th {\n",
       "        vertical-align: top;\n",
       "    }\n",
       "\n",
       "    .dataframe thead th {\n",
       "        text-align: right;\n",
       "    }\n",
       "</style>\n",
       "<table border=\"1\" class=\"dataframe\">\n",
       "  <thead>\n",
       "    <tr style=\"text-align: right;\">\n",
       "      <th></th>\n",
       "      <th>sepal_length</th>\n",
       "      <th>sepal_width</th>\n",
       "      <th>petal_length</th>\n",
       "      <th>petal_width</th>\n",
       "      <th>species</th>\n",
       "    </tr>\n",
       "  </thead>\n",
       "  <tbody>\n",
       "    <tr>\n",
       "      <th>145</th>\n",
       "      <td>6.7</td>\n",
       "      <td>3.0</td>\n",
       "      <td>5.2</td>\n",
       "      <td>2.3</td>\n",
       "      <td>virginica</td>\n",
       "    </tr>\n",
       "    <tr>\n",
       "      <th>146</th>\n",
       "      <td>6.3</td>\n",
       "      <td>2.5</td>\n",
       "      <td>5.0</td>\n",
       "      <td>1.9</td>\n",
       "      <td>virginica</td>\n",
       "    </tr>\n",
       "    <tr>\n",
       "      <th>147</th>\n",
       "      <td>6.5</td>\n",
       "      <td>3.0</td>\n",
       "      <td>5.2</td>\n",
       "      <td>2.0</td>\n",
       "      <td>virginica</td>\n",
       "    </tr>\n",
       "    <tr>\n",
       "      <th>148</th>\n",
       "      <td>6.2</td>\n",
       "      <td>3.4</td>\n",
       "      <td>5.4</td>\n",
       "      <td>2.3</td>\n",
       "      <td>virginica</td>\n",
       "    </tr>\n",
       "    <tr>\n",
       "      <th>149</th>\n",
       "      <td>5.9</td>\n",
       "      <td>3.0</td>\n",
       "      <td>5.1</td>\n",
       "      <td>1.8</td>\n",
       "      <td>virginica</td>\n",
       "    </tr>\n",
       "  </tbody>\n",
       "</table>\n",
       "</div>"
      ],
      "text/plain": [
       "     sepal_length  sepal_width  petal_length  petal_width    species\n",
       "145           6.7          3.0           5.2          2.3  virginica\n",
       "146           6.3          2.5           5.0          1.9  virginica\n",
       "147           6.5          3.0           5.2          2.0  virginica\n",
       "148           6.2          3.4           5.4          2.3  virginica\n",
       "149           5.9          3.0           5.1          1.8  virginica"
      ]
     },
     "execution_count": 34,
     "metadata": {},
     "output_type": "execute_result"
    }
   ],
   "source": [
    "import seaborn as sns\n",
    "\n",
    "iris = sns.load_dataset(\"iris\")  # 붓꽃의 샘플\n",
    "iris.head()\n",
    "iris.tail()"
   ]
  },
  {
   "cell_type": "code",
   "execution_count": 207,
   "id": "c578ae4d",
   "metadata": {
    "collapsed": true
   },
   "outputs": [
    {
     "name": "stdout",
     "output_type": "stream",
     "text": [
      "            sepal_length  sepal_width  petal_length  petal_width\n",
      "species                                                         \n",
      "setosa          1.348837     1.913043      1.900000     6.000000\n",
      "versicolor      1.428571     1.700000      1.700000     1.800000\n",
      "virginica       1.612245     1.727273      1.533333     1.785714\n",
      "-----------------------------------------------------------------\n",
      "            sepal_length  sepal_width  petal_length  petal_width\n",
      "species                                                         \n",
      "setosa          1.348837     1.913043      1.900000     6.000000\n",
      "versicolor      1.428571     1.700000      1.700000     1.800000\n",
      "virginica       1.612245     1.727273      1.533333     1.785714\n",
      "-----------------------------------------------------------------\n",
      "     sepal_length  sepal_width  petal_length  petal_width\n",
      "0        1.348837     1.913043      1.900000     6.000000\n",
      "1        1.348837     1.913043      1.900000     6.000000\n",
      "2        1.348837     1.913043      1.900000     6.000000\n",
      "3        1.348837     1.913043      1.900000     6.000000\n",
      "4        1.348837     1.913043      1.900000     6.000000\n",
      "..            ...          ...           ...          ...\n",
      "145      1.612245     1.727273      1.533333     1.785714\n",
      "146      1.612245     1.727273      1.533333     1.785714\n",
      "147      1.612245     1.727273      1.533333     1.785714\n",
      "148      1.612245     1.727273      1.533333     1.785714\n",
      "149      1.612245     1.727273      1.533333     1.785714\n",
      "\n",
      "[150 rows x 4 columns]\n"
     ]
    }
   ],
   "source": [
    "#### 각 붓꽃별로 가장 큰 값과 가장 작은 값의 비율 조회\n",
    "\n",
    "# 품종별로 묶고(groupby) -> 큰값과 작은값을 구하고(max(), min()) 둘을 나눠서 비율(함수화)\n",
    "\n",
    "def peak_to_peak_ratio(x):\n",
    "    return x.max() / x.min()\n",
    "\n",
    "###########################################################\n",
    "\n",
    "print(iris.groupby(iris.species).apply(peak_to_peak_ratio))\n",
    "print(\"-----------------------------------------------------------------\")\n",
    "print(iris.groupby(iris.species).agg(peak_to_peak_ratio))\n",
    "print(\"-----------------------------------------------------------------\")\n",
    "print(iris.groupby(iris.species).transform(peak_to_peak_ratio))"
   ]
  },
  {
   "cell_type": "code",
   "execution_count": 169,
   "id": "5bcf60a0",
   "metadata": {
    "collapsed": true
   },
   "outputs": [
    {
     "name": "stdout",
     "output_type": "stream",
     "text": [
      "species\n",
      "setosa        1\n",
      "versicolor    1\n",
      "virginica     1\n",
      "dtype: int64\n",
      "-----------------------------------------------------------------\n",
      "            sepal_length  sepal_width  petal_length  petal_width\n",
      "species                                                         \n",
      "setosa                 1            1             1            1\n",
      "versicolor             1            1             1            1\n",
      "virginica              1            1             1            1\n",
      "-----------------------------------------------------------------\n",
      "     sepal_length  sepal_width  petal_length  petal_width\n",
      "0               1            1             1            1\n",
      "1               1            1             1            1\n",
      "2               1            1             1            1\n",
      "3               1            1             1            1\n",
      "4               1            1             1            1\n",
      "..            ...          ...           ...          ...\n",
      "145             1            1             1            1\n",
      "146             1            1             1            1\n",
      "147             1            1             1            1\n",
      "148             1            1             1            1\n",
      "149             1            1             1            1\n",
      "\n",
      "[150 rows x 4 columns]\n"
     ]
    }
   ],
   "source": [
    "def test(x):\n",
    "    return 1\n",
    "\n",
    "############################################################\n",
    "\n",
    "g = iris.groupby(\"species\")\n",
    "\n",
    "print(g.apply(test))\n",
    "print(\"-----------------------------------------------------------------\")\n",
    "print(g.agg(test))         # 모든 컬럼들을 출력\n",
    "print(\"-----------------------------------------------------------------\")\n",
    "print(g.transform(test))   # 모든 원소를 전부 대응"
   ]
  },
  {
   "cell_type": "code",
   "execution_count": 173,
   "id": "bcf78fca",
   "metadata": {
    "collapsed": true
   },
   "outputs": [
    {
     "data": {
      "text/html": [
       "<div>\n",
       "<style scoped>\n",
       "    .dataframe tbody tr th:only-of-type {\n",
       "        vertical-align: middle;\n",
       "    }\n",
       "\n",
       "    .dataframe tbody tr th {\n",
       "        vertical-align: top;\n",
       "    }\n",
       "\n",
       "    .dataframe thead tr th {\n",
       "        text-align: left;\n",
       "    }\n",
       "\n",
       "    .dataframe thead tr:last-of-type th {\n",
       "        text-align: right;\n",
       "    }\n",
       "</style>\n",
       "<table border=\"1\" class=\"dataframe\">\n",
       "  <thead>\n",
       "    <tr>\n",
       "      <th></th>\n",
       "      <th colspan=\"4\" halign=\"left\">sepal_length</th>\n",
       "      <th colspan=\"4\" halign=\"left\">sepal_width</th>\n",
       "      <th colspan=\"4\" halign=\"left\">petal_length</th>\n",
       "      <th colspan=\"4\" halign=\"left\">petal_width</th>\n",
       "    </tr>\n",
       "    <tr>\n",
       "      <th></th>\n",
       "      <th>sum</th>\n",
       "      <th>mean</th>\n",
       "      <th>std</th>\n",
       "      <th>peak_to_peak_ratio</th>\n",
       "      <th>sum</th>\n",
       "      <th>mean</th>\n",
       "      <th>std</th>\n",
       "      <th>peak_to_peak_ratio</th>\n",
       "      <th>sum</th>\n",
       "      <th>mean</th>\n",
       "      <th>std</th>\n",
       "      <th>peak_to_peak_ratio</th>\n",
       "      <th>sum</th>\n",
       "      <th>mean</th>\n",
       "      <th>std</th>\n",
       "      <th>peak_to_peak_ratio</th>\n",
       "    </tr>\n",
       "    <tr>\n",
       "      <th>species</th>\n",
       "      <th></th>\n",
       "      <th></th>\n",
       "      <th></th>\n",
       "      <th></th>\n",
       "      <th></th>\n",
       "      <th></th>\n",
       "      <th></th>\n",
       "      <th></th>\n",
       "      <th></th>\n",
       "      <th></th>\n",
       "      <th></th>\n",
       "      <th></th>\n",
       "      <th></th>\n",
       "      <th></th>\n",
       "      <th></th>\n",
       "      <th></th>\n",
       "    </tr>\n",
       "  </thead>\n",
       "  <tbody>\n",
       "    <tr>\n",
       "      <th>setosa</th>\n",
       "      <td>250.3</td>\n",
       "      <td>5.006</td>\n",
       "      <td>0.352490</td>\n",
       "      <td>1.348837</td>\n",
       "      <td>171.4</td>\n",
       "      <td>3.428</td>\n",
       "      <td>0.379064</td>\n",
       "      <td>1.913043</td>\n",
       "      <td>73.1</td>\n",
       "      <td>1.462</td>\n",
       "      <td>0.173664</td>\n",
       "      <td>1.900000</td>\n",
       "      <td>12.3</td>\n",
       "      <td>0.246</td>\n",
       "      <td>0.105386</td>\n",
       "      <td>6.000000</td>\n",
       "    </tr>\n",
       "    <tr>\n",
       "      <th>versicolor</th>\n",
       "      <td>296.8</td>\n",
       "      <td>5.936</td>\n",
       "      <td>0.516171</td>\n",
       "      <td>1.428571</td>\n",
       "      <td>138.5</td>\n",
       "      <td>2.770</td>\n",
       "      <td>0.313798</td>\n",
       "      <td>1.700000</td>\n",
       "      <td>213.0</td>\n",
       "      <td>4.260</td>\n",
       "      <td>0.469911</td>\n",
       "      <td>1.700000</td>\n",
       "      <td>66.3</td>\n",
       "      <td>1.326</td>\n",
       "      <td>0.197753</td>\n",
       "      <td>1.800000</td>\n",
       "    </tr>\n",
       "    <tr>\n",
       "      <th>virginica</th>\n",
       "      <td>329.4</td>\n",
       "      <td>6.588</td>\n",
       "      <td>0.635880</td>\n",
       "      <td>1.612245</td>\n",
       "      <td>148.7</td>\n",
       "      <td>2.974</td>\n",
       "      <td>0.322497</td>\n",
       "      <td>1.727273</td>\n",
       "      <td>277.6</td>\n",
       "      <td>5.552</td>\n",
       "      <td>0.551895</td>\n",
       "      <td>1.533333</td>\n",
       "      <td>101.3</td>\n",
       "      <td>2.026</td>\n",
       "      <td>0.274650</td>\n",
       "      <td>1.785714</td>\n",
       "    </tr>\n",
       "  </tbody>\n",
       "</table>\n",
       "</div>"
      ],
      "text/plain": [
       "           sepal_length                                     sepal_width  \\\n",
       "                    sum   mean       std peak_to_peak_ratio         sum   \n",
       "species                                                                   \n",
       "setosa            250.3  5.006  0.352490           1.348837       171.4   \n",
       "versicolor        296.8  5.936  0.516171           1.428571       138.5   \n",
       "virginica         329.4  6.588  0.635880           1.612245       148.7   \n",
       "\n",
       "                                               petal_length                   \\\n",
       "             mean       std peak_to_peak_ratio          sum   mean       std   \n",
       "species                                                                        \n",
       "setosa      3.428  0.379064           1.913043         73.1  1.462  0.173664   \n",
       "versicolor  2.770  0.313798           1.700000        213.0  4.260  0.469911   \n",
       "virginica   2.974  0.322497           1.727273        277.6  5.552  0.551895   \n",
       "\n",
       "                              petal_width                                      \n",
       "           peak_to_peak_ratio         sum   mean       std peak_to_peak_ratio  \n",
       "species                                                                        \n",
       "setosa               1.900000        12.3  0.246  0.105386           6.000000  \n",
       "versicolor           1.700000        66.3  1.326  0.197753           1.800000  \n",
       "virginica            1.533333       101.3  2.026  0.274650           1.785714  "
      ]
     },
     "execution_count": 173,
     "metadata": {},
     "output_type": "execute_result"
    }
   ],
   "source": [
    "iris.groupby(\"species\").agg([np.sum, np.mean, np.std, peak_to_peak_ratio])"
   ]
  },
  {
   "cell_type": "markdown",
   "id": "8b4d0099",
   "metadata": {},
   "source": [
    "## 3) ❗❕ groupby 실습 ❗❕"
   ]
  },
  {
   "cell_type": "code",
   "execution_count": 61,
   "id": "02f3fac1",
   "metadata": {
    "collapsed": true
   },
   "outputs": [
    {
     "data": {
      "text/html": [
       "<div>\n",
       "<style scoped>\n",
       "    .dataframe tbody tr th:only-of-type {\n",
       "        vertical-align: middle;\n",
       "    }\n",
       "\n",
       "    .dataframe tbody tr th {\n",
       "        vertical-align: top;\n",
       "    }\n",
       "\n",
       "    .dataframe thead th {\n",
       "        text-align: right;\n",
       "    }\n",
       "</style>\n",
       "<table border=\"1\" class=\"dataframe\">\n",
       "  <thead>\n",
       "    <tr style=\"text-align: right;\">\n",
       "      <th></th>\n",
       "      <th>sepal_length</th>\n",
       "      <th>sepal_width</th>\n",
       "      <th>petal_length</th>\n",
       "      <th>petal_width</th>\n",
       "      <th>species</th>\n",
       "      <th>petal_length_class</th>\n",
       "    </tr>\n",
       "  </thead>\n",
       "  <tbody>\n",
       "    <tr>\n",
       "      <th>0</th>\n",
       "      <td>5.1</td>\n",
       "      <td>3.5</td>\n",
       "      <td>1.4</td>\n",
       "      <td>0.2</td>\n",
       "      <td>setosa</td>\n",
       "      <td>소</td>\n",
       "    </tr>\n",
       "    <tr>\n",
       "      <th>1</th>\n",
       "      <td>4.9</td>\n",
       "      <td>3.0</td>\n",
       "      <td>1.4</td>\n",
       "      <td>0.2</td>\n",
       "      <td>setosa</td>\n",
       "      <td>소</td>\n",
       "    </tr>\n",
       "    <tr>\n",
       "      <th>2</th>\n",
       "      <td>4.7</td>\n",
       "      <td>3.2</td>\n",
       "      <td>1.3</td>\n",
       "      <td>0.2</td>\n",
       "      <td>setosa</td>\n",
       "      <td>소</td>\n",
       "    </tr>\n",
       "    <tr>\n",
       "      <th>3</th>\n",
       "      <td>4.6</td>\n",
       "      <td>3.1</td>\n",
       "      <td>1.5</td>\n",
       "      <td>0.2</td>\n",
       "      <td>setosa</td>\n",
       "      <td>중</td>\n",
       "    </tr>\n",
       "    <tr>\n",
       "      <th>4</th>\n",
       "      <td>5.0</td>\n",
       "      <td>3.6</td>\n",
       "      <td>1.4</td>\n",
       "      <td>0.2</td>\n",
       "      <td>setosa</td>\n",
       "      <td>소</td>\n",
       "    </tr>\n",
       "    <tr>\n",
       "      <th>...</th>\n",
       "      <td>...</td>\n",
       "      <td>...</td>\n",
       "      <td>...</td>\n",
       "      <td>...</td>\n",
       "      <td>...</td>\n",
       "      <td>...</td>\n",
       "    </tr>\n",
       "    <tr>\n",
       "      <th>145</th>\n",
       "      <td>6.7</td>\n",
       "      <td>3.0</td>\n",
       "      <td>5.2</td>\n",
       "      <td>2.3</td>\n",
       "      <td>virginica</td>\n",
       "      <td>소</td>\n",
       "    </tr>\n",
       "    <tr>\n",
       "      <th>146</th>\n",
       "      <td>6.3</td>\n",
       "      <td>2.5</td>\n",
       "      <td>5.0</td>\n",
       "      <td>1.9</td>\n",
       "      <td>virginica</td>\n",
       "      <td>소</td>\n",
       "    </tr>\n",
       "    <tr>\n",
       "      <th>147</th>\n",
       "      <td>6.5</td>\n",
       "      <td>3.0</td>\n",
       "      <td>5.2</td>\n",
       "      <td>2.0</td>\n",
       "      <td>virginica</td>\n",
       "      <td>소</td>\n",
       "    </tr>\n",
       "    <tr>\n",
       "      <th>148</th>\n",
       "      <td>6.2</td>\n",
       "      <td>3.4</td>\n",
       "      <td>5.4</td>\n",
       "      <td>2.3</td>\n",
       "      <td>virginica</td>\n",
       "      <td>중</td>\n",
       "    </tr>\n",
       "    <tr>\n",
       "      <th>149</th>\n",
       "      <td>5.9</td>\n",
       "      <td>3.0</td>\n",
       "      <td>5.1</td>\n",
       "      <td>1.8</td>\n",
       "      <td>virginica</td>\n",
       "      <td>소</td>\n",
       "    </tr>\n",
       "  </tbody>\n",
       "</table>\n",
       "<p>150 rows × 6 columns</p>\n",
       "</div>"
      ],
      "text/plain": [
       "     sepal_length  sepal_width  petal_length  petal_width    species  \\\n",
       "0             5.1          3.5           1.4          0.2     setosa   \n",
       "1             4.9          3.0           1.4          0.2     setosa   \n",
       "2             4.7          3.2           1.3          0.2     setosa   \n",
       "3             4.6          3.1           1.5          0.2     setosa   \n",
       "4             5.0          3.6           1.4          0.2     setosa   \n",
       "..            ...          ...           ...          ...        ...   \n",
       "145           6.7          3.0           5.2          2.3  virginica   \n",
       "146           6.3          2.5           5.0          1.9  virginica   \n",
       "147           6.5          3.0           5.2          2.0  virginica   \n",
       "148           6.2          3.4           5.4          2.3  virginica   \n",
       "149           5.9          3.0           5.1          1.8  virginica   \n",
       "\n",
       "    petal_length_class  \n",
       "0                    소  \n",
       "1                    소  \n",
       "2                    소  \n",
       "3                    중  \n",
       "4                    소  \n",
       "..                 ...  \n",
       "145                  소  \n",
       "146                  소  \n",
       "147                  소  \n",
       "148                  중  \n",
       "149                  소  \n",
       "\n",
       "[150 rows x 6 columns]"
      ]
     },
     "execution_count": 61,
     "metadata": {},
     "output_type": "execute_result"
    }
   ],
   "source": [
    "# 1. (iris 데이터 이용) 품종별로 petal_length의 값을 대, 중, 소 세가지 값으로 구분해서 조회\n",
    "\n",
    "def func_qcut(x):\n",
    "    return pd.qcut(x, 3, labels=[\"소\", \"중\", \"대\"])\n",
    "\n",
    "###########################################################\n",
    "\n",
    "iris[\"petal_length_class\"] = iris.groupby(\"species\")[\"petal_length\"].apply(func_qcut)\n",
    "iris"
   ]
  },
  {
   "cell_type": "code",
   "execution_count": 235,
   "id": "fd4750c8",
   "metadata": {},
   "outputs": [
    {
     "name": "stdout",
     "output_type": "stream",
     "text": [
      "  city  fruits  price  quantity\n",
      "0   부산   apple    100         1\n",
      "1   부산  orange    200         2\n",
      "2   부산  banana    250         3\n",
      "3   부산  banana    300         4\n",
      "4   서울   apple    150         5\n",
      "5   서울   apple    200         6\n",
      "6   서울  banana    400         7\n"
     ]
    }
   ],
   "source": [
    "df = pd.DataFrame({\n",
    "    'city': ['부산', '부산', '부산', '부산', '서울', '서울', '서울'],\n",
    "    'fruits': ['apple', 'orange', 'banana', 'banana', 'apple', 'apple', 'banana'],\n",
    "    'price': [100, 200, 250, 300, 150, 200, 400],\n",
    "    'quantity': [1, 2, 3, 4, 5, 6, 7]\n",
    "})\n",
    "\n",
    "print(df)"
   ]
  },
  {
   "cell_type": "code",
   "execution_count": 242,
   "id": "f903cc7a",
   "metadata": {},
   "outputs": [
    {
     "data": {
      "text/html": [
       "<div>\n",
       "<style scoped>\n",
       "    .dataframe tbody tr th:only-of-type {\n",
       "        vertical-align: middle;\n",
       "    }\n",
       "\n",
       "    .dataframe tbody tr th {\n",
       "        vertical-align: top;\n",
       "    }\n",
       "\n",
       "    .dataframe thead th {\n",
       "        text-align: right;\n",
       "    }\n",
       "</style>\n",
       "<table border=\"1\" class=\"dataframe\">\n",
       "  <thead>\n",
       "    <tr style=\"text-align: right;\">\n",
       "      <th></th>\n",
       "      <th>price</th>\n",
       "      <th>quantity</th>\n",
       "    </tr>\n",
       "    <tr>\n",
       "      <th>city</th>\n",
       "      <th></th>\n",
       "      <th></th>\n",
       "    </tr>\n",
       "  </thead>\n",
       "  <tbody>\n",
       "    <tr>\n",
       "      <th>부산</th>\n",
       "      <td>212.5</td>\n",
       "      <td>2.5</td>\n",
       "    </tr>\n",
       "    <tr>\n",
       "      <th>서울</th>\n",
       "      <td>250.0</td>\n",
       "      <td>6.0</td>\n",
       "    </tr>\n",
       "  </tbody>\n",
       "</table>\n",
       "</div>"
      ],
      "text/plain": [
       "      price  quantity\n",
       "city                 \n",
       "부산    212.5       2.5\n",
       "서울    250.0       6.0"
      ]
     },
     "execution_count": 242,
     "metadata": {},
     "output_type": "execute_result"
    }
   ],
   "source": [
    "# 2. 도시별로 과일의 가격 평균과 수량 평균을 구하시오\n",
    "\n",
    "df.groupby(\"city\").mean()"
   ]
  },
  {
   "cell_type": "code",
   "execution_count": 243,
   "id": "4ee0452a",
   "metadata": {},
   "outputs": [
    {
     "data": {
      "text/html": [
       "<div>\n",
       "<style scoped>\n",
       "    .dataframe tbody tr th:only-of-type {\n",
       "        vertical-align: middle;\n",
       "    }\n",
       "\n",
       "    .dataframe tbody tr th {\n",
       "        vertical-align: top;\n",
       "    }\n",
       "\n",
       "    .dataframe thead th {\n",
       "        text-align: right;\n",
       "    }\n",
       "</style>\n",
       "<table border=\"1\" class=\"dataframe\">\n",
       "  <thead>\n",
       "    <tr style=\"text-align: right;\">\n",
       "      <th></th>\n",
       "      <th></th>\n",
       "      <th>price</th>\n",
       "      <th>quantity</th>\n",
       "    </tr>\n",
       "    <tr>\n",
       "      <th>city</th>\n",
       "      <th>fruits</th>\n",
       "      <th></th>\n",
       "      <th></th>\n",
       "    </tr>\n",
       "  </thead>\n",
       "  <tbody>\n",
       "    <tr>\n",
       "      <th rowspan=\"3\" valign=\"top\">부산</th>\n",
       "      <th>apple</th>\n",
       "      <td>100.0</td>\n",
       "      <td>1.0</td>\n",
       "    </tr>\n",
       "    <tr>\n",
       "      <th>banana</th>\n",
       "      <td>275.0</td>\n",
       "      <td>3.5</td>\n",
       "    </tr>\n",
       "    <tr>\n",
       "      <th>orange</th>\n",
       "      <td>200.0</td>\n",
       "      <td>2.0</td>\n",
       "    </tr>\n",
       "    <tr>\n",
       "      <th rowspan=\"2\" valign=\"top\">서울</th>\n",
       "      <th>apple</th>\n",
       "      <td>175.0</td>\n",
       "      <td>5.5</td>\n",
       "    </tr>\n",
       "    <tr>\n",
       "      <th>banana</th>\n",
       "      <td>400.0</td>\n",
       "      <td>7.0</td>\n",
       "    </tr>\n",
       "  </tbody>\n",
       "</table>\n",
       "</div>"
      ],
      "text/plain": [
       "             price  quantity\n",
       "city fruits                 \n",
       "부산   apple   100.0       1.0\n",
       "     banana  275.0       3.5\n",
       "     orange  200.0       2.0\n",
       "서울   apple   175.0       5.5\n",
       "     banana  400.0       7.0"
      ]
     },
     "execution_count": 243,
     "metadata": {},
     "output_type": "execute_result"
    }
   ],
   "source": [
    "# 3. 도시별, 과일별 가격 평균과 수량평균을 구하시오\n",
    "\n",
    "df.groupby([\"city\", \"fruits\"]).mean()"
   ]
  },
  {
   "cell_type": "code",
   "execution_count": 244,
   "id": "4335af85",
   "metadata": {},
   "outputs": [
    {
     "data": {
      "text/html": [
       "<div>\n",
       "<style scoped>\n",
       "    .dataframe tbody tr th:only-of-type {\n",
       "        vertical-align: middle;\n",
       "    }\n",
       "\n",
       "    .dataframe tbody tr th {\n",
       "        vertical-align: top;\n",
       "    }\n",
       "\n",
       "    .dataframe thead th {\n",
       "        text-align: right;\n",
       "    }\n",
       "</style>\n",
       "<table border=\"1\" class=\"dataframe\">\n",
       "  <thead>\n",
       "    <tr style=\"text-align: right;\">\n",
       "      <th></th>\n",
       "      <th>city</th>\n",
       "      <th>fruits</th>\n",
       "      <th>price</th>\n",
       "      <th>quantity</th>\n",
       "    </tr>\n",
       "  </thead>\n",
       "  <tbody>\n",
       "    <tr>\n",
       "      <th>0</th>\n",
       "      <td>부산</td>\n",
       "      <td>apple</td>\n",
       "      <td>100.0</td>\n",
       "      <td>1.0</td>\n",
       "    </tr>\n",
       "    <tr>\n",
       "      <th>1</th>\n",
       "      <td>부산</td>\n",
       "      <td>banana</td>\n",
       "      <td>275.0</td>\n",
       "      <td>3.5</td>\n",
       "    </tr>\n",
       "    <tr>\n",
       "      <th>2</th>\n",
       "      <td>부산</td>\n",
       "      <td>orange</td>\n",
       "      <td>200.0</td>\n",
       "      <td>2.0</td>\n",
       "    </tr>\n",
       "    <tr>\n",
       "      <th>3</th>\n",
       "      <td>서울</td>\n",
       "      <td>apple</td>\n",
       "      <td>175.0</td>\n",
       "      <td>5.5</td>\n",
       "    </tr>\n",
       "    <tr>\n",
       "      <th>4</th>\n",
       "      <td>서울</td>\n",
       "      <td>banana</td>\n",
       "      <td>400.0</td>\n",
       "      <td>7.0</td>\n",
       "    </tr>\n",
       "  </tbody>\n",
       "</table>\n",
       "</div>"
      ],
      "text/plain": [
       "  city  fruits  price  quantity\n",
       "0   부산   apple  100.0       1.0\n",
       "1   부산  banana  275.0       3.5\n",
       "2   부산  orange  200.0       2.0\n",
       "3   서울   apple  175.0       5.5\n",
       "4   서울  banana  400.0       7.0"
      ]
     },
     "execution_count": 244,
     "metadata": {},
     "output_type": "execute_result"
    }
   ],
   "source": [
    "# 4. 위의 3번 문제에서 도시별, 과일별을 인덱스로 처리되지 않게 조회하시오\n",
    "#    (reference를 조회하여 groupby함수의 인자를 찾아 처리)\n",
    "\n",
    "#by=None, axis=0, level=None, as_index=True, sort=True, group_keys=_NoDefault.no_default, \n",
    "#squeeze=_NoDefault.no_default, observed=False, dropna=True\n",
    "\n",
    "df.groupby([\"city\", \"fruits\"], as_index=False).mean()"
   ]
  },
  {
   "cell_type": "markdown",
   "id": "44afccb5",
   "metadata": {},
   "source": [
    "## 4) pivot_table()\n",
    "\n",
    "- pivot() + groupby()\n",
    "        \n",
    "        aggfunc=\"mean\" : default값은 mean, 다른 함수 사용 가능\n",
    "        margins=True, margins_name=\"합계\" : 총 합계를 추가, 이름 변경 가능\n",
    "        fill_value=0 : 결측치 지정 가능"
   ]
  },
  {
   "cell_type": "code",
   "execution_count": 180,
   "id": "6954be57",
   "metadata": {
    "collapsed": true
   },
   "outputs": [
    {
     "data": {
      "text/html": [
       "<div>\n",
       "<style scoped>\n",
       "    .dataframe tbody tr th:only-of-type {\n",
       "        vertical-align: middle;\n",
       "    }\n",
       "\n",
       "    .dataframe tbody tr th {\n",
       "        vertical-align: top;\n",
       "    }\n",
       "\n",
       "    .dataframe thead th {\n",
       "        text-align: right;\n",
       "    }\n",
       "</style>\n",
       "<table border=\"1\" class=\"dataframe\">\n",
       "  <thead>\n",
       "    <tr style=\"text-align: right;\">\n",
       "      <th></th>\n",
       "      <th>도시</th>\n",
       "      <th>연도</th>\n",
       "      <th>인구</th>\n",
       "      <th>지역</th>\n",
       "    </tr>\n",
       "  </thead>\n",
       "  <tbody>\n",
       "    <tr>\n",
       "      <th>0</th>\n",
       "      <td>서울</td>\n",
       "      <td>2015</td>\n",
       "      <td>9904312</td>\n",
       "      <td>수도권</td>\n",
       "    </tr>\n",
       "    <tr>\n",
       "      <th>1</th>\n",
       "      <td>서울</td>\n",
       "      <td>2010</td>\n",
       "      <td>9631482</td>\n",
       "      <td>수도권</td>\n",
       "    </tr>\n",
       "    <tr>\n",
       "      <th>2</th>\n",
       "      <td>서울</td>\n",
       "      <td>2005</td>\n",
       "      <td>9762546</td>\n",
       "      <td>수도권</td>\n",
       "    </tr>\n",
       "    <tr>\n",
       "      <th>3</th>\n",
       "      <td>부산</td>\n",
       "      <td>2015</td>\n",
       "      <td>3448737</td>\n",
       "      <td>경상권</td>\n",
       "    </tr>\n",
       "    <tr>\n",
       "      <th>4</th>\n",
       "      <td>부산</td>\n",
       "      <td>2010</td>\n",
       "      <td>3393191</td>\n",
       "      <td>경상권</td>\n",
       "    </tr>\n",
       "    <tr>\n",
       "      <th>5</th>\n",
       "      <td>부산</td>\n",
       "      <td>2005</td>\n",
       "      <td>3512547</td>\n",
       "      <td>경상권</td>\n",
       "    </tr>\n",
       "    <tr>\n",
       "      <th>6</th>\n",
       "      <td>인천</td>\n",
       "      <td>2015</td>\n",
       "      <td>2890451</td>\n",
       "      <td>수도권</td>\n",
       "    </tr>\n",
       "    <tr>\n",
       "      <th>7</th>\n",
       "      <td>인천</td>\n",
       "      <td>2010</td>\n",
       "      <td>263203</td>\n",
       "      <td>수도권</td>\n",
       "    </tr>\n",
       "  </tbody>\n",
       "</table>\n",
       "</div>"
      ],
      "text/plain": [
       "   도시    연도       인구   지역\n",
       "0  서울  2015  9904312  수도권\n",
       "1  서울  2010  9631482  수도권\n",
       "2  서울  2005  9762546  수도권\n",
       "3  부산  2015  3448737  경상권\n",
       "4  부산  2010  3393191  경상권\n",
       "5  부산  2005  3512547  경상권\n",
       "6  인천  2015  2890451  수도권\n",
       "7  인천  2010   263203  수도권"
      ]
     },
     "execution_count": 180,
     "metadata": {},
     "output_type": "execute_result"
    }
   ],
   "source": [
    "data = {\n",
    "    \"도시\": [\"서울\", \"서울\", \"서울\", \"부산\", \"부산\", \"부산\", \"인천\", \"인천\"],\n",
    "    \"연도\": [\"2015\", \"2010\", \"2005\", \"2015\", \"2010\", \"2005\", \"2015\", \"2010\"],\n",
    "    \"인구\": [9904312, 9631482, 9762546, 3448737, 3393191, 3512547, 2890451, 263203],\n",
    "    \"지역\": [\"수도권\", \"수도권\", \"수도권\", \"경상권\", \"경상권\", \"경상권\", \"수도권\", \"수도권\"]\n",
    "}\n",
    "\n",
    "df = pd.DataFrame(data)\n",
    "df"
   ]
  },
  {
   "cell_type": "code",
   "execution_count": 197,
   "id": "495d15f9",
   "metadata": {
    "collapsed": true
   },
   "outputs": [
    {
     "data": {
      "text/html": [
       "<div>\n",
       "<style scoped>\n",
       "    .dataframe tbody tr th:only-of-type {\n",
       "        vertical-align: middle;\n",
       "    }\n",
       "\n",
       "    .dataframe tbody tr th {\n",
       "        vertical-align: top;\n",
       "    }\n",
       "\n",
       "    .dataframe thead th {\n",
       "        text-align: right;\n",
       "    }\n",
       "</style>\n",
       "<table border=\"1\" class=\"dataframe\">\n",
       "  <thead>\n",
       "    <tr style=\"text-align: right;\">\n",
       "      <th>연도</th>\n",
       "      <th>2005</th>\n",
       "      <th>2010</th>\n",
       "      <th>2015</th>\n",
       "    </tr>\n",
       "    <tr>\n",
       "      <th>도시</th>\n",
       "      <th></th>\n",
       "      <th></th>\n",
       "      <th></th>\n",
       "    </tr>\n",
       "  </thead>\n",
       "  <tbody>\n",
       "    <tr>\n",
       "      <th>부산</th>\n",
       "      <td>3512547.0</td>\n",
       "      <td>3393191.0</td>\n",
       "      <td>3448737.0</td>\n",
       "    </tr>\n",
       "    <tr>\n",
       "      <th>서울</th>\n",
       "      <td>9762546.0</td>\n",
       "      <td>9631482.0</td>\n",
       "      <td>9904312.0</td>\n",
       "    </tr>\n",
       "    <tr>\n",
       "      <th>인천</th>\n",
       "      <td>NaN</td>\n",
       "      <td>263203.0</td>\n",
       "      <td>2890451.0</td>\n",
       "    </tr>\n",
       "  </tbody>\n",
       "</table>\n",
       "</div>"
      ],
      "text/plain": [
       "연도       2005       2010       2015\n",
       "도시                                 \n",
       "부산  3512547.0  3393191.0  3448737.0\n",
       "서울  9762546.0  9631482.0  9904312.0\n",
       "인천        NaN   263203.0  2890451.0"
      ]
     },
     "execution_count": 197,
     "metadata": {},
     "output_type": "execute_result"
    }
   ],
   "source": [
    "#### 각 도시에서 연도별로 인구수 구하기\n",
    "\n",
    "df.pivot_table(values=\"인구\", index=\"도시\", columns=\"연도\")\n",
    "df.pivot_table(\"인구\", \"도시\", \"연도\")"
   ]
  },
  {
   "cell_type": "code",
   "execution_count": 192,
   "id": "d0a238c2",
   "metadata": {
    "collapsed": true
   },
   "outputs": [
    {
     "name": "stdout",
     "output_type": "stream",
     "text": [
      "                인구\n",
      "연도   도시           \n",
      "2005 부산  3512547.0\n",
      "     서울  9762546.0\n",
      "2010 부산  3393191.0\n",
      "     서울  9631482.0\n",
      "     인천   263203.0\n",
      "2015 부산  3448737.0\n",
      "     서울  9904312.0\n",
      "     인천  2890451.0\n",
      "-------------------------------------------\n",
      "              인구\n",
      "연도   도시         \n",
      "2005 부산  3512547\n",
      "     서울  9762546\n",
      "2010 부산  3393191\n",
      "     서울  9631482\n",
      "     인천   263203\n",
      "2015 부산  3448737\n",
      "     서울  9904312\n",
      "     인천  2890451\n"
     ]
    },
    {
     "data": {
      "text/html": [
       "<div>\n",
       "<style scoped>\n",
       "    .dataframe tbody tr th:only-of-type {\n",
       "        vertical-align: middle;\n",
       "    }\n",
       "\n",
       "    .dataframe tbody tr th {\n",
       "        vertical-align: top;\n",
       "    }\n",
       "\n",
       "    .dataframe thead th {\n",
       "        text-align: right;\n",
       "    }\n",
       "</style>\n",
       "<table border=\"1\" class=\"dataframe\">\n",
       "  <thead>\n",
       "    <tr style=\"text-align: right;\">\n",
       "      <th></th>\n",
       "      <th></th>\n",
       "      <th>인구</th>\n",
       "    </tr>\n",
       "    <tr>\n",
       "      <th>연도</th>\n",
       "      <th>도시</th>\n",
       "      <th></th>\n",
       "    </tr>\n",
       "  </thead>\n",
       "  <tbody>\n",
       "    <tr>\n",
       "      <th rowspan=\"2\" valign=\"top\">2005</th>\n",
       "      <th>부산</th>\n",
       "      <td>3512547</td>\n",
       "    </tr>\n",
       "    <tr>\n",
       "      <th>서울</th>\n",
       "      <td>9762546</td>\n",
       "    </tr>\n",
       "    <tr>\n",
       "      <th rowspan=\"3\" valign=\"top\">2010</th>\n",
       "      <th>부산</th>\n",
       "      <td>3393191</td>\n",
       "    </tr>\n",
       "    <tr>\n",
       "      <th>서울</th>\n",
       "      <td>9631482</td>\n",
       "    </tr>\n",
       "    <tr>\n",
       "      <th>인천</th>\n",
       "      <td>263203</td>\n",
       "    </tr>\n",
       "    <tr>\n",
       "      <th rowspan=\"3\" valign=\"top\">2015</th>\n",
       "      <th>부산</th>\n",
       "      <td>3448737</td>\n",
       "    </tr>\n",
       "    <tr>\n",
       "      <th>서울</th>\n",
       "      <td>9904312</td>\n",
       "    </tr>\n",
       "    <tr>\n",
       "      <th>인천</th>\n",
       "      <td>2890451</td>\n",
       "    </tr>\n",
       "  </tbody>\n",
       "</table>\n",
       "</div>"
      ],
      "text/plain": [
       "              인구\n",
       "연도   도시         \n",
       "2005 부산  3512547\n",
       "     서울  9762546\n",
       "2010 부산  3393191\n",
       "     서울  9631482\n",
       "     인천   263203\n",
       "2015 부산  3448737\n",
       "     서울  9904312\n",
       "     인천  2890451"
      ]
     },
     "execution_count": 192,
     "metadata": {},
     "output_type": "execute_result"
    }
   ],
   "source": [
    "#### 연도별, 도시별 인구수를 조회\n",
    "\n",
    "#df.pivot(index=[\"연도\", \"도시\"], columns=None, values=\"인구\")\n",
    "print(df.groupby([\"연도\", \"도시\"])[[\"인구\"]].mean())\n",
    "print(\"-------------------------------------------\")\n",
    "print(df.pivot_table(values=\"인구\", index=[\"연도\", \"도시\"]))\n",
    "df.pivot_table(\"인구\", [\"연도\", \"도시\"], aggfunc=\"mean\")"
   ]
  },
  {
   "cell_type": "code",
   "execution_count": 196,
   "id": "07b21bc8",
   "metadata": {
    "collapsed": true
   },
   "outputs": [
    {
     "data": {
      "text/html": [
       "<div>\n",
       "<style scoped>\n",
       "    .dataframe tbody tr th:only-of-type {\n",
       "        vertical-align: middle;\n",
       "    }\n",
       "\n",
       "    .dataframe tbody tr th {\n",
       "        vertical-align: top;\n",
       "    }\n",
       "\n",
       "    .dataframe thead th {\n",
       "        text-align: right;\n",
       "    }\n",
       "</style>\n",
       "<table border=\"1\" class=\"dataframe\">\n",
       "  <thead>\n",
       "    <tr style=\"text-align: right;\">\n",
       "      <th>연도</th>\n",
       "      <th>2005</th>\n",
       "      <th>2010</th>\n",
       "      <th>2015</th>\n",
       "      <th>합계</th>\n",
       "    </tr>\n",
       "    <tr>\n",
       "      <th>도시</th>\n",
       "      <th></th>\n",
       "      <th></th>\n",
       "      <th></th>\n",
       "      <th></th>\n",
       "    </tr>\n",
       "  </thead>\n",
       "  <tbody>\n",
       "    <tr>\n",
       "      <th>부산</th>\n",
       "      <td>3512547</td>\n",
       "      <td>3393191</td>\n",
       "      <td>3448737</td>\n",
       "      <td>10354475</td>\n",
       "    </tr>\n",
       "    <tr>\n",
       "      <th>서울</th>\n",
       "      <td>9762546</td>\n",
       "      <td>9631482</td>\n",
       "      <td>9904312</td>\n",
       "      <td>29298340</td>\n",
       "    </tr>\n",
       "    <tr>\n",
       "      <th>인천</th>\n",
       "      <td>0</td>\n",
       "      <td>263203</td>\n",
       "      <td>2890451</td>\n",
       "      <td>3153654</td>\n",
       "    </tr>\n",
       "    <tr>\n",
       "      <th>합계</th>\n",
       "      <td>13275093</td>\n",
       "      <td>13287876</td>\n",
       "      <td>16243500</td>\n",
       "      <td>42806469</td>\n",
       "    </tr>\n",
       "  </tbody>\n",
       "</table>\n",
       "</div>"
      ],
      "text/plain": [
       "연도      2005      2010      2015        합계\n",
       "도시                                        \n",
       "부산   3512547   3393191   3448737  10354475\n",
       "서울   9762546   9631482   9904312  29298340\n",
       "인천         0    263203   2890451   3153654\n",
       "합계  13275093  13287876  16243500  42806469"
      ]
     },
     "execution_count": 196,
     "metadata": {},
     "output_type": "execute_result"
    }
   ],
   "source": [
    "df.pivot_table(values=\"인구\", index=\"도시\", columns=\"연도\", aggfunc=\"sum\", margins=True, margins_name=\"합계\", fill_value=0)"
   ]
  },
  {
   "cell_type": "markdown",
   "id": "abfc6570",
   "metadata": {},
   "source": [
    "# 8. ❗❕ Pandas 실습 ❗❕"
   ]
  },
  {
   "cell_type": "markdown",
   "id": "f872b1d8",
   "metadata": {},
   "source": [
    "## 1) Data Definition"
   ]
  },
  {
   "cell_type": "code",
   "execution_count": 3,
   "id": "018aac6e",
   "metadata": {
    "collapsed": true
   },
   "outputs": [
    {
     "name": "stdout",
     "output_type": "stream",
     "text": [
      "   total_bill   tip     sex smoker  day    time  size\n",
      "0       16.99  1.01  Female     No  Sun  Dinner     2\n",
      "1       10.34  1.66    Male     No  Sun  Dinner     3\n",
      "2       21.01  3.50    Male     No  Sun  Dinner     3\n",
      "3       23.68  3.31    Male     No  Sun  Dinner     2\n",
      "4       24.59  3.61  Female     No  Sun  Dinner     4\n",
      "-------------------------------------------------------\n",
      "       total_bill         tip        size\n",
      "count  244.000000  244.000000  244.000000\n",
      "mean    19.785943    2.998279    2.569672\n",
      "std      8.902412    1.383638    0.951100\n",
      "min      3.070000    1.000000    1.000000\n",
      "25%     13.347500    2.000000    2.000000\n",
      "50%     17.795000    2.900000    2.000000\n",
      "75%     24.127500    3.562500    3.000000\n",
      "max     50.810000   10.000000    6.000000\n",
      "-------------------------------------------------------\n",
      "<class 'pandas.core.frame.DataFrame'>\n",
      "RangeIndex: 244 entries, 0 to 243\n",
      "Data columns (total 7 columns):\n",
      " #   Column      Non-Null Count  Dtype   \n",
      "---  ------      --------------  -----   \n",
      " 0   total_bill  244 non-null    float64 \n",
      " 1   tip         244 non-null    float64 \n",
      " 2   sex         244 non-null    category\n",
      " 3   smoker      244 non-null    category\n",
      " 4   day         244 non-null    category\n",
      " 5   time        244 non-null    category\n",
      " 6   size        244 non-null    int64   \n",
      "dtypes: category(4), float64(2), int64(1)\n",
      "memory usage: 7.4 KB\n",
      "None\n"
     ]
    }
   ],
   "source": [
    "import seaborn as sns\n",
    "\n",
    "tips = sns.load_dataset(\"tips\")\n",
    "\n",
    "print(tips.head())\n",
    "print(\"-------------------------------------------------------\")\n",
    "print(tips.describe())\n",
    "print(\"-------------------------------------------------------\")\n",
    "print(tips.info())  # 데이터 정보 확인"
   ]
  },
  {
   "cell_type": "markdown",
   "id": "cd80e6fb",
   "metadata": {},
   "source": [
    "## 2) EDA(탐색적 데이터 분석)"
   ]
  },
  {
   "cell_type": "markdown",
   "id": "97450775",
   "metadata": {},
   "source": [
    "### (1) 파생 변수 추가\n",
    "\n",
    "- 식사대금과 팁의 비율을 나타내는 tip_pct라는 변수 추가\n",
    "- 팁의 비율 = tip/total_bill"
   ]
  },
  {
   "cell_type": "code",
   "execution_count": 6,
   "id": "0eb7762d",
   "metadata": {},
   "outputs": [
    {
     "data": {
      "text/html": [
       "<div>\n",
       "<style scoped>\n",
       "    .dataframe tbody tr th:only-of-type {\n",
       "        vertical-align: middle;\n",
       "    }\n",
       "\n",
       "    .dataframe tbody tr th {\n",
       "        vertical-align: top;\n",
       "    }\n",
       "\n",
       "    .dataframe thead th {\n",
       "        text-align: right;\n",
       "    }\n",
       "</style>\n",
       "<table border=\"1\" class=\"dataframe\">\n",
       "  <thead>\n",
       "    <tr style=\"text-align: right;\">\n",
       "      <th></th>\n",
       "      <th>total_bill</th>\n",
       "      <th>tip</th>\n",
       "      <th>sex</th>\n",
       "      <th>smoker</th>\n",
       "      <th>day</th>\n",
       "      <th>time</th>\n",
       "      <th>size</th>\n",
       "      <th>tip_pct</th>\n",
       "    </tr>\n",
       "  </thead>\n",
       "  <tbody>\n",
       "    <tr>\n",
       "      <th>0</th>\n",
       "      <td>16.99</td>\n",
       "      <td>1.01</td>\n",
       "      <td>Female</td>\n",
       "      <td>No</td>\n",
       "      <td>Sun</td>\n",
       "      <td>Dinner</td>\n",
       "      <td>2</td>\n",
       "      <td>0.059447</td>\n",
       "    </tr>\n",
       "    <tr>\n",
       "      <th>1</th>\n",
       "      <td>10.34</td>\n",
       "      <td>1.66</td>\n",
       "      <td>Male</td>\n",
       "      <td>No</td>\n",
       "      <td>Sun</td>\n",
       "      <td>Dinner</td>\n",
       "      <td>3</td>\n",
       "      <td>0.160542</td>\n",
       "    </tr>\n",
       "    <tr>\n",
       "      <th>2</th>\n",
       "      <td>21.01</td>\n",
       "      <td>3.50</td>\n",
       "      <td>Male</td>\n",
       "      <td>No</td>\n",
       "      <td>Sun</td>\n",
       "      <td>Dinner</td>\n",
       "      <td>3</td>\n",
       "      <td>0.166587</td>\n",
       "    </tr>\n",
       "    <tr>\n",
       "      <th>3</th>\n",
       "      <td>23.68</td>\n",
       "      <td>3.31</td>\n",
       "      <td>Male</td>\n",
       "      <td>No</td>\n",
       "      <td>Sun</td>\n",
       "      <td>Dinner</td>\n",
       "      <td>2</td>\n",
       "      <td>0.139780</td>\n",
       "    </tr>\n",
       "    <tr>\n",
       "      <th>4</th>\n",
       "      <td>24.59</td>\n",
       "      <td>3.61</td>\n",
       "      <td>Female</td>\n",
       "      <td>No</td>\n",
       "      <td>Sun</td>\n",
       "      <td>Dinner</td>\n",
       "      <td>4</td>\n",
       "      <td>0.146808</td>\n",
       "    </tr>\n",
       "    <tr>\n",
       "      <th>...</th>\n",
       "      <td>...</td>\n",
       "      <td>...</td>\n",
       "      <td>...</td>\n",
       "      <td>...</td>\n",
       "      <td>...</td>\n",
       "      <td>...</td>\n",
       "      <td>...</td>\n",
       "      <td>...</td>\n",
       "    </tr>\n",
       "    <tr>\n",
       "      <th>239</th>\n",
       "      <td>29.03</td>\n",
       "      <td>5.92</td>\n",
       "      <td>Male</td>\n",
       "      <td>No</td>\n",
       "      <td>Sat</td>\n",
       "      <td>Dinner</td>\n",
       "      <td>3</td>\n",
       "      <td>0.203927</td>\n",
       "    </tr>\n",
       "    <tr>\n",
       "      <th>240</th>\n",
       "      <td>27.18</td>\n",
       "      <td>2.00</td>\n",
       "      <td>Female</td>\n",
       "      <td>Yes</td>\n",
       "      <td>Sat</td>\n",
       "      <td>Dinner</td>\n",
       "      <td>2</td>\n",
       "      <td>0.073584</td>\n",
       "    </tr>\n",
       "    <tr>\n",
       "      <th>241</th>\n",
       "      <td>22.67</td>\n",
       "      <td>2.00</td>\n",
       "      <td>Male</td>\n",
       "      <td>Yes</td>\n",
       "      <td>Sat</td>\n",
       "      <td>Dinner</td>\n",
       "      <td>2</td>\n",
       "      <td>0.088222</td>\n",
       "    </tr>\n",
       "    <tr>\n",
       "      <th>242</th>\n",
       "      <td>17.82</td>\n",
       "      <td>1.75</td>\n",
       "      <td>Male</td>\n",
       "      <td>No</td>\n",
       "      <td>Sat</td>\n",
       "      <td>Dinner</td>\n",
       "      <td>2</td>\n",
       "      <td>0.098204</td>\n",
       "    </tr>\n",
       "    <tr>\n",
       "      <th>243</th>\n",
       "      <td>18.78</td>\n",
       "      <td>3.00</td>\n",
       "      <td>Female</td>\n",
       "      <td>No</td>\n",
       "      <td>Thur</td>\n",
       "      <td>Dinner</td>\n",
       "      <td>2</td>\n",
       "      <td>0.159744</td>\n",
       "    </tr>\n",
       "  </tbody>\n",
       "</table>\n",
       "<p>244 rows × 8 columns</p>\n",
       "</div>"
      ],
      "text/plain": [
       "     total_bill   tip     sex smoker   day    time  size   tip_pct\n",
       "0         16.99  1.01  Female     No   Sun  Dinner     2  0.059447\n",
       "1         10.34  1.66    Male     No   Sun  Dinner     3  0.160542\n",
       "2         21.01  3.50    Male     No   Sun  Dinner     3  0.166587\n",
       "3         23.68  3.31    Male     No   Sun  Dinner     2  0.139780\n",
       "4         24.59  3.61  Female     No   Sun  Dinner     4  0.146808\n",
       "..          ...   ...     ...    ...   ...     ...   ...       ...\n",
       "239       29.03  5.92    Male     No   Sat  Dinner     3  0.203927\n",
       "240       27.18  2.00  Female    Yes   Sat  Dinner     2  0.073584\n",
       "241       22.67  2.00    Male    Yes   Sat  Dinner     2  0.088222\n",
       "242       17.82  1.75    Male     No   Sat  Dinner     2  0.098204\n",
       "243       18.78  3.00  Female     No  Thur  Dinner     2  0.159744\n",
       "\n",
       "[244 rows x 8 columns]"
      ]
     },
     "execution_count": 6,
     "metadata": {},
     "output_type": "execute_result"
    }
   ],
   "source": [
    "tips[\"tip_pct\"] = tips[\"tip\"]/tips[\"total_bill\"]\n",
    "tips"
   ]
  },
  {
   "cell_type": "markdown",
   "id": "07fb01cb",
   "metadata": {},
   "source": [
    "### (2) 성별로 인원수 파악"
   ]
  },
  {
   "cell_type": "code",
   "execution_count": 65,
   "id": "a1386636",
   "metadata": {},
   "outputs": [
    {
     "data": {
      "text/plain": [
       "sex\n",
       "Male      157\n",
       "Female     87\n",
       "dtype: int64"
      ]
     },
     "execution_count": 65,
     "metadata": {},
     "output_type": "execute_result"
    }
   ],
   "source": [
    "tips.value_counts(\"sex\")\n",
    "tips.groupby(\"sex\").count()\n",
    "tips.groupby(\"sex\").size()"
   ]
  },
  {
   "cell_type": "markdown",
   "id": "663a5ff7",
   "metadata": {},
   "source": [
    "### (3) 성별 흡연 유무별로 인원수 파악"
   ]
  },
  {
   "cell_type": "code",
   "execution_count": 66,
   "id": "d40bbc7d",
   "metadata": {},
   "outputs": [
    {
     "data": {
      "text/plain": [
       "sex     smoker\n",
       "Male    Yes       60\n",
       "        No        97\n",
       "Female  Yes       33\n",
       "        No        54\n",
       "dtype: int64"
      ]
     },
     "execution_count": 66,
     "metadata": {},
     "output_type": "execute_result"
    }
   ],
   "source": [
    "tips.groupby([\"sex\", \"smoker\"]).count()\n",
    "tips.groupby([\"sex\", \"smoker\"]).size()"
   ]
  },
  {
   "cell_type": "markdown",
   "id": "0d23a1ca",
   "metadata": {},
   "source": [
    "### (4) 위의 두 정보를 테이블로 tip_pct를 조회\n",
    "\n",
    "- pivot_table() 이용"
   ]
  },
  {
   "cell_type": "code",
   "execution_count": 71,
   "id": "3ad00f5e",
   "metadata": {},
   "outputs": [
    {
     "data": {
      "text/html": [
       "<div>\n",
       "<style scoped>\n",
       "    .dataframe tbody tr th:only-of-type {\n",
       "        vertical-align: middle;\n",
       "    }\n",
       "\n",
       "    .dataframe tbody tr th {\n",
       "        vertical-align: top;\n",
       "    }\n",
       "\n",
       "    .dataframe thead th {\n",
       "        text-align: right;\n",
       "    }\n",
       "</style>\n",
       "<table border=\"1\" class=\"dataframe\">\n",
       "  <thead>\n",
       "    <tr style=\"text-align: right;\">\n",
       "      <th></th>\n",
       "      <th></th>\n",
       "      <th>size</th>\n",
       "      <th>tip_pct</th>\n",
       "    </tr>\n",
       "    <tr>\n",
       "      <th>sex</th>\n",
       "      <th>smoker</th>\n",
       "      <th></th>\n",
       "      <th></th>\n",
       "    </tr>\n",
       "  </thead>\n",
       "  <tbody>\n",
       "    <tr>\n",
       "      <th rowspan=\"2\" valign=\"top\">Male</th>\n",
       "      <th>Yes</th>\n",
       "      <td>2.500000</td>\n",
       "      <td>0.152771</td>\n",
       "    </tr>\n",
       "    <tr>\n",
       "      <th>No</th>\n",
       "      <td>2.711340</td>\n",
       "      <td>0.160669</td>\n",
       "    </tr>\n",
       "    <tr>\n",
       "      <th rowspan=\"2\" valign=\"top\">Female</th>\n",
       "      <th>Yes</th>\n",
       "      <td>2.242424</td>\n",
       "      <td>0.182150</td>\n",
       "    </tr>\n",
       "    <tr>\n",
       "      <th>No</th>\n",
       "      <td>2.592593</td>\n",
       "      <td>0.156921</td>\n",
       "    </tr>\n",
       "  </tbody>\n",
       "</table>\n",
       "</div>"
      ],
      "text/plain": [
       "                   size   tip_pct\n",
       "sex    smoker                    \n",
       "Male   Yes     2.500000  0.152771\n",
       "       No      2.711340  0.160669\n",
       "Female Yes     2.242424  0.182150\n",
       "       No      2.592593  0.156921"
      ]
     },
     "execution_count": 71,
     "metadata": {},
     "output_type": "execute_result"
    }
   ],
   "source": [
    "\"\"\"\n",
    "smorker     yes  no\n",
    "sex\n",
    "  Male      ...\n",
    "  Female    ...\n",
    "\"\"\"\n",
    "\n",
    "tips.pivot_table(index=\"sex\", columns=\"smoker\", values=\"tip_pct\")\n",
    "tips.pivot_table(index=[\"sex\", \"smoker\"], values=\"tip_pct\")\n",
    "tips.pivot_table(index=\"sex\", columns=\"smoker\", values=\"tip_pct\", margins=True)\n",
    "tips.pivot_table(index=[\"sex\", \"smoker\"], values=[\"size\", \"tip_pct\"])"
   ]
  },
  {
   "cell_type": "markdown",
   "id": "d1358904",
   "metadata": {},
   "source": [
    "### (5) 흡연 유무별에 따른 팁 비율 조회\n",
    "\n",
    "- groupby() 이용"
   ]
  },
  {
   "cell_type": "code",
   "execution_count": 72,
   "id": "a3397b69",
   "metadata": {},
   "outputs": [
    {
     "data": {
      "text/html": [
       "<div>\n",
       "<style scoped>\n",
       "    .dataframe tbody tr th:only-of-type {\n",
       "        vertical-align: middle;\n",
       "    }\n",
       "\n",
       "    .dataframe tbody tr th {\n",
       "        vertical-align: top;\n",
       "    }\n",
       "\n",
       "    .dataframe thead th {\n",
       "        text-align: right;\n",
       "    }\n",
       "</style>\n",
       "<table border=\"1\" class=\"dataframe\">\n",
       "  <thead>\n",
       "    <tr style=\"text-align: right;\">\n",
       "      <th></th>\n",
       "      <th>count</th>\n",
       "      <th>mean</th>\n",
       "      <th>std</th>\n",
       "      <th>min</th>\n",
       "      <th>25%</th>\n",
       "      <th>50%</th>\n",
       "      <th>75%</th>\n",
       "      <th>max</th>\n",
       "    </tr>\n",
       "    <tr>\n",
       "      <th>smoker</th>\n",
       "      <th></th>\n",
       "      <th></th>\n",
       "      <th></th>\n",
       "      <th></th>\n",
       "      <th></th>\n",
       "      <th></th>\n",
       "      <th></th>\n",
       "      <th></th>\n",
       "    </tr>\n",
       "  </thead>\n",
       "  <tbody>\n",
       "    <tr>\n",
       "      <th>Yes</th>\n",
       "      <td>93.0</td>\n",
       "      <td>0.163196</td>\n",
       "      <td>0.085119</td>\n",
       "      <td>0.035638</td>\n",
       "      <td>0.106771</td>\n",
       "      <td>0.153846</td>\n",
       "      <td>0.195059</td>\n",
       "      <td>0.710345</td>\n",
       "    </tr>\n",
       "    <tr>\n",
       "      <th>No</th>\n",
       "      <td>151.0</td>\n",
       "      <td>0.159328</td>\n",
       "      <td>0.039910</td>\n",
       "      <td>0.056797</td>\n",
       "      <td>0.136906</td>\n",
       "      <td>0.155625</td>\n",
       "      <td>0.185014</td>\n",
       "      <td>0.291990</td>\n",
       "    </tr>\n",
       "  </tbody>\n",
       "</table>\n",
       "</div>"
      ],
      "text/plain": [
       "        count      mean       std       min       25%       50%       75%  \\\n",
       "smoker                                                                      \n",
       "Yes      93.0  0.163196  0.085119  0.035638  0.106771  0.153846  0.195059   \n",
       "No      151.0  0.159328  0.039910  0.056797  0.136906  0.155625  0.185014   \n",
       "\n",
       "             max  \n",
       "smoker            \n",
       "Yes     0.710345  \n",
       "No      0.291990  "
      ]
     },
     "execution_count": 72,
     "metadata": {},
     "output_type": "execute_result"
    }
   ],
   "source": [
    "tips.groupby(\"smoker\")[\"tip_pct\"].mean()\n",
    "tips.groupby(\"smoker\")[\"tip_pct\"].describe()"
   ]
  },
  {
   "cell_type": "markdown",
   "id": "4cdaa082",
   "metadata": {},
   "source": [
    "### (6) tip의 비율이 요일과 점심/저녁 여부, 인원수에 어떤 영향을 받는지 살펴볼 수 있게 조회\n",
    "\n",
    "- 어떤 요인이 팁에 가장 큰 영향을 미치는지"
   ]
  },
  {
   "cell_type": "code",
   "execution_count": 91,
   "id": "f49fda89",
   "metadata": {
    "collapsed": true
   },
   "outputs": [
    {
     "data": {
      "text/html": [
       "<div>\n",
       "<style scoped>\n",
       "    .dataframe tbody tr th:only-of-type {\n",
       "        vertical-align: middle;\n",
       "    }\n",
       "\n",
       "    .dataframe tbody tr th {\n",
       "        vertical-align: top;\n",
       "    }\n",
       "\n",
       "    .dataframe thead th {\n",
       "        text-align: right;\n",
       "    }\n",
       "</style>\n",
       "<table border=\"1\" class=\"dataframe\">\n",
       "  <thead>\n",
       "    <tr style=\"text-align: right;\">\n",
       "      <th></th>\n",
       "      <th></th>\n",
       "      <th></th>\n",
       "      <th>tip_pct</th>\n",
       "    </tr>\n",
       "    <tr>\n",
       "      <th>day</th>\n",
       "      <th>time</th>\n",
       "      <th>size</th>\n",
       "      <th></th>\n",
       "    </tr>\n",
       "  </thead>\n",
       "  <tbody>\n",
       "    <tr>\n",
       "      <th rowspan=\"7\" valign=\"top\">Thur</th>\n",
       "      <th rowspan=\"6\" valign=\"top\">Lunch</th>\n",
       "      <th>1</th>\n",
       "      <td>0.181728</td>\n",
       "    </tr>\n",
       "    <tr>\n",
       "      <th>2</th>\n",
       "      <td>0.164024</td>\n",
       "    </tr>\n",
       "    <tr>\n",
       "      <th>3</th>\n",
       "      <td>0.144599</td>\n",
       "    </tr>\n",
       "    <tr>\n",
       "      <th>4</th>\n",
       "      <td>0.145515</td>\n",
       "    </tr>\n",
       "    <tr>\n",
       "      <th>5</th>\n",
       "      <td>0.121389</td>\n",
       "    </tr>\n",
       "    <tr>\n",
       "      <th>6</th>\n",
       "      <td>0.173706</td>\n",
       "    </tr>\n",
       "    <tr>\n",
       "      <th>Dinner</th>\n",
       "      <th>2</th>\n",
       "      <td>0.159744</td>\n",
       "    </tr>\n",
       "    <tr>\n",
       "      <th rowspan=\"5\" valign=\"top\">Fri</th>\n",
       "      <th rowspan=\"3\" valign=\"top\">Lunch</th>\n",
       "      <th>1</th>\n",
       "      <td>0.223776</td>\n",
       "    </tr>\n",
       "    <tr>\n",
       "      <th>2</th>\n",
       "      <td>0.181969</td>\n",
       "    </tr>\n",
       "    <tr>\n",
       "      <th>3</th>\n",
       "      <td>0.187735</td>\n",
       "    </tr>\n",
       "    <tr>\n",
       "      <th rowspan=\"2\" valign=\"top\">Dinner</th>\n",
       "      <th>2</th>\n",
       "      <td>0.162659</td>\n",
       "    </tr>\n",
       "    <tr>\n",
       "      <th>4</th>\n",
       "      <td>0.117750</td>\n",
       "    </tr>\n",
       "    <tr>\n",
       "      <th rowspan=\"5\" valign=\"top\">Sat</th>\n",
       "      <th rowspan=\"5\" valign=\"top\">Dinner</th>\n",
       "      <th>1</th>\n",
       "      <td>0.231832</td>\n",
       "    </tr>\n",
       "    <tr>\n",
       "      <th>2</th>\n",
       "      <td>0.155289</td>\n",
       "    </tr>\n",
       "    <tr>\n",
       "      <th>3</th>\n",
       "      <td>0.151439</td>\n",
       "    </tr>\n",
       "    <tr>\n",
       "      <th>4</th>\n",
       "      <td>0.138289</td>\n",
       "    </tr>\n",
       "    <tr>\n",
       "      <th>5</th>\n",
       "      <td>0.106572</td>\n",
       "    </tr>\n",
       "    <tr>\n",
       "      <th rowspan=\"5\" valign=\"top\">Sun</th>\n",
       "      <th rowspan=\"5\" valign=\"top\">Dinner</th>\n",
       "      <th>2</th>\n",
       "      <td>0.180870</td>\n",
       "    </tr>\n",
       "    <tr>\n",
       "      <th>3</th>\n",
       "      <td>0.152662</td>\n",
       "    </tr>\n",
       "    <tr>\n",
       "      <th>4</th>\n",
       "      <td>0.153168</td>\n",
       "    </tr>\n",
       "    <tr>\n",
       "      <th>5</th>\n",
       "      <td>0.159839</td>\n",
       "    </tr>\n",
       "    <tr>\n",
       "      <th>6</th>\n",
       "      <td>0.103799</td>\n",
       "    </tr>\n",
       "  </tbody>\n",
       "</table>\n",
       "</div>"
      ],
      "text/plain": [
       "                   tip_pct\n",
       "day  time   size          \n",
       "Thur Lunch  1     0.181728\n",
       "            2     0.164024\n",
       "            3     0.144599\n",
       "            4     0.145515\n",
       "            5     0.121389\n",
       "            6     0.173706\n",
       "     Dinner 2     0.159744\n",
       "Fri  Lunch  1     0.223776\n",
       "            2     0.181969\n",
       "            3     0.187735\n",
       "     Dinner 2     0.162659\n",
       "            4     0.117750\n",
       "Sat  Dinner 1     0.231832\n",
       "            2     0.155289\n",
       "            3     0.151439\n",
       "            4     0.138289\n",
       "            5     0.106572\n",
       "Sun  Dinner 2     0.180870\n",
       "            3     0.152662\n",
       "            4     0.153168\n",
       "            5     0.159839\n",
       "            6     0.103799"
      ]
     },
     "execution_count": 91,
     "metadata": {},
     "output_type": "execute_result"
    }
   ],
   "source": [
    "tips.pivot_table(index=[\"day\", \"time\"], columns=\"size\", values=\"tip_pct\", fill_value=0).round(2)\n",
    "tips.groupby([\"day\", \"time\", \"size\"])[[\"tip_pct\"]].mean().dropna()"
   ]
  },
  {
   "cell_type": "code",
   "execution_count": 98,
   "id": "898514e5",
   "metadata": {
    "collapsed": true
   },
   "outputs": [
    {
     "data": {
      "text/html": [
       "<div>\n",
       "<style scoped>\n",
       "    .dataframe tbody tr th:only-of-type {\n",
       "        vertical-align: middle;\n",
       "    }\n",
       "\n",
       "    .dataframe tbody tr th {\n",
       "        vertical-align: top;\n",
       "    }\n",
       "\n",
       "    .dataframe thead th {\n",
       "        text-align: right;\n",
       "    }\n",
       "</style>\n",
       "<table border=\"1\" class=\"dataframe\">\n",
       "  <thead>\n",
       "    <tr style=\"text-align: right;\">\n",
       "      <th></th>\n",
       "      <th></th>\n",
       "      <th></th>\n",
       "      <th>tip_pct</th>\n",
       "    </tr>\n",
       "    <tr>\n",
       "      <th>day</th>\n",
       "      <th>time</th>\n",
       "      <th>size</th>\n",
       "      <th></th>\n",
       "    </tr>\n",
       "  </thead>\n",
       "  <tbody>\n",
       "    <tr>\n",
       "      <th rowspan=\"7\" valign=\"top\">Thur</th>\n",
       "      <th rowspan=\"6\" valign=\"top\">Lunch</th>\n",
       "      <th>1</th>\n",
       "      <td>0.181728</td>\n",
       "    </tr>\n",
       "    <tr>\n",
       "      <th>2</th>\n",
       "      <td>0.164024</td>\n",
       "    </tr>\n",
       "    <tr>\n",
       "      <th>3</th>\n",
       "      <td>0.144599</td>\n",
       "    </tr>\n",
       "    <tr>\n",
       "      <th>4</th>\n",
       "      <td>0.145515</td>\n",
       "    </tr>\n",
       "    <tr>\n",
       "      <th>5</th>\n",
       "      <td>0.121389</td>\n",
       "    </tr>\n",
       "    <tr>\n",
       "      <th>6</th>\n",
       "      <td>0.173706</td>\n",
       "    </tr>\n",
       "    <tr>\n",
       "      <th>Dinner</th>\n",
       "      <th>2</th>\n",
       "      <td>0.159744</td>\n",
       "    </tr>\n",
       "    <tr>\n",
       "      <th rowspan=\"5\" valign=\"top\">Fri</th>\n",
       "      <th rowspan=\"3\" valign=\"top\">Lunch</th>\n",
       "      <th>1</th>\n",
       "      <td>0.223776</td>\n",
       "    </tr>\n",
       "    <tr>\n",
       "      <th>2</th>\n",
       "      <td>0.181969</td>\n",
       "    </tr>\n",
       "    <tr>\n",
       "      <th>3</th>\n",
       "      <td>0.187735</td>\n",
       "    </tr>\n",
       "    <tr>\n",
       "      <th rowspan=\"2\" valign=\"top\">Dinner</th>\n",
       "      <th>2</th>\n",
       "      <td>0.162659</td>\n",
       "    </tr>\n",
       "    <tr>\n",
       "      <th>4</th>\n",
       "      <td>0.117750</td>\n",
       "    </tr>\n",
       "    <tr>\n",
       "      <th rowspan=\"5\" valign=\"top\">Sat</th>\n",
       "      <th rowspan=\"5\" valign=\"top\">Dinner</th>\n",
       "      <th>1</th>\n",
       "      <td>0.231832</td>\n",
       "    </tr>\n",
       "    <tr>\n",
       "      <th>2</th>\n",
       "      <td>0.155289</td>\n",
       "    </tr>\n",
       "    <tr>\n",
       "      <th>3</th>\n",
       "      <td>0.151439</td>\n",
       "    </tr>\n",
       "    <tr>\n",
       "      <th>4</th>\n",
       "      <td>0.138289</td>\n",
       "    </tr>\n",
       "    <tr>\n",
       "      <th>5</th>\n",
       "      <td>0.106572</td>\n",
       "    </tr>\n",
       "    <tr>\n",
       "      <th rowspan=\"5\" valign=\"top\">Sun</th>\n",
       "      <th rowspan=\"5\" valign=\"top\">Dinner</th>\n",
       "      <th>2</th>\n",
       "      <td>0.180870</td>\n",
       "    </tr>\n",
       "    <tr>\n",
       "      <th>3</th>\n",
       "      <td>0.152662</td>\n",
       "    </tr>\n",
       "    <tr>\n",
       "      <th>4</th>\n",
       "      <td>0.153168</td>\n",
       "    </tr>\n",
       "    <tr>\n",
       "      <th>5</th>\n",
       "      <td>0.159839</td>\n",
       "    </tr>\n",
       "    <tr>\n",
       "      <th>6</th>\n",
       "      <td>0.103799</td>\n",
       "    </tr>\n",
       "  </tbody>\n",
       "</table>\n",
       "</div>"
      ],
      "text/plain": [
       "                   tip_pct\n",
       "day  time   size          \n",
       "Thur Lunch  1     0.181728\n",
       "            2     0.164024\n",
       "            3     0.144599\n",
       "            4     0.145515\n",
       "            5     0.121389\n",
       "            6     0.173706\n",
       "     Dinner 2     0.159744\n",
       "Fri  Lunch  1     0.223776\n",
       "            2     0.181969\n",
       "            3     0.187735\n",
       "     Dinner 2     0.162659\n",
       "            4     0.117750\n",
       "Sat  Dinner 1     0.231832\n",
       "            2     0.155289\n",
       "            3     0.151439\n",
       "            4     0.138289\n",
       "            5     0.106572\n",
       "Sun  Dinner 2     0.180870\n",
       "            3     0.152662\n",
       "            4     0.153168\n",
       "            5     0.159839\n",
       "            6     0.103799"
      ]
     },
     "execution_count": 98,
     "metadata": {},
     "output_type": "execute_result"
    }
   ],
   "source": [
    "tip_mean = tips.groupby([\"day\", \"time\", \"size\"])[[\"tip_pct\"]].mean()\n",
    "tip_mean[tip_mean.tip_pct.notnull()]"
   ]
  },
  {
   "cell_type": "markdown",
   "id": "72d58b6d",
   "metadata": {},
   "source": [
    "### (7) 성별, 흡연 유무별로 가장 많은 팁과 가장 적은 팁의 차이 조회"
   ]
  },
  {
   "cell_type": "code",
   "execution_count": 52,
   "id": "49320945",
   "metadata": {},
   "outputs": [
    {
     "data": {
      "text/html": [
       "<div>\n",
       "<style scoped>\n",
       "    .dataframe tbody tr th:only-of-type {\n",
       "        vertical-align: middle;\n",
       "    }\n",
       "\n",
       "    .dataframe tbody tr th {\n",
       "        vertical-align: top;\n",
       "    }\n",
       "\n",
       "    .dataframe thead th {\n",
       "        text-align: right;\n",
       "    }\n",
       "</style>\n",
       "<table border=\"1\" class=\"dataframe\">\n",
       "  <thead>\n",
       "    <tr style=\"text-align: right;\">\n",
       "      <th></th>\n",
       "      <th></th>\n",
       "      <th>max</th>\n",
       "      <th>min</th>\n",
       "      <th>Max_min</th>\n",
       "    </tr>\n",
       "    <tr>\n",
       "      <th>sex</th>\n",
       "      <th>smoker</th>\n",
       "      <th></th>\n",
       "      <th></th>\n",
       "      <th></th>\n",
       "    </tr>\n",
       "  </thead>\n",
       "  <tbody>\n",
       "    <tr>\n",
       "      <th rowspan=\"2\" valign=\"top\">Male</th>\n",
       "      <th>Yes</th>\n",
       "      <td>10.0</td>\n",
       "      <td>1.00</td>\n",
       "      <td>9.00</td>\n",
       "    </tr>\n",
       "    <tr>\n",
       "      <th>No</th>\n",
       "      <td>9.0</td>\n",
       "      <td>1.25</td>\n",
       "      <td>7.75</td>\n",
       "    </tr>\n",
       "    <tr>\n",
       "      <th rowspan=\"2\" valign=\"top\">Female</th>\n",
       "      <th>Yes</th>\n",
       "      <td>6.5</td>\n",
       "      <td>1.00</td>\n",
       "      <td>5.50</td>\n",
       "    </tr>\n",
       "    <tr>\n",
       "      <th>No</th>\n",
       "      <td>5.2</td>\n",
       "      <td>1.00</td>\n",
       "      <td>4.20</td>\n",
       "    </tr>\n",
       "  </tbody>\n",
       "</table>\n",
       "</div>"
      ],
      "text/plain": [
       "                max   min  Max_min\n",
       "sex    smoker                     \n",
       "Male   Yes     10.0  1.00     9.00\n",
       "       No       9.0  1.25     7.75\n",
       "Female Yes      6.5  1.00     5.50\n",
       "       No       5.2  1.00     4.20"
      ]
     },
     "execution_count": 52,
     "metadata": {},
     "output_type": "execute_result"
    }
   ],
   "source": [
    "def Max_min(x):\n",
    "    return x.max() - x.min()\n",
    "###############################################################\n",
    "tips.groupby([\"sex\", \"smoker\"])[\"tip\"].agg([max, min, Max_min])"
   ]
  },
  {
   "cell_type": "markdown",
   "id": "67d87eec",
   "metadata": {},
   "source": [
    "# 9. 시계열 데이터\n",
    "\n",
    "- DateTimeIndex 자료형 (날짜를 인덱스로 활용)\n",
    "    - pd.to_datetime() : 문자열을 날짜 타입으로\n",
    "    - pd.date_range() : 특정 범위의 날짜 인덱스를 생성\n",
    "        - periods=n : 주기\n",
    "        - freq : 단위"
   ]
  },
  {
   "cell_type": "markdown",
   "id": "3a6f94a0",
   "metadata": {},
   "source": [
    "## 1) 날짜 타입 변환"
   ]
  },
  {
   "cell_type": "code",
   "execution_count": 106,
   "id": "c6f0a2d8",
   "metadata": {},
   "outputs": [
    {
     "data": {
      "text/plain": [
       "DatetimeIndex(['2023-01-01', '2023-01-04', '2023-01-06', '2023-01-09'], dtype='datetime64[ns]', freq=None)"
      ]
     },
     "execution_count": 106,
     "metadata": {},
     "output_type": "execute_result"
    }
   ],
   "source": [
    "date_str = [\"2023. 1. 1\", \"2023. 1. 4\", \"2023. 1. 6\", \"2023. 1. 9\"]\n",
    "\n",
    "idx = pd.to_datetime(date_str)\n",
    "idx"
   ]
  },
  {
   "cell_type": "code",
   "execution_count": 103,
   "id": "9c888cc2",
   "metadata": {},
   "outputs": [
    {
     "data": {
      "text/plain": [
       "datetime.datetime(2023, 1, 1, 0, 1)"
      ]
     },
     "execution_count": 103,
     "metadata": {},
     "output_type": "execute_result"
    }
   ],
   "source": [
    "import datetime\n",
    "datetime.datetime.strptime(date_str[0], \"%Y. %M. %d\")  # 반복문을 돌려야해서 불편"
   ]
  },
  {
   "cell_type": "code",
   "execution_count": 125,
   "id": "b4eadcd1",
   "metadata": {},
   "outputs": [
    {
     "data": {
      "text/plain": [
       "2023-01-01    1.764052\n",
       "2023-01-04    0.400157\n",
       "2023-01-06    0.978738\n",
       "2023-01-09    2.240893\n",
       "dtype: float64"
      ]
     },
     "execution_count": 125,
     "metadata": {},
     "output_type": "execute_result"
    }
   ],
   "source": [
    "#### 날짜를 인덱스로 활용 ####\n",
    "\n",
    "np.random.seed(0)\n",
    "pd.Series(np.random.randn(4), index=idx)"
   ]
  },
  {
   "cell_type": "markdown",
   "id": "123602ea",
   "metadata": {},
   "source": [
    "## 2) 날짜 데이터 생성"
   ]
  },
  {
   "cell_type": "markdown",
   "id": "2586c5bb",
   "metadata": {},
   "source": [
    "    freq\n",
    "            S : 초   /   T : 분   /   H : 시간   /   D : 일\n",
    "            B : 주말이 아닌 평일\n",
    "            W : 주(일요일)   /   W-MON : 주(월요일)\n",
    "            M : 각 달의 마지막 날   /   MS : 각 달의 첫날\n",
    "            BM : 주말이 아닌 평일중에서 각 달의 마지막 날\n",
    "            BMS : 주말이 아닌 평일중에서 각 달의 첫날\n",
    "            WOM-2THU : 각 달의 두번째 목요일\n",
    "            Q-JAN : 각 분기의 첫 달의 마지막 날\n",
    "            Q-DEC : 각 분기의 마지막 달의 마지막 날"
   ]
  },
  {
   "cell_type": "code",
   "execution_count": 124,
   "id": "4dacb04a",
   "metadata": {},
   "outputs": [
    {
     "data": {
      "text/plain": [
       "DatetimeIndex(['2023-01-01', '2023-01-15', '2023-01-29', '2023-02-12',\n",
       "               '2023-02-26', '2023-03-12', '2023-03-26', '2023-04-09',\n",
       "               '2023-04-23', '2023-05-07', '2023-05-21', '2023-06-04',\n",
       "               '2023-06-18', '2023-07-02', '2023-07-16', '2023-07-30',\n",
       "               '2023-08-13', '2023-08-27', '2023-09-10', '2023-09-24',\n",
       "               '2023-10-08', '2023-10-22', '2023-11-05', '2023-11-19',\n",
       "               '2023-12-03', '2023-12-17', '2023-12-31', '2024-01-14',\n",
       "               '2024-01-28', '2024-02-11'],\n",
       "              dtype='datetime64[ns]', freq='2W-SUN')"
      ]
     },
     "execution_count": 124,
     "metadata": {},
     "output_type": "execute_result"
    }
   ],
   "source": [
    "#### 날짜데이터 생성 ####\n",
    "\n",
    "pd.date_range(\"2023-1-1\", \"2023-4-30\")\n",
    "pd.date_range(\"2023-1-1\", periods=30, freq=\"2W\")"
   ]
  },
  {
   "cell_type": "markdown",
   "id": "a8c5b5ae",
   "metadata": {},
   "source": [
    "## 3) shift 연산"
   ]
  },
  {
   "cell_type": "code",
   "execution_count": 154,
   "id": "13f4162a",
   "metadata": {
    "collapsed": true
   },
   "outputs": [
    {
     "name": "stdout",
     "output_type": "stream",
     "text": [
      "2023-01-31    1.764052\n",
      "2023-02-28    0.400157\n",
      "2023-03-31    0.978738\n",
      "2023-04-30    2.240893\n",
      "Freq: M, dtype: float64\n",
      "-------------------------\n",
      "2023-01-31         NaN\n",
      "2023-02-28    1.764052\n",
      "2023-03-31    0.400157\n",
      "2023-04-30    0.978738\n",
      "Freq: M, dtype: float64\n",
      "-------------------------\n",
      "2023-01-31    0.400157\n",
      "2023-02-28    0.978738\n",
      "2023-03-31    2.240893\n",
      "2023-04-30         NaN\n",
      "Freq: M, dtype: float64\n",
      "-------------------------\n",
      "2023-02-28    1.764052\n",
      "2023-03-31    0.400157\n",
      "2023-04-30    0.978738\n",
      "2023-05-31    2.240893\n",
      "Freq: M, dtype: float64\n",
      "-------------------------\n",
      "2023-02-05    1.764052\n",
      "2023-03-05    0.400157\n",
      "2023-04-02    0.978738\n",
      "2023-05-07    2.240893\n",
      "dtype: float64\n"
     ]
    }
   ],
   "source": [
    "np.random.seed(0)\n",
    "ts = pd.Series(np.random.randn(4), index=pd.date_range(\"2023-1-1\", periods=4, freq=\"M\"))\n",
    "print(ts)\n",
    "print(\"-------------------------\")\n",
    "print(ts.shift(1))\n",
    "print(\"-------------------------\")\n",
    "print(ts.shift(-1))\n",
    "print(\"-------------------------\")\n",
    "print(ts.shift(1, freq=\"M\"))    # 인덱스가 변화\n",
    "print(\"-------------------------\")\n",
    "print(ts.shift(1, freq=\"W\"))"
   ]
  },
  {
   "cell_type": "markdown",
   "id": "183601b1",
   "metadata": {},
   "source": [
    "## 4) resampling\n",
    "\n",
    "- 시간 간격을 재조정\n",
    "- 방법\n",
    "    - 다운샘플링 : 시간 구간이 커지면서 데이터 양이 감소\n",
    "    - 업샘플링 : 시간 구간이 작아지면서 데이터 양이 증가 "
   ]
  },
  {
   "cell_type": "markdown",
   "id": "46cd4705",
   "metadata": {},
   "source": [
    "### (1) 다운샘플링\n",
    "\n",
    "- 데이터가 그룹으로 묶이기 때문에 집계연산을 해서 대표값을 구해야 함"
   ]
  },
  {
   "cell_type": "code",
   "execution_count": 159,
   "id": "dd147b64",
   "metadata": {
    "collapsed": true
   },
   "outputs": [
    {
     "data": {
      "text/plain": [
       "2023-04-01   -0.384880\n",
       "2023-04-02    0.094352\n",
       "2023-04-03   -0.042171\n",
       "2023-04-04   -0.286887\n",
       "2023-04-05   -0.061626\n",
       "2023-04-06   -0.107305\n",
       "2023-04-07   -0.719604\n",
       "2023-04-08   -0.812993\n",
       "2023-04-09    0.274516\n",
       "2023-04-10   -0.890915\n",
       "Freq: D, dtype: float64"
      ]
     },
     "execution_count": 159,
     "metadata": {},
     "output_type": "execute_result"
    }
   ],
   "source": [
    "ts = pd.Series(np.random.randn(100), index=pd.date_range(\"2023-1-1\", periods=100, freq=\"D\"))\n",
    "ts.tail(10)"
   ]
  },
  {
   "cell_type": "code",
   "execution_count": 164,
   "id": "3fbdab19",
   "metadata": {
    "collapsed": true
   },
   "outputs": [
    {
     "name": "stdout",
     "output_type": "stream",
     "text": [
      "2023-01-01   -1.540797\n",
      "2023-01-08   -0.328667\n",
      "2023-01-15   -0.093005\n",
      "2023-01-22   -0.396213\n",
      "2023-01-29    0.005627\n",
      "2023-02-05   -0.287794\n",
      "2023-02-12   -0.509738\n",
      "2023-02-19   -0.021801\n",
      "2023-02-26   -0.106065\n",
      "2023-03-05    0.417940\n",
      "2023-03-12    0.284357\n",
      "2023-03-19    0.305683\n",
      "2023-03-26   -0.368555\n",
      "2023-04-02   -0.194795\n",
      "2023-04-09   -0.250867\n",
      "2023-04-16   -0.890915\n",
      "Freq: W-SUN, dtype: float64\n",
      "---------------------------------\n",
      "2023-01-31   -0.221109\n",
      "2023-02-28   -0.232924\n",
      "2023-03-31    0.099188\n",
      "2023-04-30   -0.293751\n",
      "Freq: M, dtype: float64\n",
      "---------------------------------\n",
      "2023-01-01 00:00:00    0.403739\n",
      "2023-01-01 00:10:00   -3.662432\n",
      "2023-01-01 00:20:00   -4.556258\n",
      "2023-01-01 00:30:00   -2.903870\n",
      "2023-01-01 00:40:00   -5.576132\n",
      "2023-01-01 00:50:00    0.373248\n",
      "Freq: 10T, dtype: float64\n"
     ]
    }
   ],
   "source": [
    "print(ts.resample(\"W\").mean())\n",
    "print(\"---------------------------------\")\n",
    "print(ts.resample(\"M\").mean())\n",
    "print(\"---------------------------------\")\n",
    "tt = pd.Series(np.random.randn(60), index=pd.date_range(\"2023-1-1\", periods=60, freq=\"T\"))\n",
    "print(tt.resample(\"10T\").sum())"
   ]
  },
  {
   "cell_type": "markdown",
   "id": "ded84b70",
   "metadata": {},
   "source": [
    "### (2) 업샘플링\n",
    "\n",
    "- forward filling : 앞에서 나온 데이터를 그대로 사용\n",
    "- backward filling : 뒤에서 나온 데이터를 앞에서 미리 사용"
   ]
  },
  {
   "cell_type": "code",
   "execution_count": 168,
   "id": "af8b5fcb",
   "metadata": {
    "collapsed": true
   },
   "outputs": [
    {
     "name": "stdout",
     "output_type": "stream",
     "text": [
      "2023-01-01 00:00:00   -0.729045\n",
      "2023-01-01 00:01:00    0.196557\n",
      "2023-01-01 00:02:00    0.354758\n",
      "2023-01-01 00:03:00    0.616887\n",
      "2023-01-01 00:04:00    0.008628\n",
      "2023-01-01 00:05:00    0.527004\n",
      "2023-01-01 00:06:00    0.453782\n",
      "2023-01-01 00:07:00   -1.829740\n",
      "2023-01-01 00:08:00    0.037006\n",
      "2023-01-01 00:09:00    0.767902\n",
      "Freq: T, dtype: float64\n",
      "-----------------------------------\n",
      "2023-01-01 00:00:00   -0.729045\n",
      "2023-01-01 00:00:30   -0.729045\n",
      "2023-01-01 00:01:00    0.196557\n",
      "2023-01-01 00:01:30    0.196557\n",
      "2023-01-01 00:02:00    0.354758\n",
      "2023-01-01 00:02:30    0.354758\n",
      "2023-01-01 00:03:00    0.616887\n",
      "2023-01-01 00:03:30    0.616887\n",
      "2023-01-01 00:04:00    0.008628\n",
      "2023-01-01 00:04:30    0.008628\n",
      "Freq: 30S, dtype: float64\n",
      "-----------------------------------\n",
      "2023-01-01 00:00:00   -0.729045\n",
      "2023-01-01 00:00:30    0.196557\n",
      "2023-01-01 00:01:00    0.196557\n",
      "2023-01-01 00:01:30    0.354758\n",
      "2023-01-01 00:02:00    0.354758\n",
      "2023-01-01 00:02:30    0.616887\n",
      "2023-01-01 00:03:00    0.616887\n",
      "2023-01-01 00:03:30    0.008628\n",
      "2023-01-01 00:04:00    0.008628\n",
      "2023-01-01 00:04:30    0.527004\n",
      "Freq: 30S, dtype: float64\n"
     ]
    }
   ],
   "source": [
    "print(tt.head(10))\n",
    "print(\"-----------------------------------\")\n",
    "print(tt.resample(\"30S\").ffill().head(10))\n",
    "print(\"-----------------------------------\")\n",
    "print(tt.resample(\"30S\").bfill().head(10))"
   ]
  }
 ],
 "metadata": {
  "kernelspec": {
   "display_name": "Python 3 (ipykernel)",
   "language": "python",
   "name": "python3"
  },
  "language_info": {
   "codemirror_mode": {
    "name": "ipython",
    "version": 3
   },
   "file_extension": ".py",
   "mimetype": "text/x-python",
   "name": "python",
   "nbconvert_exporter": "python",
   "pygments_lexer": "ipython3",
   "version": "3.9.13"
  }
 },
 "nbformat": 4,
 "nbformat_minor": 5
}
